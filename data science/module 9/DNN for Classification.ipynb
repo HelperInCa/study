{
 "cells": [
  {
   "cell_type": "markdown",
   "metadata": {},
   "source": [
    "1. Understand the problem and read in the data\n",
    "2. Pre-process data, train-test split\n",
    "3. Build and compile a deep learning model"
   ]
  },
  {
   "cell_type": "markdown",
   "metadata": {},
   "source": [
    "# Understand the problem and read in the data"
   ]
  },
  {
   "cell_type": "markdown",
   "metadata": {},
   "source": [
    "This Kaggle challenge is about predicting the onset of diabetes in 5 years or less. \n",
    "Target variable is Outcome. 1 = yes, the person became diabetic in 5 years, and 0 = No, \n",
    "the person did not. This is a binary classification problem. Please check out the Kaggle\n",
    "link here to see feature \n",
    "details - https://www.kaggle.com/uciml/pima-indians-diabetes-database/data"
   ]
  },
  {
   "cell_type": "code",
   "execution_count": 1,
   "metadata": {},
   "outputs": [
    {
     "name": "stderr",
     "output_type": "stream",
     "text": [
      "/anaconda3/lib/python3.6/site-packages/h5py/__init__.py:36: FutureWarning: Conversion of the second argument of issubdtype from `float` to `np.floating` is deprecated. In future, it will be treated as `np.float64 == np.dtype(float).type`.\n",
      "  from ._conv import register_converters as _register_converters\n",
      "Using TensorFlow backend.\n"
     ]
    }
   ],
   "source": [
    "'''Import necessary packages'''\n",
    "from keras.models import Sequential\n",
    "from keras.layers import Dense\n",
    "from sklearn.model_selection import train_test_split\n",
    "import seaborn as sns\n",
    "import numpy as np\n",
    "import pandas as pd\n",
    "\n",
    "%matplotlib inline"
   ]
  },
  {
   "cell_type": "code",
   "execution_count": 2,
   "metadata": {},
   "outputs": [
    {
     "data": {
      "text/plain": [
       "'/Users/ram/Desktop/INFO6105/Module IX'"
      ]
     },
     "execution_count": 2,
     "metadata": {},
     "output_type": "execute_result"
    }
   ],
   "source": [
    "%pwd"
   ]
  },
  {
   "cell_type": "code",
   "execution_count": 3,
   "metadata": {},
   "outputs": [
    {
     "name": "stdout",
     "output_type": "stream",
     "text": [
      "Module V -- DNN for Classification.ipynb\r\n",
      "Module V.ipynb\r\n",
      "Slides.pptx\r\n",
      "Untitled.ipynb\r\n",
      "\u001b[31mpima-indians-diabetes.data\u001b[m\u001b[m\r\n",
      "test.csv\r\n",
      "train.csv\r\n"
     ]
    }
   ],
   "source": [
    "!ls"
   ]
  },
  {
   "cell_type": "code",
   "execution_count": 4,
   "metadata": {},
   "outputs": [],
   "source": [
    "path = 'path to your data goes here'"
   ]
  },
  {
   "cell_type": "code",
   "execution_count": 5,
   "metadata": {},
   "outputs": [
    {
     "name": "stdout",
     "output_type": "stream",
     "text": [
      "(768, 9)\n"
     ]
    },
    {
     "data": {
      "text/html": [
       "<div>\n",
       "<style scoped>\n",
       "    .dataframe tbody tr th:only-of-type {\n",
       "        vertical-align: middle;\n",
       "    }\n",
       "\n",
       "    .dataframe tbody tr th {\n",
       "        vertical-align: top;\n",
       "    }\n",
       "\n",
       "    .dataframe thead th {\n",
       "        text-align: right;\n",
       "    }\n",
       "</style>\n",
       "<table border=\"1\" class=\"dataframe\">\n",
       "  <thead>\n",
       "    <tr style=\"text-align: right;\">\n",
       "      <th></th>\n",
       "      <th>0</th>\n",
       "      <th>1</th>\n",
       "      <th>2</th>\n",
       "      <th>3</th>\n",
       "      <th>4</th>\n",
       "      <th>5</th>\n",
       "      <th>6</th>\n",
       "      <th>7</th>\n",
       "      <th>8</th>\n",
       "    </tr>\n",
       "  </thead>\n",
       "  <tbody>\n",
       "    <tr>\n",
       "      <th>0</th>\n",
       "      <td>6</td>\n",
       "      <td>148</td>\n",
       "      <td>72</td>\n",
       "      <td>35</td>\n",
       "      <td>0</td>\n",
       "      <td>33.6</td>\n",
       "      <td>0.627</td>\n",
       "      <td>50</td>\n",
       "      <td>1</td>\n",
       "    </tr>\n",
       "    <tr>\n",
       "      <th>1</th>\n",
       "      <td>1</td>\n",
       "      <td>85</td>\n",
       "      <td>66</td>\n",
       "      <td>29</td>\n",
       "      <td>0</td>\n",
       "      <td>26.6</td>\n",
       "      <td>0.351</td>\n",
       "      <td>31</td>\n",
       "      <td>0</td>\n",
       "    </tr>\n",
       "  </tbody>\n",
       "</table>\n",
       "</div>"
      ],
      "text/plain": [
       "   0    1   2   3  4     5      6   7  8\n",
       "0  6  148  72  35  0  33.6  0.627  50  1\n",
       "1  1   85  66  29  0  26.6  0.351  31  0"
      ]
     },
     "execution_count": 5,
     "metadata": {},
     "output_type": "execute_result"
    }
   ],
   "source": [
    "df = pd.read_csv(f'{path}/pima-indians-diabetes.data',header = None)\n",
    "print(df.shape)\n",
    "df.head(2)"
   ]
  },
  {
   "cell_type": "markdown",
   "metadata": {},
   "source": [
    "# Pre-process data, train-test split"
   ]
  },
  {
   "cell_type": "code",
   "execution_count": 6,
   "metadata": {},
   "outputs": [],
   "source": [
    "#Separate out X and Y\n",
    "\n",
    "X = df.iloc[:, :8]\n",
    "Y = df.iloc[:, 8:9]"
   ]
  },
  {
   "cell_type": "code",
   "execution_count": 7,
   "metadata": {},
   "outputs": [
    {
     "name": "stdout",
     "output_type": "stream",
     "text": [
      "(514, 8) (254, 8) (514, 1) (254, 1)\n"
     ]
    }
   ],
   "source": [
    "# Train- Test Split\n",
    "(X_train, X_test, Y_train, Y_test) = train_test_split(X, Y, test_size=0.33, random_state=1)\n",
    "print(X_train.shape,X_test.shape,Y_train.shape,Y_test.shape)"
   ]
  },
  {
   "cell_type": "markdown",
   "metadata": {},
   "source": [
    "# Build and compile a deep learning model"
   ]
  },
  {
   "cell_type": "code",
   "execution_count": 8,
   "metadata": {},
   "outputs": [
    {
     "name": "stderr",
     "output_type": "stream",
     "text": [
      "/anaconda3/lib/python3.6/site-packages/ipykernel_launcher.py:3: UserWarning: Update your `Dense` call to the Keras 2 API: `Dense(10, input_dim=8, activation=\"relu\", kernel_initializer=\"uniform\")`\n",
      "  This is separate from the ipykernel package so we can avoid doing imports until\n",
      "/anaconda3/lib/python3.6/site-packages/ipykernel_launcher.py:4: UserWarning: Update your `Dense` call to the Keras 2 API: `Dense(6, activation=\"relu\", kernel_initializer=\"uniform\")`\n",
      "  after removing the cwd from sys.path.\n",
      "/anaconda3/lib/python3.6/site-packages/ipykernel_launcher.py:5: UserWarning: Update your `Dense` call to the Keras 2 API: `Dense(1, activation=\"sigmoid\", kernel_initializer=\"uniform\")`\n",
      "  \"\"\"\n"
     ]
    }
   ],
   "source": [
    "# Build the deep neural network\n",
    "model = Sequential()\n",
    "model.add(Dense(10, input_dim=8, init='uniform', activation='relu'))\n",
    "model.add(Dense(6, init='uniform', activation='relu'))\n",
    "model.add(Dense(1, init='uniform', activation='sigmoid'))"
   ]
  },
  {
   "cell_type": "code",
   "execution_count": 9,
   "metadata": {},
   "outputs": [],
   "source": [
    "# Compile the DNN\n",
    "\n",
    "model.compile(loss='binary_crossentropy', optimizer='adam', metrics=['accuracy'])"
   ]
  },
  {
   "cell_type": "code",
   "execution_count": 10,
   "metadata": {},
   "outputs": [
    {
     "name": "stderr",
     "output_type": "stream",
     "text": [
      "/anaconda3/lib/python3.6/site-packages/ipykernel_launcher.py:3: UserWarning: The `nb_epoch` argument in `fit` has been renamed `epochs`.\n",
      "  This is separate from the ipykernel package so we can avoid doing imports until\n"
     ]
    },
    {
     "name": "stdout",
     "output_type": "stream",
     "text": [
      "Train on 514 samples, validate on 254 samples\n",
      "Epoch 1/100\n",
      "514/514 [==============================] - 1s 1ms/step - loss: 0.6743 - acc: 0.6576 - val_loss: 0.6886 - val_acc: 0.6378\n",
      "Epoch 2/100\n",
      "514/514 [==============================] - 0s 309us/step - loss: 0.6519 - acc: 0.6576 - val_loss: 0.6704 - val_acc: 0.6378\n",
      "Epoch 3/100\n",
      "514/514 [==============================] - 0s 308us/step - loss: 0.6421 - acc: 0.6576 - val_loss: 0.6666 - val_acc: 0.6378\n",
      "Epoch 4/100\n",
      "514/514 [==============================] - 0s 308us/step - loss: 0.6338 - acc: 0.6576 - val_loss: 0.6648 - val_acc: 0.6378\n",
      "Epoch 5/100\n",
      "514/514 [==============================] - 0s 310us/step - loss: 0.6239 - acc: 0.6576 - val_loss: 0.6489 - val_acc: 0.6378\n",
      "Epoch 6/100\n",
      "514/514 [==============================] - 0s 307us/step - loss: 0.6187 - acc: 0.6576 - val_loss: 0.6477 - val_acc: 0.6378\n",
      "Epoch 7/100\n",
      "514/514 [==============================] - 0s 311us/step - loss: 0.6113 - acc: 0.6654 - val_loss: 0.6401 - val_acc: 0.6457\n",
      "Epoch 8/100\n",
      "514/514 [==============================] - 0s 308us/step - loss: 0.6087 - acc: 0.6907 - val_loss: 0.6397 - val_acc: 0.6181\n",
      "Epoch 9/100\n",
      "514/514 [==============================] - 0s 314us/step - loss: 0.5993 - acc: 0.7062 - val_loss: 0.6323 - val_acc: 0.6378\n",
      "Epoch 10/100\n",
      "514/514 [==============================] - 0s 309us/step - loss: 0.6016 - acc: 0.6926 - val_loss: 0.6353 - val_acc: 0.6378\n",
      "Epoch 11/100\n",
      "514/514 [==============================] - 0s 310us/step - loss: 0.6015 - acc: 0.7082 - val_loss: 0.6494 - val_acc: 0.6339\n",
      "Epoch 12/100\n",
      "514/514 [==============================] - 0s 308us/step - loss: 0.5979 - acc: 0.6926 - val_loss: 0.6164 - val_acc: 0.6654\n",
      "Epoch 13/100\n",
      "514/514 [==============================] - 0s 311us/step - loss: 0.5893 - acc: 0.7062 - val_loss: 0.6105 - val_acc: 0.6732\n",
      "Epoch 14/100\n",
      "514/514 [==============================] - 0s 312us/step - loss: 0.5985 - acc: 0.6790 - val_loss: 0.6196 - val_acc: 0.6654\n",
      "Epoch 15/100\n",
      "514/514 [==============================] - 0s 310us/step - loss: 0.5915 - acc: 0.6926 - val_loss: 0.6140 - val_acc: 0.6496\n",
      "Epoch 16/100\n",
      "514/514 [==============================] - 0s 310us/step - loss: 0.5878 - acc: 0.6984 - val_loss: 0.6057 - val_acc: 0.6772\n",
      "Epoch 17/100\n",
      "514/514 [==============================] - 0s 307us/step - loss: 0.5862 - acc: 0.6926 - val_loss: 0.6084 - val_acc: 0.6811\n",
      "Epoch 18/100\n",
      "514/514 [==============================] - 0s 326us/step - loss: 0.5873 - acc: 0.7023 - val_loss: 0.6023 - val_acc: 0.6811\n",
      "Epoch 19/100\n",
      "514/514 [==============================] - 0s 310us/step - loss: 0.5827 - acc: 0.7023 - val_loss: 0.6085 - val_acc: 0.6693\n",
      "Epoch 20/100\n",
      "514/514 [==============================] - 0s 316us/step - loss: 0.5829 - acc: 0.7082 - val_loss: 0.6004 - val_acc: 0.7087\n",
      "Epoch 21/100\n",
      "514/514 [==============================] - 0s 310us/step - loss: 0.5849 - acc: 0.7004 - val_loss: 0.5958 - val_acc: 0.6850\n",
      "Epoch 22/100\n",
      "514/514 [==============================] - 0s 309us/step - loss: 0.5793 - acc: 0.7023 - val_loss: 0.5940 - val_acc: 0.7165\n",
      "Epoch 23/100\n",
      "514/514 [==============================] - 0s 310us/step - loss: 0.5855 - acc: 0.7004 - val_loss: 0.5929 - val_acc: 0.7126\n",
      "Epoch 24/100\n",
      "514/514 [==============================] - 0s 310us/step - loss: 0.5767 - acc: 0.6984 - val_loss: 0.6004 - val_acc: 0.6772\n",
      "Epoch 25/100\n",
      "514/514 [==============================] - 0s 308us/step - loss: 0.5826 - acc: 0.6946 - val_loss: 0.5900 - val_acc: 0.7205\n",
      "Epoch 26/100\n",
      "514/514 [==============================] - 0s 313us/step - loss: 0.5853 - acc: 0.6868 - val_loss: 0.5925 - val_acc: 0.6850\n",
      "Epoch 27/100\n",
      "514/514 [==============================] - 0s 311us/step - loss: 0.5814 - acc: 0.6887 - val_loss: 0.5919 - val_acc: 0.6890\n",
      "Epoch 28/100\n",
      "514/514 [==============================] - 0s 308us/step - loss: 0.5813 - acc: 0.6946 - val_loss: 0.5958 - val_acc: 0.6811\n",
      "Epoch 29/100\n",
      "514/514 [==============================] - 0s 309us/step - loss: 0.5719 - acc: 0.7101 - val_loss: 0.5906 - val_acc: 0.6890\n",
      "Epoch 30/100\n",
      "514/514 [==============================] - 0s 310us/step - loss: 0.5755 - acc: 0.7062 - val_loss: 0.5927 - val_acc: 0.6890\n",
      "Epoch 31/100\n",
      "514/514 [==============================] - 0s 307us/step - loss: 0.5745 - acc: 0.7004 - val_loss: 0.5909 - val_acc: 0.6929\n",
      "Epoch 32/100\n",
      "514/514 [==============================] - 0s 315us/step - loss: 0.5777 - acc: 0.6926 - val_loss: 0.6055 - val_acc: 0.6811\n",
      "Epoch 33/100\n",
      "514/514 [==============================] - 0s 330us/step - loss: 0.5760 - acc: 0.6868 - val_loss: 0.5952 - val_acc: 0.7165\n",
      "Epoch 34/100\n",
      "514/514 [==============================] - 0s 311us/step - loss: 0.5746 - acc: 0.6965 - val_loss: 0.5915 - val_acc: 0.6850\n",
      "Epoch 35/100\n",
      "514/514 [==============================] - 0s 310us/step - loss: 0.5693 - acc: 0.7160 - val_loss: 0.5897 - val_acc: 0.6969\n",
      "Epoch 36/100\n",
      "514/514 [==============================] - 0s 303us/step - loss: 0.5645 - acc: 0.7043 - val_loss: 0.6462 - val_acc: 0.6654\n",
      "Epoch 37/100\n",
      "514/514 [==============================] - 0s 308us/step - loss: 0.5807 - acc: 0.6946 - val_loss: 0.5949 - val_acc: 0.6929\n",
      "Epoch 38/100\n",
      "514/514 [==============================] - 0s 307us/step - loss: 0.5687 - acc: 0.7004 - val_loss: 0.5879 - val_acc: 0.6969\n",
      "Epoch 39/100\n",
      "514/514 [==============================] - 0s 312us/step - loss: 0.5715 - acc: 0.7121 - val_loss: 0.5844 - val_acc: 0.7244\n",
      "Epoch 40/100\n",
      "514/514 [==============================] - 0s 306us/step - loss: 0.5686 - acc: 0.7062 - val_loss: 0.5850 - val_acc: 0.7323\n",
      "Epoch 41/100\n",
      "514/514 [==============================] - 0s 305us/step - loss: 0.5670 - acc: 0.7140 - val_loss: 0.5827 - val_acc: 0.7165\n",
      "Epoch 42/100\n",
      "514/514 [==============================] - 0s 304us/step - loss: 0.5623 - acc: 0.7062 - val_loss: 0.5838 - val_acc: 0.7126\n",
      "Epoch 43/100\n",
      "514/514 [==============================] - 0s 303us/step - loss: 0.5605 - acc: 0.7179 - val_loss: 0.6166 - val_acc: 0.6890\n",
      "Epoch 44/100\n",
      "514/514 [==============================] - 0s 319us/step - loss: 0.5674 - acc: 0.7023 - val_loss: 0.5940 - val_acc: 0.6929\n",
      "Epoch 45/100\n",
      "514/514 [==============================] - 0s 309us/step - loss: 0.5653 - acc: 0.7198 - val_loss: 0.5843 - val_acc: 0.7047\n",
      "Epoch 46/100\n",
      "514/514 [==============================] - 0s 305us/step - loss: 0.5609 - acc: 0.7101 - val_loss: 0.5785 - val_acc: 0.7362\n",
      "Epoch 47/100\n",
      "514/514 [==============================] - 0s 307us/step - loss: 0.5613 - acc: 0.6926 - val_loss: 0.5764 - val_acc: 0.7362\n",
      "Epoch 48/100\n",
      "514/514 [==============================] - 0s 304us/step - loss: 0.5622 - acc: 0.7257 - val_loss: 0.5812 - val_acc: 0.7323\n",
      "Epoch 49/100\n",
      "514/514 [==============================] - 0s 303us/step - loss: 0.5607 - acc: 0.7121 - val_loss: 0.5820 - val_acc: 0.7047\n",
      "Epoch 50/100\n",
      "514/514 [==============================] - 0s 343us/step - loss: 0.5580 - acc: 0.7121 - val_loss: 0.5877 - val_acc: 0.6929\n",
      "Epoch 51/100\n",
      "514/514 [==============================] - 0s 356us/step - loss: 0.5591 - acc: 0.7160 - val_loss: 0.5772 - val_acc: 0.7441\n",
      "Epoch 52/100\n",
      "514/514 [==============================] - 0s 318us/step - loss: 0.5577 - acc: 0.7140 - val_loss: 0.5763 - val_acc: 0.7283\n",
      "Epoch 53/100\n",
      "514/514 [==============================] - 0s 370us/step - loss: 0.5593 - acc: 0.7257 - val_loss: 0.5758 - val_acc: 0.7126\n",
      "Epoch 54/100\n",
      "514/514 [==============================] - 0s 343us/step - loss: 0.5542 - acc: 0.7257 - val_loss: 0.5712 - val_acc: 0.7244\n",
      "Epoch 55/100\n",
      "514/514 [==============================] - 0s 321us/step - loss: 0.5598 - acc: 0.7062 - val_loss: 0.5791 - val_acc: 0.7047\n",
      "Epoch 56/100\n",
      "514/514 [==============================] - 0s 337us/step - loss: 0.5607 - acc: 0.7276 - val_loss: 0.5772 - val_acc: 0.7402\n",
      "Epoch 57/100\n",
      "514/514 [==============================] - 0s 321us/step - loss: 0.5588 - acc: 0.7276 - val_loss: 0.6039 - val_acc: 0.6850\n",
      "Epoch 58/100\n",
      "514/514 [==============================] - 0s 320us/step - loss: 0.5567 - acc: 0.7276 - val_loss: 0.5752 - val_acc: 0.7441\n",
      "Epoch 59/100\n",
      "514/514 [==============================] - 0s 327us/step - loss: 0.5514 - acc: 0.7257 - val_loss: 0.5684 - val_acc: 0.7165\n",
      "Epoch 60/100\n",
      "514/514 [==============================] - 0s 392us/step - loss: 0.5548 - acc: 0.7296 - val_loss: 0.5658 - val_acc: 0.7205\n"
     ]
    },
    {
     "name": "stdout",
     "output_type": "stream",
     "text": [
      "Epoch 61/100\n",
      "514/514 [==============================] - 0s 309us/step - loss: 0.5489 - acc: 0.7276 - val_loss: 0.5656 - val_acc: 0.7283\n",
      "Epoch 62/100\n",
      "514/514 [==============================] - 0s 346us/step - loss: 0.5503 - acc: 0.7276 - val_loss: 0.5722 - val_acc: 0.7323\n",
      "Epoch 63/100\n",
      "514/514 [==============================] - 0s 329us/step - loss: 0.5500 - acc: 0.7276 - val_loss: 0.5679 - val_acc: 0.7165\n",
      "Epoch 64/100\n",
      "514/514 [==============================] - 0s 356us/step - loss: 0.5468 - acc: 0.7121 - val_loss: 0.5699 - val_acc: 0.7402\n",
      "Epoch 65/100\n",
      "514/514 [==============================] - 0s 328us/step - loss: 0.5473 - acc: 0.7296 - val_loss: 0.5641 - val_acc: 0.7480\n",
      "Epoch 66/100\n",
      "514/514 [==============================] - 0s 314us/step - loss: 0.5468 - acc: 0.7374 - val_loss: 0.5585 - val_acc: 0.7283\n",
      "Epoch 67/100\n",
      "514/514 [==============================] - 0s 491us/step - loss: 0.5443 - acc: 0.7335 - val_loss: 0.5552 - val_acc: 0.7480\n",
      "Epoch 68/100\n",
      "514/514 [==============================] - 0s 318us/step - loss: 0.5511 - acc: 0.7335 - val_loss: 0.5654 - val_acc: 0.7480\n",
      "Epoch 69/100\n",
      "514/514 [==============================] - 0s 311us/step - loss: 0.5453 - acc: 0.7296 - val_loss: 0.5590 - val_acc: 0.7362\n",
      "Epoch 70/100\n",
      "514/514 [==============================] - 0s 393us/step - loss: 0.5442 - acc: 0.7257 - val_loss: 0.5581 - val_acc: 0.7520\n",
      "Epoch 71/100\n",
      "514/514 [==============================] - 0s 336us/step - loss: 0.5409 - acc: 0.7393 - val_loss: 0.5601 - val_acc: 0.7559\n",
      "Epoch 72/100\n",
      "514/514 [==============================] - 0s 317us/step - loss: 0.5410 - acc: 0.7412 - val_loss: 0.5590 - val_acc: 0.7520\n",
      "Epoch 73/100\n",
      "514/514 [==============================] - 0s 312us/step - loss: 0.5390 - acc: 0.7276 - val_loss: 0.5524 - val_acc: 0.7559\n",
      "Epoch 74/100\n",
      "514/514 [==============================] - 0s 320us/step - loss: 0.5381 - acc: 0.7335 - val_loss: 0.5777 - val_acc: 0.7165\n",
      "Epoch 75/100\n",
      "514/514 [==============================] - 0s 398us/step - loss: 0.5382 - acc: 0.7218 - val_loss: 0.5505 - val_acc: 0.7638\n",
      "Epoch 76/100\n",
      "514/514 [==============================] - 0s 333us/step - loss: 0.5339 - acc: 0.7471 - val_loss: 0.5599 - val_acc: 0.7362\n",
      "Epoch 77/100\n",
      "514/514 [==============================] - 0s 316us/step - loss: 0.5382 - acc: 0.7315 - val_loss: 0.5443 - val_acc: 0.7480\n",
      "Epoch 78/100\n",
      "514/514 [==============================] - 0s 323us/step - loss: 0.5344 - acc: 0.7315 - val_loss: 0.5425 - val_acc: 0.7677\n",
      "Epoch 79/100\n",
      "514/514 [==============================] - 0s 313us/step - loss: 0.5326 - acc: 0.7315 - val_loss: 0.5440 - val_acc: 0.7520\n",
      "Epoch 80/100\n",
      "514/514 [==============================] - 0s 313us/step - loss: 0.5316 - acc: 0.7451 - val_loss: 0.5384 - val_acc: 0.7402\n",
      "Epoch 81/100\n",
      "514/514 [==============================] - 0s 311us/step - loss: 0.5330 - acc: 0.7471 - val_loss: 0.5480 - val_acc: 0.7402\n",
      "Epoch 82/100\n",
      "514/514 [==============================] - 0s 308us/step - loss: 0.5328 - acc: 0.7412 - val_loss: 0.5472 - val_acc: 0.7165\n",
      "Epoch 83/100\n",
      "514/514 [==============================] - 0s 312us/step - loss: 0.5295 - acc: 0.7490 - val_loss: 0.5346 - val_acc: 0.7559\n",
      "Epoch 84/100\n",
      "514/514 [==============================] - 0s 306us/step - loss: 0.5294 - acc: 0.7374 - val_loss: 0.5399 - val_acc: 0.7441\n",
      "Epoch 85/100\n",
      "514/514 [==============================] - 0s 347us/step - loss: 0.5362 - acc: 0.7471 - val_loss: 0.5449 - val_acc: 0.7598\n",
      "Epoch 86/100\n",
      "514/514 [==============================] - 0s 327us/step - loss: 0.5331 - acc: 0.7374 - val_loss: 0.5399 - val_acc: 0.7402\n",
      "Epoch 87/100\n",
      "514/514 [==============================] - 0s 345us/step - loss: 0.5267 - acc: 0.7315 - val_loss: 0.5394 - val_acc: 0.7638\n",
      "Epoch 88/100\n",
      "514/514 [==============================] - 0s 364us/step - loss: 0.5321 - acc: 0.7257 - val_loss: 0.5350 - val_acc: 0.7559\n",
      "Epoch 89/100\n",
      "514/514 [==============================] - 0s 351us/step - loss: 0.5293 - acc: 0.7471 - val_loss: 0.5399 - val_acc: 0.7441\n",
      "Epoch 90/100\n",
      "514/514 [==============================] - 0s 318us/step - loss: 0.5329 - acc: 0.7335 - val_loss: 0.5367 - val_acc: 0.7520\n",
      "Epoch 91/100\n",
      "514/514 [==============================] - 0s 315us/step - loss: 0.5233 - acc: 0.7354 - val_loss: 0.5735 - val_acc: 0.7323\n",
      "Epoch 92/100\n",
      "514/514 [==============================] - 0s 313us/step - loss: 0.5225 - acc: 0.7374 - val_loss: 0.5369 - val_acc: 0.7559\n",
      "Epoch 93/100\n",
      "514/514 [==============================] - 0s 310us/step - loss: 0.5224 - acc: 0.7432 - val_loss: 0.5411 - val_acc: 0.7520\n",
      "Epoch 94/100\n",
      "514/514 [==============================] - 0s 314us/step - loss: 0.5230 - acc: 0.7451 - val_loss: 0.5411 - val_acc: 0.7441\n",
      "Epoch 95/100\n",
      "514/514 [==============================] - 0s 312us/step - loss: 0.5228 - acc: 0.7510 - val_loss: 0.5216 - val_acc: 0.7559\n",
      "Epoch 96/100\n",
      "514/514 [==============================] - 0s 312us/step - loss: 0.5210 - acc: 0.7529 - val_loss: 0.5331 - val_acc: 0.7441\n",
      "Epoch 97/100\n",
      "514/514 [==============================] - 0s 313us/step - loss: 0.5317 - acc: 0.7335 - val_loss: 0.5408 - val_acc: 0.7480\n",
      "Epoch 98/100\n",
      "514/514 [==============================] - 0s 306us/step - loss: 0.5196 - acc: 0.7490 - val_loss: 0.5283 - val_acc: 0.7638\n",
      "Epoch 99/100\n",
      "514/514 [==============================] - 0s 313us/step - loss: 0.5194 - acc: 0.7471 - val_loss: 0.5317 - val_acc: 0.7559\n",
      "Epoch 100/100\n",
      "514/514 [==============================] - 0s 309us/step - loss: 0.5253 - acc: 0.7607 - val_loss: 0.5216 - val_acc: 0.7795\n"
     ]
    },
    {
     "data": {
      "text/plain": [
       "<keras.callbacks.History at 0x1293e8d68>"
      ]
     },
     "execution_count": 10,
     "metadata": {},
     "output_type": "execute_result"
    }
   ],
   "source": [
    "# Fit the DNN with your train data\n",
    "\n",
    "model.fit(X_train, Y_train, validation_data=(X_test, Y_test), nb_epoch=100, batch_size=5)"
   ]
  },
  {
   "cell_type": "code",
   "execution_count": 11,
   "metadata": {},
   "outputs": [
    {
     "name": "stdout",
     "output_type": "stream",
     "text": [
      "254/254 [==============================] - 0s 45us/step\n",
      "Accuracy: 77.95%\n"
     ]
    }
   ],
   "source": [
    "# Evaluate the model\n",
    "scores = model.evaluate(X_test, Y_test)\n",
    "print (\"Accuracy: %.2f%%\" %(scores[1]*100))"
   ]
  }
 ],
 "metadata": {
  "kernelspec": {
   "display_name": "Python 3",
   "language": "python",
   "name": "python3"
  },
  "language_info": {
   "codemirror_mode": {
    "name": "ipython",
    "version": 3
   },
   "file_extension": ".py",
   "mimetype": "text/x-python",
   "name": "python",
   "nbconvert_exporter": "python",
   "pygments_lexer": "ipython3",
   "version": "3.6.4"
  }
 },
 "nbformat": 4,
 "nbformat_minor": 2
}
