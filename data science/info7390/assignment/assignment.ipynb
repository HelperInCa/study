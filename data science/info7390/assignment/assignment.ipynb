{
 "cells": [
  {
   "cell_type": "markdown",
   "metadata": {},
   "source": [
    "# Assignment\n",
    "Implement a basic k means clustering algorithm"
   ]
  },
  {
   "cell_type": "code",
   "execution_count": null,
   "metadata": {},
   "outputs": [],
   "source": [
    "import pandas as pd\n",
    "import numpy as np\n",
    "import plotly.offline as plt\n",
    "import plotly.graph_objs as go\n",
    "\n",
    "pd.set_option('display.max_columns', 10)\n",
    "\n",
    "\n",
    "def k_means_clustering(path, k):\n",
    "    data = pd.read_csv(path)\n",
    "    data = data[['V1', 'V2']]\n",
    "    k_means = (data.sample(k, replace=False))\n",
    "    k_means2 = pd.DataFrame()\n",
    "    clusters = pd.DataFrame()\n",
    "    print('Initial means:\\n', k_means)\n",
    "\n",
    "    while not k_means2.equals(k_means):\n",
    "\n",
    "        # distance matrix\n",
    "        cluster_count = 0\n",
    "        for idx, k_mean in k_means.iterrows():\n",
    "            clusters[cluster_count] = (data[k_means.columns] - np.array(k_mean)).pow(2).sum(1).pow(0.5)\n",
    "            cluster_count += 1\n",
    "\n",
    "        # update cluster\n",
    "        data['MDCluster'] = clusters.idxmin(axis=1)\n",
    "\n",
    "        # store previous cluster\n",
    "        k_means2 = k_means\n",
    "        k_means = pd.DataFrame()\n",
    "        k_means_frame = data.groupby('MDCluster').agg(np.mean)\n",
    "\n",
    "        k_means[k_means_frame.columns] = k_means_frame[k_means_frame.columns]\n",
    "\n",
    "        print(k_means.equals(k_means2))\n",
    "\n",
    "    # plotting\n",
    "    print('Plotting...')\n",
    "    data_graph = [go.Scatter(\n",
    "        x=data['V1'],\n",
    "        y=data['V2'].where(data['MDCluster'] == c),\n",
    "        mode='markers',\n",
    "        name='Cluster: ' + str(c)\n",
    "    ) for c in range(k)]\n",
    "\n",
    "    data_graph.append(\n",
    "        go.Scatter(\n",
    "            x=k_means['V1'],\n",
    "            y=k_means['V2'],\n",
    "            mode='markers',\n",
    "            marker=dict(\n",
    "                size=10,\n",
    "                color='#000000',\n",
    "            ),\n",
    "            name='Centroids of Clusters'\n",
    "        )\n",
    "    )\n",
    "\n",
    "    plt.plot(data_graph, filename='../output_files/k_means_cluster.html')\n",
    "\n",
    "if __name__ == '__main__':\n",
    "    k_means_clustering(path='../datasets/k_means_clustering_test_1.csv', k=7)\n"
   ]
  },
  {
   "cell_type": "code",
   "execution_count": null,
   "metadata": {},
   "outputs": [],
   "source": []
  }
 ],
 "metadata": {
  "kernelspec": {
   "display_name": "Python 3",
   "language": "python",
   "name": "python3"
  },
  "language_info": {
   "codemirror_mode": {
    "name": "ipython",
    "version": 3
   },
   "file_extension": ".py",
   "mimetype": "text/x-python",
   "name": "python",
   "nbconvert_exporter": "python",
   "pygments_lexer": "ipython3",
   "version": "3.7.1"
  }
 },
 "nbformat": 4,
 "nbformat_minor": 2
}
