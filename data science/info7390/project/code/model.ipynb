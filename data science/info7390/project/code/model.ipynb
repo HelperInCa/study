{
  "nbformat": 4,
  "nbformat_minor": 0,
  "metadata": {
    "kernelspec": {
      "display_name": "Python 3",
      "language": "python",
      "name": "python3"
    },
    "language_info": {
      "codemirror_mode": {
        "name": "ipython",
        "version": 3
      },
      "file_extension": ".py",
      "mimetype": "text/x-python",
      "name": "python",
      "nbconvert_exporter": "python",
      "pygments_lexer": "ipython3",
      "version": "3.7.4"
    },
    "colab": {
      "name": "“3.ipynb”的副本",
      "provenance": [],
      "collapsed_sections": []
    },
    "accelerator": "GPU"
  },
  "cells": [
    {
      "cell_type": "code",
      "metadata": {
        "id": "hROoE7aVBuVo",
        "colab_type": "code",
        "colab": {}
      },
      "source": [
        "import pandas as pd\n",
        "from pandas.api.types import is_string_dtype,is_numeric_dtype\n",
        "import seaborn as sns\n",
        "import matplotlib.pyplot as plt"
      ],
      "execution_count": 0,
      "outputs": []
    },
    {
      "cell_type": "code",
      "metadata": {
        "id": "TvneubwVJNnm",
        "colab_type": "code",
        "outputId": "998ab88a-a96a-470a-ec43-c6b77f10dd61",
        "colab": {
          "base_uri": "https://localhost:8080/",
          "height": 54
        }
      },
      "source": [
        "from google.colab import drive\n",
        "drive.mount('/content/drive')"
      ],
      "execution_count": 210,
      "outputs": [
        {
          "output_type": "stream",
          "text": [
            "Drive already mounted at /content/drive; to attempt to forcibly remount, call drive.mount(\"/content/drive\", force_remount=True).\n"
          ],
          "name": "stdout"
        }
      ]
    },
    {
      "cell_type": "code",
      "metadata": {
        "id": "cCDoc2VWBuVt",
        "colab_type": "code",
        "outputId": "aa5f842a-e9db-443f-96f4-fba60565a1e3",
        "colab": {
          "base_uri": "https://localhost:8080/",
          "height": 194
        }
      },
      "source": [
        "df = pd.read_csv('/content/drive/My Drive/Colab Notebooks/result2010-2020.csv')\n",
        "print(df.shape)\n",
        "df.head(2)"
      ],
      "execution_count": 211,
      "outputs": [
        {
          "output_type": "stream",
          "text": [
            "(82806, 19)\n"
          ],
          "name": "stdout"
        },
        {
          "output_type": "stream",
          "text": [
            "/usr/local/lib/python3.6/dist-packages/IPython/core/interactiveshell.py:2718: DtypeWarning: Columns (5,6) have mixed types.Specify dtype option on import or set low_memory=False.\n",
            "  interactivity=interactivity, compiler=compiler, result=result)\n"
          ],
          "name": "stderr"
        },
        {
          "output_type": "execute_result",
          "data": {
            "text/html": [
              "<div>\n",
              "<style scoped>\n",
              "    .dataframe tbody tr th:only-of-type {\n",
              "        vertical-align: middle;\n",
              "    }\n",
              "\n",
              "    .dataframe tbody tr th {\n",
              "        vertical-align: top;\n",
              "    }\n",
              "\n",
              "    .dataframe thead th {\n",
              "        text-align: right;\n",
              "    }\n",
              "</style>\n",
              "<table border=\"1\" class=\"dataframe\">\n",
              "  <thead>\n",
              "    <tr style=\"text-align: right;\">\n",
              "      <th></th>\n",
              "      <th>primaryTitle</th>\n",
              "      <th>startYear</th>\n",
              "      <th>runtimeMinutes</th>\n",
              "      <th>genres</th>\n",
              "      <th>tconst</th>\n",
              "      <th>averageRating</th>\n",
              "      <th>numVotes</th>\n",
              "      <th>actor</th>\n",
              "      <th>actress</th>\n",
              "      <th>archive_footage</th>\n",
              "      <th>archive_sound</th>\n",
              "      <th>cinematographer</th>\n",
              "      <th>composer</th>\n",
              "      <th>director</th>\n",
              "      <th>editor</th>\n",
              "      <th>producer</th>\n",
              "      <th>production_designer</th>\n",
              "      <th>self</th>\n",
              "      <th>writer</th>\n",
              "    </tr>\n",
              "  </thead>\n",
              "  <tbody>\n",
              "    <tr>\n",
              "      <th>0</th>\n",
              "      <td>The Woman with the Knife</td>\n",
              "      <td>2010</td>\n",
              "      <td>80</td>\n",
              "      <td>Drama,Thriller</td>\n",
              "      <td>tt0064322</td>\n",
              "      <td>6.5</td>\n",
              "      <td>11</td>\n",
              "      <td>nm0863604,nm11266595,nm0224522,nm0467896</td>\n",
              "      <td>nm0896894,nm0021550</td>\n",
              "      <td>NaN</td>\n",
              "      <td>NaN</td>\n",
              "      <td>nm11266596</td>\n",
              "      <td>NaN</td>\n",
              "      <td>NaN</td>\n",
              "      <td>nm0273914</td>\n",
              "      <td>NaN</td>\n",
              "      <td>NaN</td>\n",
              "      <td>NaN</td>\n",
              "      <td>NaN</td>\n",
              "    </tr>\n",
              "    <tr>\n",
              "      <th>1</th>\n",
              "      <td>Pál Adrienn</td>\n",
              "      <td>2010</td>\n",
              "      <td>136</td>\n",
              "      <td>Drama</td>\n",
              "      <td>tt0146592</td>\n",
              "      <td>6.7</td>\n",
              "      <td>466</td>\n",
              "      <td>nm0957482,nm0395827</td>\n",
              "      <td>nm3140529,nm0961563</td>\n",
              "      <td>NaN</td>\n",
              "      <td>NaN</td>\n",
              "      <td>nm1454415</td>\n",
              "      <td>NaN</td>\n",
              "      <td>nm1030585</td>\n",
              "      <td>nm1385818</td>\n",
              "      <td>nm1825349</td>\n",
              "      <td>nm1244017</td>\n",
              "      <td>NaN</td>\n",
              "      <td>nm1921430</td>\n",
              "    </tr>\n",
              "  </tbody>\n",
              "</table>\n",
              "</div>"
            ],
            "text/plain": [
              "               primaryTitle  startYear  ... self     writer\n",
              "0  The Woman with the Knife       2010  ...  NaN        NaN\n",
              "1               Pál Adrienn       2010  ...  NaN  nm1921430\n",
              "\n",
              "[2 rows x 19 columns]"
            ]
          },
          "metadata": {
            "tags": []
          },
          "execution_count": 211
        }
      ]
    },
    {
      "cell_type": "code",
      "metadata": {
        "id": "267CImXBBuVw",
        "colab_type": "code",
        "outputId": "ceaf6940-92c9-4fe0-9be3-550d1e20af8d",
        "colab": {
          "base_uri": "https://localhost:8080/",
          "height": 206
        }
      },
      "source": [
        "df = df.drop([\"tconst\"],axis = 1)\n",
        "print(df.shape)\n",
        "df.head(3)"
      ],
      "execution_count": 212,
      "outputs": [
        {
          "output_type": "stream",
          "text": [
            "(82806, 18)\n"
          ],
          "name": "stdout"
        },
        {
          "output_type": "execute_result",
          "data": {
            "text/html": [
              "<div>\n",
              "<style scoped>\n",
              "    .dataframe tbody tr th:only-of-type {\n",
              "        vertical-align: middle;\n",
              "    }\n",
              "\n",
              "    .dataframe tbody tr th {\n",
              "        vertical-align: top;\n",
              "    }\n",
              "\n",
              "    .dataframe thead th {\n",
              "        text-align: right;\n",
              "    }\n",
              "</style>\n",
              "<table border=\"1\" class=\"dataframe\">\n",
              "  <thead>\n",
              "    <tr style=\"text-align: right;\">\n",
              "      <th></th>\n",
              "      <th>primaryTitle</th>\n",
              "      <th>startYear</th>\n",
              "      <th>runtimeMinutes</th>\n",
              "      <th>genres</th>\n",
              "      <th>averageRating</th>\n",
              "      <th>numVotes</th>\n",
              "      <th>actor</th>\n",
              "      <th>actress</th>\n",
              "      <th>archive_footage</th>\n",
              "      <th>archive_sound</th>\n",
              "      <th>cinematographer</th>\n",
              "      <th>composer</th>\n",
              "      <th>director</th>\n",
              "      <th>editor</th>\n",
              "      <th>producer</th>\n",
              "      <th>production_designer</th>\n",
              "      <th>self</th>\n",
              "      <th>writer</th>\n",
              "    </tr>\n",
              "  </thead>\n",
              "  <tbody>\n",
              "    <tr>\n",
              "      <th>0</th>\n",
              "      <td>The Woman with the Knife</td>\n",
              "      <td>2010</td>\n",
              "      <td>80</td>\n",
              "      <td>Drama,Thriller</td>\n",
              "      <td>6.5</td>\n",
              "      <td>11</td>\n",
              "      <td>nm0863604,nm11266595,nm0224522,nm0467896</td>\n",
              "      <td>nm0896894,nm0021550</td>\n",
              "      <td>NaN</td>\n",
              "      <td>NaN</td>\n",
              "      <td>nm11266596</td>\n",
              "      <td>NaN</td>\n",
              "      <td>NaN</td>\n",
              "      <td>nm0273914</td>\n",
              "      <td>NaN</td>\n",
              "      <td>NaN</td>\n",
              "      <td>NaN</td>\n",
              "      <td>NaN</td>\n",
              "    </tr>\n",
              "    <tr>\n",
              "      <th>1</th>\n",
              "      <td>Pál Adrienn</td>\n",
              "      <td>2010</td>\n",
              "      <td>136</td>\n",
              "      <td>Drama</td>\n",
              "      <td>6.7</td>\n",
              "      <td>466</td>\n",
              "      <td>nm0957482,nm0395827</td>\n",
              "      <td>nm3140529,nm0961563</td>\n",
              "      <td>NaN</td>\n",
              "      <td>NaN</td>\n",
              "      <td>nm1454415</td>\n",
              "      <td>NaN</td>\n",
              "      <td>nm1030585</td>\n",
              "      <td>nm1385818</td>\n",
              "      <td>nm1825349</td>\n",
              "      <td>nm1244017</td>\n",
              "      <td>NaN</td>\n",
              "      <td>nm1921430</td>\n",
              "    </tr>\n",
              "    <tr>\n",
              "      <th>2</th>\n",
              "      <td>So Much for Justice!</td>\n",
              "      <td>2010</td>\n",
              "      <td>100</td>\n",
              "      <td>History</td>\n",
              "      <td>4.5</td>\n",
              "      <td>66</td>\n",
              "      <td>nm0610960,nm0646037,nm0190691,nm1111050</td>\n",
              "      <td>NaN</td>\n",
              "      <td>NaN</td>\n",
              "      <td>NaN</td>\n",
              "      <td>nm0417349</td>\n",
              "      <td>NaN</td>\n",
              "      <td>nm0417352</td>\n",
              "      <td>nm0417347,nm0190793</td>\n",
              "      <td>nm1064504,nm0687867</td>\n",
              "      <td>NaN</td>\n",
              "      <td>NaN</td>\n",
              "      <td>NaN</td>\n",
              "    </tr>\n",
              "  </tbody>\n",
              "</table>\n",
              "</div>"
            ],
            "text/plain": [
              "               primaryTitle  startYear  ... self     writer\n",
              "0  The Woman with the Knife       2010  ...  NaN        NaN\n",
              "1               Pál Adrienn       2010  ...  NaN  nm1921430\n",
              "2      So Much for Justice!       2010  ...  NaN        NaN\n",
              "\n",
              "[3 rows x 18 columns]"
            ]
          },
          "metadata": {
            "tags": []
          },
          "execution_count": 212
        }
      ]
    },
    {
      "cell_type": "code",
      "metadata": {
        "id": "RKKEvZFFBuVz",
        "colab_type": "code",
        "outputId": "ac3d6faa-d20a-4cbd-8ee6-f92e188be946",
        "colab": {
          "base_uri": "https://localhost:8080/",
          "height": 475
        }
      },
      "source": [
        "''' Deal with missing values. First, calculate the percentage of\n",
        "missing values for every column, and plot them as a bar chart'''\n",
        "\n",
        "null_vals = df.isnull().sum()/len(df)*100\n",
        "null_vals = pd.DataFrame(null_vals)\n",
        "null_vals.reset_index(inplace = True)\n",
        "null_vals.columns = [\"Feature\",\"Percent missing\"]\n",
        "plt.figure(figsize = (8,6))\n",
        "plt.xticks(rotation=45)\n",
        "sns.barplot(x = \"Feature\",y =\"Percent missing\",data = null_vals)"
      ],
      "execution_count": 213,
      "outputs": [
        {
          "output_type": "execute_result",
          "data": {
            "text/plain": [
              "<matplotlib.axes._subplots.AxesSubplot at 0x7f4606abbfd0>"
            ]
          },
          "metadata": {
            "tags": []
          },
          "execution_count": 213
        },
        {
          "output_type": "display_data",
          "data": {
            "image/png": "[encoded data removed]",
            "text/plain": [
              "<Figure size 576x432 with 1 Axes>"
            ]
          },
          "metadata": {
            "tags": [],
            "needs_background": "light"
          }
        }
      ]
    },
    {
      "cell_type": "code",
      "metadata": {
        "id": "lXupxpqqBuV2",
        "colab_type": "code",
        "outputId": "95c83983-dd56-4b77-c1c6-ac86aac7130e",
        "colab": {
          "base_uri": "https://localhost:8080/",
          "height": 206
        }
      },
      "source": [
        "# archive_footage, archive_sound, cinematographer, composer, editor, production_designer, self, writer have missing \n",
        "# values more than 40%, which means people may not pay much attention to these categories when they search for movies,\n",
        "# and they may not effect the rating results. Thus we remove them.\n",
        "\n",
        "df = df.drop([\"archive_footage\",\"archive_sound\",\"cinematographer\", \"composer\", \"editor\", \"production_designer\", \"self\", \"writer\"],axis = 1)\n",
        "print(df.shape)\n",
        "df.head(3)\n"
      ],
      "execution_count": 214,
      "outputs": [
        {
          "output_type": "stream",
          "text": [
            "(82806, 10)\n"
          ],
          "name": "stdout"
        },
        {
          "output_type": "execute_result",
          "data": {
            "text/html": [
              "<div>\n",
              "<style scoped>\n",
              "    .dataframe tbody tr th:only-of-type {\n",
              "        vertical-align: middle;\n",
              "    }\n",
              "\n",
              "    .dataframe tbody tr th {\n",
              "        vertical-align: top;\n",
              "    }\n",
              "\n",
              "    .dataframe thead th {\n",
              "        text-align: right;\n",
              "    }\n",
              "</style>\n",
              "<table border=\"1\" class=\"dataframe\">\n",
              "  <thead>\n",
              "    <tr style=\"text-align: right;\">\n",
              "      <th></th>\n",
              "      <th>primaryTitle</th>\n",
              "      <th>startYear</th>\n",
              "      <th>runtimeMinutes</th>\n",
              "      <th>genres</th>\n",
              "      <th>averageRating</th>\n",
              "      <th>numVotes</th>\n",
              "      <th>actor</th>\n",
              "      <th>actress</th>\n",
              "      <th>director</th>\n",
              "      <th>producer</th>\n",
              "    </tr>\n",
              "  </thead>\n",
              "  <tbody>\n",
              "    <tr>\n",
              "      <th>0</th>\n",
              "      <td>The Woman with the Knife</td>\n",
              "      <td>2010</td>\n",
              "      <td>80</td>\n",
              "      <td>Drama,Thriller</td>\n",
              "      <td>6.5</td>\n",
              "      <td>11</td>\n",
              "      <td>nm0863604,nm11266595,nm0224522,nm0467896</td>\n",
              "      <td>nm0896894,nm0021550</td>\n",
              "      <td>NaN</td>\n",
              "      <td>NaN</td>\n",
              "    </tr>\n",
              "    <tr>\n",
              "      <th>1</th>\n",
              "      <td>Pál Adrienn</td>\n",
              "      <td>2010</td>\n",
              "      <td>136</td>\n",
              "      <td>Drama</td>\n",
              "      <td>6.7</td>\n",
              "      <td>466</td>\n",
              "      <td>nm0957482,nm0395827</td>\n",
              "      <td>nm3140529,nm0961563</td>\n",
              "      <td>nm1030585</td>\n",
              "      <td>nm1825349</td>\n",
              "    </tr>\n",
              "    <tr>\n",
              "      <th>2</th>\n",
              "      <td>So Much for Justice!</td>\n",
              "      <td>2010</td>\n",
              "      <td>100</td>\n",
              "      <td>History</td>\n",
              "      <td>4.5</td>\n",
              "      <td>66</td>\n",
              "      <td>nm0610960,nm0646037,nm0190691,nm1111050</td>\n",
              "      <td>NaN</td>\n",
              "      <td>nm0417352</td>\n",
              "      <td>nm1064504,nm0687867</td>\n",
              "    </tr>\n",
              "  </tbody>\n",
              "</table>\n",
              "</div>"
            ],
            "text/plain": [
              "               primaryTitle  startYear  ...   director             producer\n",
              "0  The Woman with the Knife       2010  ...        NaN                  NaN\n",
              "1               Pál Adrienn       2010  ...  nm1030585            nm1825349\n",
              "2      So Much for Justice!       2010  ...  nm0417352  nm1064504,nm0687867\n",
              "\n",
              "[3 rows x 10 columns]"
            ]
          },
          "metadata": {
            "tags": []
          },
          "execution_count": 214
        }
      ]
    },
    {
      "cell_type": "code",
      "metadata": {
        "id": "YKvV_7s_BuV4",
        "colab_type": "code",
        "outputId": "6fd9f37f-9b55-4d7c-86ce-5d227a2e326e",
        "colab": {
          "base_uri": "https://localhost:8080/",
          "height": 206
        }
      },
      "source": [
        "# There are still so much NaN in the dataset, we may drop and replace some lines.\n",
        "\n",
        "# First, drop lines without rating and and numVotes.\n",
        "df = df[df['averageRating'].notna()]\n",
        "df = df[df['numVotes'].notna()]\n",
        "print(df.shape)\n",
        "df.head(3)"
      ],
      "execution_count": 215,
      "outputs": [
        {
          "output_type": "stream",
          "text": [
            "(82507, 10)\n"
          ],
          "name": "stdout"
        },
        {
          "output_type": "execute_result",
          "data": {
            "text/html": [
              "<div>\n",
              "<style scoped>\n",
              "    .dataframe tbody tr th:only-of-type {\n",
              "        vertical-align: middle;\n",
              "    }\n",
              "\n",
              "    .dataframe tbody tr th {\n",
              "        vertical-align: top;\n",
              "    }\n",
              "\n",
              "    .dataframe thead th {\n",
              "        text-align: right;\n",
              "    }\n",
              "</style>\n",
              "<table border=\"1\" class=\"dataframe\">\n",
              "  <thead>\n",
              "    <tr style=\"text-align: right;\">\n",
              "      <th></th>\n",
              "      <th>primaryTitle</th>\n",
              "      <th>startYear</th>\n",
              "      <th>runtimeMinutes</th>\n",
              "      <th>genres</th>\n",
              "      <th>averageRating</th>\n",
              "      <th>numVotes</th>\n",
              "      <th>actor</th>\n",
              "      <th>actress</th>\n",
              "      <th>director</th>\n",
              "      <th>producer</th>\n",
              "    </tr>\n",
              "  </thead>\n",
              "  <tbody>\n",
              "    <tr>\n",
              "      <th>0</th>\n",
              "      <td>The Woman with the Knife</td>\n",
              "      <td>2010</td>\n",
              "      <td>80</td>\n",
              "      <td>Drama,Thriller</td>\n",
              "      <td>6.5</td>\n",
              "      <td>11</td>\n",
              "      <td>nm0863604,nm11266595,nm0224522,nm0467896</td>\n",
              "      <td>nm0896894,nm0021550</td>\n",
              "      <td>NaN</td>\n",
              "      <td>NaN</td>\n",
              "    </tr>\n",
              "    <tr>\n",
              "      <th>1</th>\n",
              "      <td>Pál Adrienn</td>\n",
              "      <td>2010</td>\n",
              "      <td>136</td>\n",
              "      <td>Drama</td>\n",
              "      <td>6.7</td>\n",
              "      <td>466</td>\n",
              "      <td>nm0957482,nm0395827</td>\n",
              "      <td>nm3140529,nm0961563</td>\n",
              "      <td>nm1030585</td>\n",
              "      <td>nm1825349</td>\n",
              "    </tr>\n",
              "    <tr>\n",
              "      <th>2</th>\n",
              "      <td>So Much for Justice!</td>\n",
              "      <td>2010</td>\n",
              "      <td>100</td>\n",
              "      <td>History</td>\n",
              "      <td>4.5</td>\n",
              "      <td>66</td>\n",
              "      <td>nm0610960,nm0646037,nm0190691,nm1111050</td>\n",
              "      <td>NaN</td>\n",
              "      <td>nm0417352</td>\n",
              "      <td>nm1064504,nm0687867</td>\n",
              "    </tr>\n",
              "  </tbody>\n",
              "</table>\n",
              "</div>"
            ],
            "text/plain": [
              "               primaryTitle  startYear  ...   director             producer\n",
              "0  The Woman with the Knife       2010  ...        NaN                  NaN\n",
              "1               Pál Adrienn       2010  ...  nm1030585            nm1825349\n",
              "2      So Much for Justice!       2010  ...  nm0417352  nm1064504,nm0687867\n",
              "\n",
              "[3 rows x 10 columns]"
            ]
          },
          "metadata": {
            "tags": []
          },
          "execution_count": 215
        }
      ]
    },
    {
      "cell_type": "code",
      "metadata": {
        "id": "YnsZI6hTBuV7",
        "colab_type": "code",
        "outputId": "374e28e5-0f6e-4c5c-cbba-ff82268a34e0",
        "colab": {
          "base_uri": "https://localhost:8080/",
          "height": 223
        }
      },
      "source": [
        "# Second, if one movie has > 1 categories missing (less than 9 categories remains), drop them.\n",
        "\n",
        "df = df.dropna(thresh=9)\n",
        "print(df.shape)\n",
        "df.head(3)"
      ],
      "execution_count": 216,
      "outputs": [
        {
          "output_type": "stream",
          "text": [
            "(57829, 10)\n"
          ],
          "name": "stdout"
        },
        {
          "output_type": "execute_result",
          "data": {
            "text/html": [
              "<div>\n",
              "<style scoped>\n",
              "    .dataframe tbody tr th:only-of-type {\n",
              "        vertical-align: middle;\n",
              "    }\n",
              "\n",
              "    .dataframe tbody tr th {\n",
              "        vertical-align: top;\n",
              "    }\n",
              "\n",
              "    .dataframe thead th {\n",
              "        text-align: right;\n",
              "    }\n",
              "</style>\n",
              "<table border=\"1\" class=\"dataframe\">\n",
              "  <thead>\n",
              "    <tr style=\"text-align: right;\">\n",
              "      <th></th>\n",
              "      <th>primaryTitle</th>\n",
              "      <th>startYear</th>\n",
              "      <th>runtimeMinutes</th>\n",
              "      <th>genres</th>\n",
              "      <th>averageRating</th>\n",
              "      <th>numVotes</th>\n",
              "      <th>actor</th>\n",
              "      <th>actress</th>\n",
              "      <th>director</th>\n",
              "      <th>producer</th>\n",
              "    </tr>\n",
              "  </thead>\n",
              "  <tbody>\n",
              "    <tr>\n",
              "      <th>1</th>\n",
              "      <td>Pál Adrienn</td>\n",
              "      <td>2010</td>\n",
              "      <td>136</td>\n",
              "      <td>Drama</td>\n",
              "      <td>6.7</td>\n",
              "      <td>466</td>\n",
              "      <td>nm0957482,nm0395827</td>\n",
              "      <td>nm3140529,nm0961563</td>\n",
              "      <td>nm1030585</td>\n",
              "      <td>nm1825349</td>\n",
              "    </tr>\n",
              "    <tr>\n",
              "      <th>2</th>\n",
              "      <td>So Much for Justice!</td>\n",
              "      <td>2010</td>\n",
              "      <td>100</td>\n",
              "      <td>History</td>\n",
              "      <td>4.5</td>\n",
              "      <td>66</td>\n",
              "      <td>nm0610960,nm0646037,nm0190691,nm1111050</td>\n",
              "      <td>NaN</td>\n",
              "      <td>nm0417352</td>\n",
              "      <td>nm1064504,nm0687867</td>\n",
              "    </tr>\n",
              "    <tr>\n",
              "      <th>3</th>\n",
              "      <td>Children of the Green Dragon</td>\n",
              "      <td>2010</td>\n",
              "      <td>89</td>\n",
              "      <td>Drama</td>\n",
              "      <td>6.8</td>\n",
              "      <td>125</td>\n",
              "      <td>nm0753588,nm3646734,nm0501862</td>\n",
              "      <td>nm1342004</td>\n",
              "      <td>nm1207262</td>\n",
              "      <td>nm1064504</td>\n",
              "    </tr>\n",
              "  </tbody>\n",
              "</table>\n",
              "</div>"
            ],
            "text/plain": [
              "                   primaryTitle  startYear  ...   director             producer\n",
              "1                   Pál Adrienn       2010  ...  nm1030585            nm1825349\n",
              "2          So Much for Justice!       2010  ...  nm0417352  nm1064504,nm0687867\n",
              "3  Children of the Green Dragon       2010  ...  nm1207262            nm1064504\n",
              "\n",
              "[3 rows x 10 columns]"
            ]
          },
          "metadata": {
            "tags": []
          },
          "execution_count": 216
        }
      ]
    },
    {
      "cell_type": "code",
      "metadata": {
        "id": "yKHCNGo7BuV-",
        "colab_type": "code",
        "outputId": "6fc90841-a839-4d9d-923a-479d2f598b6e",
        "colab": {
          "base_uri": "https://localhost:8080/",
          "height": 514
        }
      },
      "source": [
        "# In genres part, each line may have > 1 genres(e.g. both Adventure and Comedy), we just keep the first one.\n",
        "\n",
        "df[['genres','others']] = df['genres'].str.split(\",\", 1, expand=True)\n",
        "df = df.drop('others', axis=1)\n",
        "print(df.shape)\n",
        "df.head(10)"
      ],
      "execution_count": 217,
      "outputs": [
        {
          "output_type": "stream",
          "text": [
            "(57829, 10)\n"
          ],
          "name": "stdout"
        },
        {
          "output_type": "execute_result",
          "data": {
            "text/html": [
              "<div>\n",
              "<style scoped>\n",
              "    .dataframe tbody tr th:only-of-type {\n",
              "        vertical-align: middle;\n",
              "    }\n",
              "\n",
              "    .dataframe tbody tr th {\n",
              "        vertical-align: top;\n",
              "    }\n",
              "\n",
              "    .dataframe thead th {\n",
              "        text-align: right;\n",
              "    }\n",
              "</style>\n",
              "<table border=\"1\" class=\"dataframe\">\n",
              "  <thead>\n",
              "    <tr style=\"text-align: right;\">\n",
              "      <th></th>\n",
              "      <th>primaryTitle</th>\n",
              "      <th>startYear</th>\n",
              "      <th>runtimeMinutes</th>\n",
              "      <th>genres</th>\n",
              "      <th>averageRating</th>\n",
              "      <th>numVotes</th>\n",
              "      <th>actor</th>\n",
              "      <th>actress</th>\n",
              "      <th>director</th>\n",
              "      <th>producer</th>\n",
              "    </tr>\n",
              "  </thead>\n",
              "  <tbody>\n",
              "    <tr>\n",
              "      <th>1</th>\n",
              "      <td>Pál Adrienn</td>\n",
              "      <td>2010</td>\n",
              "      <td>136</td>\n",
              "      <td>Drama</td>\n",
              "      <td>6.7</td>\n",
              "      <td>466</td>\n",
              "      <td>nm0957482,nm0395827</td>\n",
              "      <td>nm3140529,nm0961563</td>\n",
              "      <td>nm1030585</td>\n",
              "      <td>nm1825349</td>\n",
              "    </tr>\n",
              "    <tr>\n",
              "      <th>2</th>\n",
              "      <td>So Much for Justice!</td>\n",
              "      <td>2010</td>\n",
              "      <td>100</td>\n",
              "      <td>History</td>\n",
              "      <td>4.5</td>\n",
              "      <td>66</td>\n",
              "      <td>nm0610960,nm0646037,nm0190691,nm1111050</td>\n",
              "      <td>NaN</td>\n",
              "      <td>nm0417352</td>\n",
              "      <td>nm1064504,nm0687867</td>\n",
              "    </tr>\n",
              "    <tr>\n",
              "      <th>3</th>\n",
              "      <td>Children of the Green Dragon</td>\n",
              "      <td>2010</td>\n",
              "      <td>89</td>\n",
              "      <td>Drama</td>\n",
              "      <td>6.8</td>\n",
              "      <td>125</td>\n",
              "      <td>nm0753588,nm3646734,nm0501862</td>\n",
              "      <td>nm1342004</td>\n",
              "      <td>nm1207262</td>\n",
              "      <td>nm1064504</td>\n",
              "    </tr>\n",
              "    <tr>\n",
              "      <th>5</th>\n",
              "      <td>The Souliotes</td>\n",
              "      <td>2010</td>\n",
              "      <td>91</td>\n",
              "      <td>Adventure</td>\n",
              "      <td>6.2</td>\n",
              "      <td>132</td>\n",
              "      <td>nm0689220,nm0441468,nm0833105,nm0224786</td>\n",
              "      <td>nm0441502,nm0199258</td>\n",
              "      <td>nm0660147</td>\n",
              "      <td>NaN</td>\n",
              "    </tr>\n",
              "    <tr>\n",
              "      <th>6</th>\n",
              "      <td>Quantum Quest: A Cassini Space Odyssey</td>\n",
              "      <td>2010</td>\n",
              "      <td>45</td>\n",
              "      <td>Adventure</td>\n",
              "      <td>4.9</td>\n",
              "      <td>291</td>\n",
              "      <td>nm1517976,nm0000168,nm0159789</td>\n",
              "      <td>nm0001605</td>\n",
              "      <td>nm1004541,nm0820800</td>\n",
              "      <td>nm3368118,nm2800118</td>\n",
              "    </tr>\n",
              "    <tr>\n",
              "      <th>7</th>\n",
              "      <td>The Overnight</td>\n",
              "      <td>2010</td>\n",
              "      <td>88</td>\n",
              "      <td>\\N</td>\n",
              "      <td>7.5</td>\n",
              "      <td>24</td>\n",
              "      <td>nm1211335,nm0482470,nm0000465</td>\n",
              "      <td>nm1029032</td>\n",
              "      <td>nm1208371</td>\n",
              "      <td>nm0962818,nm1211914</td>\n",
              "    </tr>\n",
              "    <tr>\n",
              "      <th>8</th>\n",
              "      <td>In My Sleep</td>\n",
              "      <td>2010</td>\n",
              "      <td>104</td>\n",
              "      <td>Drama</td>\n",
              "      <td>5.5</td>\n",
              "      <td>1933</td>\n",
              "      <td>nm0934618,nm1039877</td>\n",
              "      <td>nm0000327,nm0817844</td>\n",
              "      <td>nm1075006</td>\n",
              "      <td>nm1603419,nm3828290</td>\n",
              "    </tr>\n",
              "    <tr>\n",
              "      <th>10</th>\n",
              "      <td>Blind Sided</td>\n",
              "      <td>2010</td>\n",
              "      <td>\\N</td>\n",
              "      <td>Comedy</td>\n",
              "      <td>7.4</td>\n",
              "      <td>14</td>\n",
              "      <td>nm1069500,nm3834613</td>\n",
              "      <td>nm3846562,nm3829501</td>\n",
              "      <td>nm0706973</td>\n",
              "      <td>NaN</td>\n",
              "    </tr>\n",
              "    <tr>\n",
              "      <th>11</th>\n",
              "      <td>Anderson's Cross</td>\n",
              "      <td>2010</td>\n",
              "      <td>98</td>\n",
              "      <td>Comedy</td>\n",
              "      <td>5</td>\n",
              "      <td>107</td>\n",
              "      <td>nm0912966,nm0608405</td>\n",
              "      <td>nm0001026,nm0349824</td>\n",
              "      <td>nm1516329</td>\n",
              "      <td>nm1518156,nm2339181,nm0236202,nm1536258,nm2243221</td>\n",
              "    </tr>\n",
              "    <tr>\n",
              "      <th>12</th>\n",
              "      <td>Den milde smerte</td>\n",
              "      <td>2010</td>\n",
              "      <td>280</td>\n",
              "      <td>Drama</td>\n",
              "      <td>7.8</td>\n",
              "      <td>6</td>\n",
              "      <td>nm0104888</td>\n",
              "      <td>nm0088371,nm2741363,nm2662182</td>\n",
              "      <td>NaN</td>\n",
              "      <td>nm0074549,nm0936045</td>\n",
              "    </tr>\n",
              "  </tbody>\n",
              "</table>\n",
              "</div>"
            ],
            "text/plain": [
              "                              primaryTitle  ...                                           producer\n",
              "1                              Pál Adrienn  ...                                          nm1825349\n",
              "2                     So Much for Justice!  ...                                nm1064504,nm0687867\n",
              "3             Children of the Green Dragon  ...                                          nm1064504\n",
              "5                            The Souliotes  ...                                                NaN\n",
              "6   Quantum Quest: A Cassini Space Odyssey  ...                                nm3368118,nm2800118\n",
              "7                            The Overnight  ...                                nm0962818,nm1211914\n",
              "8                              In My Sleep  ...                                nm1603419,nm3828290\n",
              "10                             Blind Sided  ...                                                NaN\n",
              "11                        Anderson's Cross  ...  nm1518156,nm2339181,nm0236202,nm1536258,nm2243221\n",
              "12                        Den milde smerte  ...                                nm0074549,nm0936045\n",
              "\n",
              "[10 rows x 10 columns]"
            ]
          },
          "metadata": {
            "tags": []
          },
          "execution_count": 217
        }
      ]
    },
    {
      "cell_type": "code",
      "metadata": {
        "id": "Nt_tPcQKBuWA",
        "colab_type": "code",
        "outputId": "d97e6584-d666-441d-a088-b06bcbee362a",
        "colab": {
          "base_uri": "https://localhost:8080/",
          "height": 514
        }
      },
      "source": [
        "# The same as actor, actress, director, producer\n",
        "\n",
        "df[['actor','others']] = df['actor'].str.split(\",\", 1, expand=True)\n",
        "df = df.drop('others', axis=1)\n",
        "print(df.shape)\n",
        "df.head(10)"
      ],
      "execution_count": 218,
      "outputs": [
        {
          "output_type": "stream",
          "text": [
            "(57829, 10)\n"
          ],
          "name": "stdout"
        },
        {
          "output_type": "execute_result",
          "data": {
            "text/html": [
              "<div>\n",
              "<style scoped>\n",
              "    .dataframe tbody tr th:only-of-type {\n",
              "        vertical-align: middle;\n",
              "    }\n",
              "\n",
              "    .dataframe tbody tr th {\n",
              "        vertical-align: top;\n",
              "    }\n",
              "\n",
              "    .dataframe thead th {\n",
              "        text-align: right;\n",
              "    }\n",
              "</style>\n",
              "<table border=\"1\" class=\"dataframe\">\n",
              "  <thead>\n",
              "    <tr style=\"text-align: right;\">\n",
              "      <th></th>\n",
              "      <th>primaryTitle</th>\n",
              "      <th>startYear</th>\n",
              "      <th>runtimeMinutes</th>\n",
              "      <th>genres</th>\n",
              "      <th>averageRating</th>\n",
              "      <th>numVotes</th>\n",
              "      <th>actor</th>\n",
              "      <th>actress</th>\n",
              "      <th>director</th>\n",
              "      <th>producer</th>\n",
              "    </tr>\n",
              "  </thead>\n",
              "  <tbody>\n",
              "    <tr>\n",
              "      <th>1</th>\n",
              "      <td>Pál Adrienn</td>\n",
              "      <td>2010</td>\n",
              "      <td>136</td>\n",
              "      <td>Drama</td>\n",
              "      <td>6.7</td>\n",
              "      <td>466</td>\n",
              "      <td>nm0957482</td>\n",
              "      <td>nm3140529,nm0961563</td>\n",
              "      <td>nm1030585</td>\n",
              "      <td>nm1825349</td>\n",
              "    </tr>\n",
              "    <tr>\n",
              "      <th>2</th>\n",
              "      <td>So Much for Justice!</td>\n",
              "      <td>2010</td>\n",
              "      <td>100</td>\n",
              "      <td>History</td>\n",
              "      <td>4.5</td>\n",
              "      <td>66</td>\n",
              "      <td>nm0610960</td>\n",
              "      <td>NaN</td>\n",
              "      <td>nm0417352</td>\n",
              "      <td>nm1064504,nm0687867</td>\n",
              "    </tr>\n",
              "    <tr>\n",
              "      <th>3</th>\n",
              "      <td>Children of the Green Dragon</td>\n",
              "      <td>2010</td>\n",
              "      <td>89</td>\n",
              "      <td>Drama</td>\n",
              "      <td>6.8</td>\n",
              "      <td>125</td>\n",
              "      <td>nm0753588</td>\n",
              "      <td>nm1342004</td>\n",
              "      <td>nm1207262</td>\n",
              "      <td>nm1064504</td>\n",
              "    </tr>\n",
              "    <tr>\n",
              "      <th>5</th>\n",
              "      <td>The Souliotes</td>\n",
              "      <td>2010</td>\n",
              "      <td>91</td>\n",
              "      <td>Adventure</td>\n",
              "      <td>6.2</td>\n",
              "      <td>132</td>\n",
              "      <td>nm0689220</td>\n",
              "      <td>nm0441502,nm0199258</td>\n",
              "      <td>nm0660147</td>\n",
              "      <td>NaN</td>\n",
              "    </tr>\n",
              "    <tr>\n",
              "      <th>6</th>\n",
              "      <td>Quantum Quest: A Cassini Space Odyssey</td>\n",
              "      <td>2010</td>\n",
              "      <td>45</td>\n",
              "      <td>Adventure</td>\n",
              "      <td>4.9</td>\n",
              "      <td>291</td>\n",
              "      <td>nm1517976</td>\n",
              "      <td>nm0001605</td>\n",
              "      <td>nm1004541,nm0820800</td>\n",
              "      <td>nm3368118,nm2800118</td>\n",
              "    </tr>\n",
              "    <tr>\n",
              "      <th>7</th>\n",
              "      <td>The Overnight</td>\n",
              "      <td>2010</td>\n",
              "      <td>88</td>\n",
              "      <td>\\N</td>\n",
              "      <td>7.5</td>\n",
              "      <td>24</td>\n",
              "      <td>nm1211335</td>\n",
              "      <td>nm1029032</td>\n",
              "      <td>nm1208371</td>\n",
              "      <td>nm0962818,nm1211914</td>\n",
              "    </tr>\n",
              "    <tr>\n",
              "      <th>8</th>\n",
              "      <td>In My Sleep</td>\n",
              "      <td>2010</td>\n",
              "      <td>104</td>\n",
              "      <td>Drama</td>\n",
              "      <td>5.5</td>\n",
              "      <td>1933</td>\n",
              "      <td>nm0934618</td>\n",
              "      <td>nm0000327,nm0817844</td>\n",
              "      <td>nm1075006</td>\n",
              "      <td>nm1603419,nm3828290</td>\n",
              "    </tr>\n",
              "    <tr>\n",
              "      <th>10</th>\n",
              "      <td>Blind Sided</td>\n",
              "      <td>2010</td>\n",
              "      <td>\\N</td>\n",
              "      <td>Comedy</td>\n",
              "      <td>7.4</td>\n",
              "      <td>14</td>\n",
              "      <td>nm1069500</td>\n",
              "      <td>nm3846562,nm3829501</td>\n",
              "      <td>nm0706973</td>\n",
              "      <td>NaN</td>\n",
              "    </tr>\n",
              "    <tr>\n",
              "      <th>11</th>\n",
              "      <td>Anderson's Cross</td>\n",
              "      <td>2010</td>\n",
              "      <td>98</td>\n",
              "      <td>Comedy</td>\n",
              "      <td>5</td>\n",
              "      <td>107</td>\n",
              "      <td>nm0912966</td>\n",
              "      <td>nm0001026,nm0349824</td>\n",
              "      <td>nm1516329</td>\n",
              "      <td>nm1518156,nm2339181,nm0236202,nm1536258,nm2243221</td>\n",
              "    </tr>\n",
              "    <tr>\n",
              "      <th>12</th>\n",
              "      <td>Den milde smerte</td>\n",
              "      <td>2010</td>\n",
              "      <td>280</td>\n",
              "      <td>Drama</td>\n",
              "      <td>7.8</td>\n",
              "      <td>6</td>\n",
              "      <td>nm0104888</td>\n",
              "      <td>nm0088371,nm2741363,nm2662182</td>\n",
              "      <td>NaN</td>\n",
              "      <td>nm0074549,nm0936045</td>\n",
              "    </tr>\n",
              "  </tbody>\n",
              "</table>\n",
              "</div>"
            ],
            "text/plain": [
              "                              primaryTitle  ...                                           producer\n",
              "1                              Pál Adrienn  ...                                          nm1825349\n",
              "2                     So Much for Justice!  ...                                nm1064504,nm0687867\n",
              "3             Children of the Green Dragon  ...                                          nm1064504\n",
              "5                            The Souliotes  ...                                                NaN\n",
              "6   Quantum Quest: A Cassini Space Odyssey  ...                                nm3368118,nm2800118\n",
              "7                            The Overnight  ...                                nm0962818,nm1211914\n",
              "8                              In My Sleep  ...                                nm1603419,nm3828290\n",
              "10                             Blind Sided  ...                                                NaN\n",
              "11                        Anderson's Cross  ...  nm1518156,nm2339181,nm0236202,nm1536258,nm2243221\n",
              "12                        Den milde smerte  ...                                nm0074549,nm0936045\n",
              "\n",
              "[10 rows x 10 columns]"
            ]
          },
          "metadata": {
            "tags": []
          },
          "execution_count": 218
        }
      ]
    },
    {
      "cell_type": "code",
      "metadata": {
        "id": "QB_4sGB2BuWD",
        "colab_type": "code",
        "outputId": "b80fa4d9-5953-4c08-835a-059547529687",
        "colab": {
          "base_uri": "https://localhost:8080/",
          "height": 514
        }
      },
      "source": [
        "df[['actress','others']] = df['actress'].str.split(\",\", 1, expand=True)\n",
        "df = df.drop('others', axis=1)\n",
        "print(df.shape)\n",
        "df.head(10)"
      ],
      "execution_count": 219,
      "outputs": [
        {
          "output_type": "stream",
          "text": [
            "(57829, 10)\n"
          ],
          "name": "stdout"
        },
        {
          "output_type": "execute_result",
          "data": {
            "text/html": [
              "<div>\n",
              "<style scoped>\n",
              "    .dataframe tbody tr th:only-of-type {\n",
              "        vertical-align: middle;\n",
              "    }\n",
              "\n",
              "    .dataframe tbody tr th {\n",
              "        vertical-align: top;\n",
              "    }\n",
              "\n",
              "    .dataframe thead th {\n",
              "        text-align: right;\n",
              "    }\n",
              "</style>\n",
              "<table border=\"1\" class=\"dataframe\">\n",
              "  <thead>\n",
              "    <tr style=\"text-align: right;\">\n",
              "      <th></th>\n",
              "      <th>primaryTitle</th>\n",
              "      <th>startYear</th>\n",
              "      <th>runtimeMinutes</th>\n",
              "      <th>genres</th>\n",
              "      <th>averageRating</th>\n",
              "      <th>numVotes</th>\n",
              "      <th>actor</th>\n",
              "      <th>actress</th>\n",
              "      <th>director</th>\n",
              "      <th>producer</th>\n",
              "    </tr>\n",
              "  </thead>\n",
              "  <tbody>\n",
              "    <tr>\n",
              "      <th>1</th>\n",
              "      <td>Pál Adrienn</td>\n",
              "      <td>2010</td>\n",
              "      <td>136</td>\n",
              "      <td>Drama</td>\n",
              "      <td>6.7</td>\n",
              "      <td>466</td>\n",
              "      <td>nm0957482</td>\n",
              "      <td>nm3140529</td>\n",
              "      <td>nm1030585</td>\n",
              "      <td>nm1825349</td>\n",
              "    </tr>\n",
              "    <tr>\n",
              "      <th>2</th>\n",
              "      <td>So Much for Justice!</td>\n",
              "      <td>2010</td>\n",
              "      <td>100</td>\n",
              "      <td>History</td>\n",
              "      <td>4.5</td>\n",
              "      <td>66</td>\n",
              "      <td>nm0610960</td>\n",
              "      <td>NaN</td>\n",
              "      <td>nm0417352</td>\n",
              "      <td>nm1064504,nm0687867</td>\n",
              "    </tr>\n",
              "    <tr>\n",
              "      <th>3</th>\n",
              "      <td>Children of the Green Dragon</td>\n",
              "      <td>2010</td>\n",
              "      <td>89</td>\n",
              "      <td>Drama</td>\n",
              "      <td>6.8</td>\n",
              "      <td>125</td>\n",
              "      <td>nm0753588</td>\n",
              "      <td>nm1342004</td>\n",
              "      <td>nm1207262</td>\n",
              "      <td>nm1064504</td>\n",
              "    </tr>\n",
              "    <tr>\n",
              "      <th>5</th>\n",
              "      <td>The Souliotes</td>\n",
              "      <td>2010</td>\n",
              "      <td>91</td>\n",
              "      <td>Adventure</td>\n",
              "      <td>6.2</td>\n",
              "      <td>132</td>\n",
              "      <td>nm0689220</td>\n",
              "      <td>nm0441502</td>\n",
              "      <td>nm0660147</td>\n",
              "      <td>NaN</td>\n",
              "    </tr>\n",
              "    <tr>\n",
              "      <th>6</th>\n",
              "      <td>Quantum Quest: A Cassini Space Odyssey</td>\n",
              "      <td>2010</td>\n",
              "      <td>45</td>\n",
              "      <td>Adventure</td>\n",
              "      <td>4.9</td>\n",
              "      <td>291</td>\n",
              "      <td>nm1517976</td>\n",
              "      <td>nm0001605</td>\n",
              "      <td>nm1004541,nm0820800</td>\n",
              "      <td>nm3368118,nm2800118</td>\n",
              "    </tr>\n",
              "    <tr>\n",
              "      <th>7</th>\n",
              "      <td>The Overnight</td>\n",
              "      <td>2010</td>\n",
              "      <td>88</td>\n",
              "      <td>\\N</td>\n",
              "      <td>7.5</td>\n",
              "      <td>24</td>\n",
              "      <td>nm1211335</td>\n",
              "      <td>nm1029032</td>\n",
              "      <td>nm1208371</td>\n",
              "      <td>nm0962818,nm1211914</td>\n",
              "    </tr>\n",
              "    <tr>\n",
              "      <th>8</th>\n",
              "      <td>In My Sleep</td>\n",
              "      <td>2010</td>\n",
              "      <td>104</td>\n",
              "      <td>Drama</td>\n",
              "      <td>5.5</td>\n",
              "      <td>1933</td>\n",
              "      <td>nm0934618</td>\n",
              "      <td>nm0000327</td>\n",
              "      <td>nm1075006</td>\n",
              "      <td>nm1603419,nm3828290</td>\n",
              "    </tr>\n",
              "    <tr>\n",
              "      <th>10</th>\n",
              "      <td>Blind Sided</td>\n",
              "      <td>2010</td>\n",
              "      <td>\\N</td>\n",
              "      <td>Comedy</td>\n",
              "      <td>7.4</td>\n",
              "      <td>14</td>\n",
              "      <td>nm1069500</td>\n",
              "      <td>nm3846562</td>\n",
              "      <td>nm0706973</td>\n",
              "      <td>NaN</td>\n",
              "    </tr>\n",
              "    <tr>\n",
              "      <th>11</th>\n",
              "      <td>Anderson's Cross</td>\n",
              "      <td>2010</td>\n",
              "      <td>98</td>\n",
              "      <td>Comedy</td>\n",
              "      <td>5</td>\n",
              "      <td>107</td>\n",
              "      <td>nm0912966</td>\n",
              "      <td>nm0001026</td>\n",
              "      <td>nm1516329</td>\n",
              "      <td>nm1518156,nm2339181,nm0236202,nm1536258,nm2243221</td>\n",
              "    </tr>\n",
              "    <tr>\n",
              "      <th>12</th>\n",
              "      <td>Den milde smerte</td>\n",
              "      <td>2010</td>\n",
              "      <td>280</td>\n",
              "      <td>Drama</td>\n",
              "      <td>7.8</td>\n",
              "      <td>6</td>\n",
              "      <td>nm0104888</td>\n",
              "      <td>nm0088371</td>\n",
              "      <td>NaN</td>\n",
              "      <td>nm0074549,nm0936045</td>\n",
              "    </tr>\n",
              "  </tbody>\n",
              "</table>\n",
              "</div>"
            ],
            "text/plain": [
              "                              primaryTitle  ...                                           producer\n",
              "1                              Pál Adrienn  ...                                          nm1825349\n",
              "2                     So Much for Justice!  ...                                nm1064504,nm0687867\n",
              "3             Children of the Green Dragon  ...                                          nm1064504\n",
              "5                            The Souliotes  ...                                                NaN\n",
              "6   Quantum Quest: A Cassini Space Odyssey  ...                                nm3368118,nm2800118\n",
              "7                            The Overnight  ...                                nm0962818,nm1211914\n",
              "8                              In My Sleep  ...                                nm1603419,nm3828290\n",
              "10                             Blind Sided  ...                                                NaN\n",
              "11                        Anderson's Cross  ...  nm1518156,nm2339181,nm0236202,nm1536258,nm2243221\n",
              "12                        Den milde smerte  ...                                nm0074549,nm0936045\n",
              "\n",
              "[10 rows x 10 columns]"
            ]
          },
          "metadata": {
            "tags": []
          },
          "execution_count": 219
        }
      ]
    },
    {
      "cell_type": "code",
      "metadata": {
        "id": "30gzLmSmBuWF",
        "colab_type": "code",
        "outputId": "8f92efa8-e4b0-4d97-e655-892c32efa87a",
        "colab": {
          "base_uri": "https://localhost:8080/",
          "height": 514
        }
      },
      "source": [
        "df[['director','others']] = df['director'].str.split(\",\", 1, expand=True)\n",
        "df = df.drop('others', axis=1)\n",
        "print(df.shape)\n",
        "df.head(10)"
      ],
      "execution_count": 220,
      "outputs": [
        {
          "output_type": "stream",
          "text": [
            "(57829, 10)\n"
          ],
          "name": "stdout"
        },
        {
          "output_type": "execute_result",
          "data": {
            "text/html": [
              "<div>\n",
              "<style scoped>\n",
              "    .dataframe tbody tr th:only-of-type {\n",
              "        vertical-align: middle;\n",
              "    }\n",
              "\n",
              "    .dataframe tbody tr th {\n",
              "        vertical-align: top;\n",
              "    }\n",
              "\n",
              "    .dataframe thead th {\n",
              "        text-align: right;\n",
              "    }\n",
              "</style>\n",
              "<table border=\"1\" class=\"dataframe\">\n",
              "  <thead>\n",
              "    <tr style=\"text-align: right;\">\n",
              "      <th></th>\n",
              "      <th>primaryTitle</th>\n",
              "      <th>startYear</th>\n",
              "      <th>runtimeMinutes</th>\n",
              "      <th>genres</th>\n",
              "      <th>averageRating</th>\n",
              "      <th>numVotes</th>\n",
              "      <th>actor</th>\n",
              "      <th>actress</th>\n",
              "      <th>director</th>\n",
              "      <th>producer</th>\n",
              "    </tr>\n",
              "  </thead>\n",
              "  <tbody>\n",
              "    <tr>\n",
              "      <th>1</th>\n",
              "      <td>Pál Adrienn</td>\n",
              "      <td>2010</td>\n",
              "      <td>136</td>\n",
              "      <td>Drama</td>\n",
              "      <td>6.7</td>\n",
              "      <td>466</td>\n",
              "      <td>nm0957482</td>\n",
              "      <td>nm3140529</td>\n",
              "      <td>nm1030585</td>\n",
              "      <td>nm1825349</td>\n",
              "    </tr>\n",
              "    <tr>\n",
              "      <th>2</th>\n",
              "      <td>So Much for Justice!</td>\n",
              "      <td>2010</td>\n",
              "      <td>100</td>\n",
              "      <td>History</td>\n",
              "      <td>4.5</td>\n",
              "      <td>66</td>\n",
              "      <td>nm0610960</td>\n",
              "      <td>NaN</td>\n",
              "      <td>nm0417352</td>\n",
              "      <td>nm1064504,nm0687867</td>\n",
              "    </tr>\n",
              "    <tr>\n",
              "      <th>3</th>\n",
              "      <td>Children of the Green Dragon</td>\n",
              "      <td>2010</td>\n",
              "      <td>89</td>\n",
              "      <td>Drama</td>\n",
              "      <td>6.8</td>\n",
              "      <td>125</td>\n",
              "      <td>nm0753588</td>\n",
              "      <td>nm1342004</td>\n",
              "      <td>nm1207262</td>\n",
              "      <td>nm1064504</td>\n",
              "    </tr>\n",
              "    <tr>\n",
              "      <th>5</th>\n",
              "      <td>The Souliotes</td>\n",
              "      <td>2010</td>\n",
              "      <td>91</td>\n",
              "      <td>Adventure</td>\n",
              "      <td>6.2</td>\n",
              "      <td>132</td>\n",
              "      <td>nm0689220</td>\n",
              "      <td>nm0441502</td>\n",
              "      <td>nm0660147</td>\n",
              "      <td>NaN</td>\n",
              "    </tr>\n",
              "    <tr>\n",
              "      <th>6</th>\n",
              "      <td>Quantum Quest: A Cassini Space Odyssey</td>\n",
              "      <td>2010</td>\n",
              "      <td>45</td>\n",
              "      <td>Adventure</td>\n",
              "      <td>4.9</td>\n",
              "      <td>291</td>\n",
              "      <td>nm1517976</td>\n",
              "      <td>nm0001605</td>\n",
              "      <td>nm1004541</td>\n",
              "      <td>nm3368118,nm2800118</td>\n",
              "    </tr>\n",
              "    <tr>\n",
              "      <th>7</th>\n",
              "      <td>The Overnight</td>\n",
              "      <td>2010</td>\n",
              "      <td>88</td>\n",
              "      <td>\\N</td>\n",
              "      <td>7.5</td>\n",
              "      <td>24</td>\n",
              "      <td>nm1211335</td>\n",
              "      <td>nm1029032</td>\n",
              "      <td>nm1208371</td>\n",
              "      <td>nm0962818,nm1211914</td>\n",
              "    </tr>\n",
              "    <tr>\n",
              "      <th>8</th>\n",
              "      <td>In My Sleep</td>\n",
              "      <td>2010</td>\n",
              "      <td>104</td>\n",
              "      <td>Drama</td>\n",
              "      <td>5.5</td>\n",
              "      <td>1933</td>\n",
              "      <td>nm0934618</td>\n",
              "      <td>nm0000327</td>\n",
              "      <td>nm1075006</td>\n",
              "      <td>nm1603419,nm3828290</td>\n",
              "    </tr>\n",
              "    <tr>\n",
              "      <th>10</th>\n",
              "      <td>Blind Sided</td>\n",
              "      <td>2010</td>\n",
              "      <td>\\N</td>\n",
              "      <td>Comedy</td>\n",
              "      <td>7.4</td>\n",
              "      <td>14</td>\n",
              "      <td>nm1069500</td>\n",
              "      <td>nm3846562</td>\n",
              "      <td>nm0706973</td>\n",
              "      <td>NaN</td>\n",
              "    </tr>\n",
              "    <tr>\n",
              "      <th>11</th>\n",
              "      <td>Anderson's Cross</td>\n",
              "      <td>2010</td>\n",
              "      <td>98</td>\n",
              "      <td>Comedy</td>\n",
              "      <td>5</td>\n",
              "      <td>107</td>\n",
              "      <td>nm0912966</td>\n",
              "      <td>nm0001026</td>\n",
              "      <td>nm1516329</td>\n",
              "      <td>nm1518156,nm2339181,nm0236202,nm1536258,nm2243221</td>\n",
              "    </tr>\n",
              "    <tr>\n",
              "      <th>12</th>\n",
              "      <td>Den milde smerte</td>\n",
              "      <td>2010</td>\n",
              "      <td>280</td>\n",
              "      <td>Drama</td>\n",
              "      <td>7.8</td>\n",
              "      <td>6</td>\n",
              "      <td>nm0104888</td>\n",
              "      <td>nm0088371</td>\n",
              "      <td>NaN</td>\n",
              "      <td>nm0074549,nm0936045</td>\n",
              "    </tr>\n",
              "  </tbody>\n",
              "</table>\n",
              "</div>"
            ],
            "text/plain": [
              "                              primaryTitle  ...                                           producer\n",
              "1                              Pál Adrienn  ...                                          nm1825349\n",
              "2                     So Much for Justice!  ...                                nm1064504,nm0687867\n",
              "3             Children of the Green Dragon  ...                                          nm1064504\n",
              "5                            The Souliotes  ...                                                NaN\n",
              "6   Quantum Quest: A Cassini Space Odyssey  ...                                nm3368118,nm2800118\n",
              "7                            The Overnight  ...                                nm0962818,nm1211914\n",
              "8                              In My Sleep  ...                                nm1603419,nm3828290\n",
              "10                             Blind Sided  ...                                                NaN\n",
              "11                        Anderson's Cross  ...  nm1518156,nm2339181,nm0236202,nm1536258,nm2243221\n",
              "12                        Den milde smerte  ...                                nm0074549,nm0936045\n",
              "\n",
              "[10 rows x 10 columns]"
            ]
          },
          "metadata": {
            "tags": []
          },
          "execution_count": 220
        }
      ]
    },
    {
      "cell_type": "code",
      "metadata": {
        "id": "5cykO3KhBuWI",
        "colab_type": "code",
        "outputId": "ed4beb6b-e894-4b4d-f0c4-f651c26734e2",
        "colab": {
          "base_uri": "https://localhost:8080/",
          "height": 514
        }
      },
      "source": [
        "df[['producer','others']] = df['producer'].str.split(\",\", 1, expand=True)\n",
        "df = df.drop('others', axis=1)\n",
        "print(df.shape)\n",
        "df.head(10)"
      ],
      "execution_count": 221,
      "outputs": [
        {
          "output_type": "stream",
          "text": [
            "(57829, 10)\n"
          ],
          "name": "stdout"
        },
        {
          "output_type": "execute_result",
          "data": {
            "text/html": [
              "<div>\n",
              "<style scoped>\n",
              "    .dataframe tbody tr th:only-of-type {\n",
              "        vertical-align: middle;\n",
              "    }\n",
              "\n",
              "    .dataframe tbody tr th {\n",
              "        vertical-align: top;\n",
              "    }\n",
              "\n",
              "    .dataframe thead th {\n",
              "        text-align: right;\n",
              "    }\n",
              "</style>\n",
              "<table border=\"1\" class=\"dataframe\">\n",
              "  <thead>\n",
              "    <tr style=\"text-align: right;\">\n",
              "      <th></th>\n",
              "      <th>primaryTitle</th>\n",
              "      <th>startYear</th>\n",
              "      <th>runtimeMinutes</th>\n",
              "      <th>genres</th>\n",
              "      <th>averageRating</th>\n",
              "      <th>numVotes</th>\n",
              "      <th>actor</th>\n",
              "      <th>actress</th>\n",
              "      <th>director</th>\n",
              "      <th>producer</th>\n",
              "    </tr>\n",
              "  </thead>\n",
              "  <tbody>\n",
              "    <tr>\n",
              "      <th>1</th>\n",
              "      <td>Pál Adrienn</td>\n",
              "      <td>2010</td>\n",
              "      <td>136</td>\n",
              "      <td>Drama</td>\n",
              "      <td>6.7</td>\n",
              "      <td>466</td>\n",
              "      <td>nm0957482</td>\n",
              "      <td>nm3140529</td>\n",
              "      <td>nm1030585</td>\n",
              "      <td>nm1825349</td>\n",
              "    </tr>\n",
              "    <tr>\n",
              "      <th>2</th>\n",
              "      <td>So Much for Justice!</td>\n",
              "      <td>2010</td>\n",
              "      <td>100</td>\n",
              "      <td>History</td>\n",
              "      <td>4.5</td>\n",
              "      <td>66</td>\n",
              "      <td>nm0610960</td>\n",
              "      <td>NaN</td>\n",
              "      <td>nm0417352</td>\n",
              "      <td>nm1064504</td>\n",
              "    </tr>\n",
              "    <tr>\n",
              "      <th>3</th>\n",
              "      <td>Children of the Green Dragon</td>\n",
              "      <td>2010</td>\n",
              "      <td>89</td>\n",
              "      <td>Drama</td>\n",
              "      <td>6.8</td>\n",
              "      <td>125</td>\n",
              "      <td>nm0753588</td>\n",
              "      <td>nm1342004</td>\n",
              "      <td>nm1207262</td>\n",
              "      <td>nm1064504</td>\n",
              "    </tr>\n",
              "    <tr>\n",
              "      <th>5</th>\n",
              "      <td>The Souliotes</td>\n",
              "      <td>2010</td>\n",
              "      <td>91</td>\n",
              "      <td>Adventure</td>\n",
              "      <td>6.2</td>\n",
              "      <td>132</td>\n",
              "      <td>nm0689220</td>\n",
              "      <td>nm0441502</td>\n",
              "      <td>nm0660147</td>\n",
              "      <td>NaN</td>\n",
              "    </tr>\n",
              "    <tr>\n",
              "      <th>6</th>\n",
              "      <td>Quantum Quest: A Cassini Space Odyssey</td>\n",
              "      <td>2010</td>\n",
              "      <td>45</td>\n",
              "      <td>Adventure</td>\n",
              "      <td>4.9</td>\n",
              "      <td>291</td>\n",
              "      <td>nm1517976</td>\n",
              "      <td>nm0001605</td>\n",
              "      <td>nm1004541</td>\n",
              "      <td>nm3368118</td>\n",
              "    </tr>\n",
              "    <tr>\n",
              "      <th>7</th>\n",
              "      <td>The Overnight</td>\n",
              "      <td>2010</td>\n",
              "      <td>88</td>\n",
              "      <td>\\N</td>\n",
              "      <td>7.5</td>\n",
              "      <td>24</td>\n",
              "      <td>nm1211335</td>\n",
              "      <td>nm1029032</td>\n",
              "      <td>nm1208371</td>\n",
              "      <td>nm0962818</td>\n",
              "    </tr>\n",
              "    <tr>\n",
              "      <th>8</th>\n",
              "      <td>In My Sleep</td>\n",
              "      <td>2010</td>\n",
              "      <td>104</td>\n",
              "      <td>Drama</td>\n",
              "      <td>5.5</td>\n",
              "      <td>1933</td>\n",
              "      <td>nm0934618</td>\n",
              "      <td>nm0000327</td>\n",
              "      <td>nm1075006</td>\n",
              "      <td>nm1603419</td>\n",
              "    </tr>\n",
              "    <tr>\n",
              "      <th>10</th>\n",
              "      <td>Blind Sided</td>\n",
              "      <td>2010</td>\n",
              "      <td>\\N</td>\n",
              "      <td>Comedy</td>\n",
              "      <td>7.4</td>\n",
              "      <td>14</td>\n",
              "      <td>nm1069500</td>\n",
              "      <td>nm3846562</td>\n",
              "      <td>nm0706973</td>\n",
              "      <td>NaN</td>\n",
              "    </tr>\n",
              "    <tr>\n",
              "      <th>11</th>\n",
              "      <td>Anderson's Cross</td>\n",
              "      <td>2010</td>\n",
              "      <td>98</td>\n",
              "      <td>Comedy</td>\n",
              "      <td>5</td>\n",
              "      <td>107</td>\n",
              "      <td>nm0912966</td>\n",
              "      <td>nm0001026</td>\n",
              "      <td>nm1516329</td>\n",
              "      <td>nm1518156</td>\n",
              "    </tr>\n",
              "    <tr>\n",
              "      <th>12</th>\n",
              "      <td>Den milde smerte</td>\n",
              "      <td>2010</td>\n",
              "      <td>280</td>\n",
              "      <td>Drama</td>\n",
              "      <td>7.8</td>\n",
              "      <td>6</td>\n",
              "      <td>nm0104888</td>\n",
              "      <td>nm0088371</td>\n",
              "      <td>NaN</td>\n",
              "      <td>nm0074549</td>\n",
              "    </tr>\n",
              "  </tbody>\n",
              "</table>\n",
              "</div>"
            ],
            "text/plain": [
              "                              primaryTitle  startYear  ...   director   producer\n",
              "1                              Pál Adrienn       2010  ...  nm1030585  nm1825349\n",
              "2                     So Much for Justice!       2010  ...  nm0417352  nm1064504\n",
              "3             Children of the Green Dragon       2010  ...  nm1207262  nm1064504\n",
              "5                            The Souliotes       2010  ...  nm0660147        NaN\n",
              "6   Quantum Quest: A Cassini Space Odyssey       2010  ...  nm1004541  nm3368118\n",
              "7                            The Overnight       2010  ...  nm1208371  nm0962818\n",
              "8                              In My Sleep       2010  ...  nm1075006  nm1603419\n",
              "10                             Blind Sided       2010  ...  nm0706973        NaN\n",
              "11                        Anderson's Cross       2010  ...  nm1516329  nm1518156\n",
              "12                        Den milde smerte       2010  ...        NaN  nm0074549\n",
              "\n",
              "[10 rows x 10 columns]"
            ]
          },
          "metadata": {
            "tags": []
          },
          "execution_count": 221
        }
      ]
    },
    {
      "cell_type": "code",
      "metadata": {
        "id": "1107ypG-BuWL",
        "colab_type": "code",
        "outputId": "93e2f5e1-b25f-4479-f60e-87e9d9593dd5",
        "colab": {
          "base_uri": "https://localhost:8080/",
          "height": 514
        }
      },
      "source": [
        "# Fill NaN and \\N to 0\n",
        "\n",
        "df = df.fillna(0)\n",
        "df = df.replace('\\\\N', 0)\n",
        "print(df.shape)\n",
        "df.head(10)"
      ],
      "execution_count": 222,
      "outputs": [
        {
          "output_type": "stream",
          "text": [
            "(57829, 10)\n"
          ],
          "name": "stdout"
        },
        {
          "output_type": "execute_result",
          "data": {
            "text/html": [
              "<div>\n",
              "<style scoped>\n",
              "    .dataframe tbody tr th:only-of-type {\n",
              "        vertical-align: middle;\n",
              "    }\n",
              "\n",
              "    .dataframe tbody tr th {\n",
              "        vertical-align: top;\n",
              "    }\n",
              "\n",
              "    .dataframe thead th {\n",
              "        text-align: right;\n",
              "    }\n",
              "</style>\n",
              "<table border=\"1\" class=\"dataframe\">\n",
              "  <thead>\n",
              "    <tr style=\"text-align: right;\">\n",
              "      <th></th>\n",
              "      <th>primaryTitle</th>\n",
              "      <th>startYear</th>\n",
              "      <th>runtimeMinutes</th>\n",
              "      <th>genres</th>\n",
              "      <th>averageRating</th>\n",
              "      <th>numVotes</th>\n",
              "      <th>actor</th>\n",
              "      <th>actress</th>\n",
              "      <th>director</th>\n",
              "      <th>producer</th>\n",
              "    </tr>\n",
              "  </thead>\n",
              "  <tbody>\n",
              "    <tr>\n",
              "      <th>1</th>\n",
              "      <td>Pál Adrienn</td>\n",
              "      <td>2010</td>\n",
              "      <td>136</td>\n",
              "      <td>Drama</td>\n",
              "      <td>6.7</td>\n",
              "      <td>466</td>\n",
              "      <td>nm0957482</td>\n",
              "      <td>nm3140529</td>\n",
              "      <td>nm1030585</td>\n",
              "      <td>nm1825349</td>\n",
              "    </tr>\n",
              "    <tr>\n",
              "      <th>2</th>\n",
              "      <td>So Much for Justice!</td>\n",
              "      <td>2010</td>\n",
              "      <td>100</td>\n",
              "      <td>History</td>\n",
              "      <td>4.5</td>\n",
              "      <td>66</td>\n",
              "      <td>nm0610960</td>\n",
              "      <td>0</td>\n",
              "      <td>nm0417352</td>\n",
              "      <td>nm1064504</td>\n",
              "    </tr>\n",
              "    <tr>\n",
              "      <th>3</th>\n",
              "      <td>Children of the Green Dragon</td>\n",
              "      <td>2010</td>\n",
              "      <td>89</td>\n",
              "      <td>Drama</td>\n",
              "      <td>6.8</td>\n",
              "      <td>125</td>\n",
              "      <td>nm0753588</td>\n",
              "      <td>nm1342004</td>\n",
              "      <td>nm1207262</td>\n",
              "      <td>nm1064504</td>\n",
              "    </tr>\n",
              "    <tr>\n",
              "      <th>5</th>\n",
              "      <td>The Souliotes</td>\n",
              "      <td>2010</td>\n",
              "      <td>91</td>\n",
              "      <td>Adventure</td>\n",
              "      <td>6.2</td>\n",
              "      <td>132</td>\n",
              "      <td>nm0689220</td>\n",
              "      <td>nm0441502</td>\n",
              "      <td>nm0660147</td>\n",
              "      <td>0</td>\n",
              "    </tr>\n",
              "    <tr>\n",
              "      <th>6</th>\n",
              "      <td>Quantum Quest: A Cassini Space Odyssey</td>\n",
              "      <td>2010</td>\n",
              "      <td>45</td>\n",
              "      <td>Adventure</td>\n",
              "      <td>4.9</td>\n",
              "      <td>291</td>\n",
              "      <td>nm1517976</td>\n",
              "      <td>nm0001605</td>\n",
              "      <td>nm1004541</td>\n",
              "      <td>nm3368118</td>\n",
              "    </tr>\n",
              "    <tr>\n",
              "      <th>7</th>\n",
              "      <td>The Overnight</td>\n",
              "      <td>2010</td>\n",
              "      <td>88</td>\n",
              "      <td>0</td>\n",
              "      <td>7.5</td>\n",
              "      <td>24</td>\n",
              "      <td>nm1211335</td>\n",
              "      <td>nm1029032</td>\n",
              "      <td>nm1208371</td>\n",
              "      <td>nm0962818</td>\n",
              "    </tr>\n",
              "    <tr>\n",
              "      <th>8</th>\n",
              "      <td>In My Sleep</td>\n",
              "      <td>2010</td>\n",
              "      <td>104</td>\n",
              "      <td>Drama</td>\n",
              "      <td>5.5</td>\n",
              "      <td>1933</td>\n",
              "      <td>nm0934618</td>\n",
              "      <td>nm0000327</td>\n",
              "      <td>nm1075006</td>\n",
              "      <td>nm1603419</td>\n",
              "    </tr>\n",
              "    <tr>\n",
              "      <th>10</th>\n",
              "      <td>Blind Sided</td>\n",
              "      <td>2010</td>\n",
              "      <td>0</td>\n",
              "      <td>Comedy</td>\n",
              "      <td>7.4</td>\n",
              "      <td>14</td>\n",
              "      <td>nm1069500</td>\n",
              "      <td>nm3846562</td>\n",
              "      <td>nm0706973</td>\n",
              "      <td>0</td>\n",
              "    </tr>\n",
              "    <tr>\n",
              "      <th>11</th>\n",
              "      <td>Anderson's Cross</td>\n",
              "      <td>2010</td>\n",
              "      <td>98</td>\n",
              "      <td>Comedy</td>\n",
              "      <td>5</td>\n",
              "      <td>107</td>\n",
              "      <td>nm0912966</td>\n",
              "      <td>nm0001026</td>\n",
              "      <td>nm1516329</td>\n",
              "      <td>nm1518156</td>\n",
              "    </tr>\n",
              "    <tr>\n",
              "      <th>12</th>\n",
              "      <td>Den milde smerte</td>\n",
              "      <td>2010</td>\n",
              "      <td>280</td>\n",
              "      <td>Drama</td>\n",
              "      <td>7.8</td>\n",
              "      <td>6</td>\n",
              "      <td>nm0104888</td>\n",
              "      <td>nm0088371</td>\n",
              "      <td>0</td>\n",
              "      <td>nm0074549</td>\n",
              "    </tr>\n",
              "  </tbody>\n",
              "</table>\n",
              "</div>"
            ],
            "text/plain": [
              "                              primaryTitle  startYear  ...   director   producer\n",
              "1                              Pál Adrienn       2010  ...  nm1030585  nm1825349\n",
              "2                     So Much for Justice!       2010  ...  nm0417352  nm1064504\n",
              "3             Children of the Green Dragon       2010  ...  nm1207262  nm1064504\n",
              "5                            The Souliotes       2010  ...  nm0660147          0\n",
              "6   Quantum Quest: A Cassini Space Odyssey       2010  ...  nm1004541  nm3368118\n",
              "7                            The Overnight       2010  ...  nm1208371  nm0962818\n",
              "8                              In My Sleep       2010  ...  nm1075006  nm1603419\n",
              "10                             Blind Sided       2010  ...  nm0706973          0\n",
              "11                        Anderson's Cross       2010  ...  nm1516329  nm1518156\n",
              "12                        Den milde smerte       2010  ...          0  nm0074549\n",
              "\n",
              "[10 rows x 10 columns]"
            ]
          },
          "metadata": {
            "tags": []
          },
          "execution_count": 222
        }
      ]
    },
    {
      "cell_type": "code",
      "metadata": {
        "id": "a3yphHNVBuWN",
        "colab_type": "code",
        "outputId": "ec2e8437-e630-4771-f395-7ac7c5ad9ce9",
        "colab": {
          "base_uri": "https://localhost:8080/",
          "height": 302
        }
      },
      "source": [
        "df.info()"
      ],
      "execution_count": 223,
      "outputs": [
        {
          "output_type": "stream",
          "text": [
            "<class 'pandas.core.frame.DataFrame'>\n",
            "Int64Index: 57829 entries, 1 to 81694\n",
            "Data columns (total 10 columns):\n",
            " #   Column          Non-Null Count  Dtype \n",
            "---  ------          --------------  ----- \n",
            " 0   primaryTitle    57829 non-null  object\n",
            " 1   startYear       57829 non-null  int64 \n",
            " 2   runtimeMinutes  57829 non-null  object\n",
            " 3   genres          57829 non-null  object\n",
            " 4   averageRating   57829 non-null  object\n",
            " 5   numVotes        57829 non-null  object\n",
            " 6   actor           57829 non-null  object\n",
            " 7   actress         57829 non-null  object\n",
            " 8   director        57829 non-null  object\n",
            " 9   producer        57829 non-null  object\n",
            "dtypes: int64(1), object(9)\n",
            "memory usage: 4.9+ MB\n"
          ],
          "name": "stdout"
        }
      ]
    },
    {
      "cell_type": "code",
      "metadata": {
        "id": "rGN2j9NQ731h",
        "colab_type": "code",
        "colab": {}
      },
      "source": [
        "#Relationship between the imdb score and the profit made by the movie \n",
        "\n",
        "#ggplot(aes(x='imdb_score', y='Profit'), data=movie_df) +\\\n",
        "#    geom_line() +\\\n",
        "#    stat_smooth(colour='blue', span=1)"
      ],
      "execution_count": 0,
      "outputs": []
    },
    {
      "cell_type": "code",
      "metadata": {
        "id": "VH95yIIIBuWP",
        "colab_type": "code",
        "outputId": "09c73b8a-e3cd-43f9-efb6-b2427e20cac3",
        "colab": {
          "base_uri": "https://localhost:8080/",
          "height": 302
        }
      },
      "source": [
        "# Make some columns numeric\n",
        "\n",
        "df['runtimeMinutes'] = df['runtimeMinutes'].astype('str').astype('int')\n",
        "df['averageRating'] = df['averageRating'].astype('str').astype('float')\n",
        "df['averageRating'] = df['averageRating'].astype('int')\n",
        "df['numVotes'] = df['numVotes'].astype('str').astype('int')\n",
        "df.info()"
      ],
      "execution_count": 225,
      "outputs": [
        {
          "output_type": "stream",
          "text": [
            "<class 'pandas.core.frame.DataFrame'>\n",
            "Int64Index: 57829 entries, 1 to 81694\n",
            "Data columns (total 10 columns):\n",
            " #   Column          Non-Null Count  Dtype \n",
            "---  ------          --------------  ----- \n",
            " 0   primaryTitle    57829 non-null  object\n",
            " 1   startYear       57829 non-null  int64 \n",
            " 2   runtimeMinutes  57829 non-null  int64 \n",
            " 3   genres          57829 non-null  object\n",
            " 4   averageRating   57829 non-null  int64 \n",
            " 5   numVotes        57829 non-null  int64 \n",
            " 6   actor           57829 non-null  object\n",
            " 7   actress         57829 non-null  object\n",
            " 8   director        57829 non-null  object\n",
            " 9   producer        57829 non-null  object\n",
            "dtypes: int64(4), object(6)\n",
            "memory usage: 4.9+ MB\n"
          ],
          "name": "stdout"
        }
      ]
    },
    {
      "cell_type": "code",
      "metadata": {
        "id": "TR04NqWPBuWR",
        "colab_type": "code",
        "colab": {}
      },
      "source": [
        "#1 (a) Define a function to convert object types and string types to category type\n",
        "\n",
        "def str_to_hashcode(my_df):\n",
        "    for p,q in my_df.items(): #my_df.items() is a generator in Python\n",
        "        if is_string_dtype(q): \n",
        "            my_df[p] = q.astype('category').cat.as_ordered()\n",
        "            my_df[p] = my_df[p].cat.codes\n",
        "    return my_df"
      ],
      "execution_count": 0,
      "outputs": []
    },
    {
      "cell_type": "code",
      "metadata": {
        "id": "iBp7upxHBuWT",
        "colab_type": "code",
        "colab": {}
      },
      "source": [
        "df = str_to_hashcode(df)"
      ],
      "execution_count": 0,
      "outputs": []
    },
    {
      "cell_type": "code",
      "metadata": {
        "id": "SgwqiFL4BuWW",
        "colab_type": "code",
        "outputId": "f4d49f33-02b1-4934-f3ab-63c530e30412",
        "colab": {
          "base_uri": "https://localhost:8080/",
          "height": 481
        }
      },
      "source": [
        "df.info()\n",
        "df.head()"
      ],
      "execution_count": 228,
      "outputs": [
        {
          "output_type": "stream",
          "text": [
            "<class 'pandas.core.frame.DataFrame'>\n",
            "Int64Index: 57829 entries, 1 to 81694\n",
            "Data columns (total 10 columns):\n",
            " #   Column          Non-Null Count  Dtype\n",
            "---  ------          --------------  -----\n",
            " 0   primaryTitle    57829 non-null  int32\n",
            " 1   startYear       57829 non-null  int64\n",
            " 2   runtimeMinutes  57829 non-null  int64\n",
            " 3   genres          57829 non-null  int8 \n",
            " 4   averageRating   57829 non-null  int64\n",
            " 5   numVotes        57829 non-null  int64\n",
            " 6   actor           57829 non-null  int32\n",
            " 7   actress         57829 non-null  int16\n",
            " 8   director        57829 non-null  int32\n",
            " 9   producer        57829 non-null  int16\n",
            "dtypes: int16(2), int32(3), int64(4), int8(1)\n",
            "memory usage: 3.1 MB\n"
          ],
          "name": "stdout"
        },
        {
          "output_type": "execute_result",
          "data": {
            "text/html": [
              "<div>\n",
              "<style scoped>\n",
              "    .dataframe tbody tr th:only-of-type {\n",
              "        vertical-align: middle;\n",
              "    }\n",
              "\n",
              "    .dataframe tbody tr th {\n",
              "        vertical-align: top;\n",
              "    }\n",
              "\n",
              "    .dataframe thead th {\n",
              "        text-align: right;\n",
              "    }\n",
              "</style>\n",
              "<table border=\"1\" class=\"dataframe\">\n",
              "  <thead>\n",
              "    <tr style=\"text-align: right;\">\n",
              "      <th></th>\n",
              "      <th>primaryTitle</th>\n",
              "      <th>startYear</th>\n",
              "      <th>runtimeMinutes</th>\n",
              "      <th>genres</th>\n",
              "      <th>averageRating</th>\n",
              "      <th>numVotes</th>\n",
              "      <th>actor</th>\n",
              "      <th>actress</th>\n",
              "      <th>director</th>\n",
              "      <th>producer</th>\n",
              "    </tr>\n",
              "  </thead>\n",
              "  <tbody>\n",
              "    <tr>\n",
              "      <th>1</th>\n",
              "      <td>35629</td>\n",
              "      <td>2010</td>\n",
              "      <td>136</td>\n",
              "      <td>9</td>\n",
              "      <td>6</td>\n",
              "      <td>466</td>\n",
              "      <td>7706</td>\n",
              "      <td>14381</td>\n",
              "      <td>9023</td>\n",
              "      <td>9243</td>\n",
              "    </tr>\n",
              "    <tr>\n",
              "      <th>2</th>\n",
              "      <td>40178</td>\n",
              "      <td>2010</td>\n",
              "      <td>100</td>\n",
              "      <td>12</td>\n",
              "      <td>4</td>\n",
              "      <td>66</td>\n",
              "      <td>5510</td>\n",
              "      <td>0</td>\n",
              "      <td>3870</td>\n",
              "      <td>5851</td>\n",
              "    </tr>\n",
              "    <tr>\n",
              "      <th>3</th>\n",
              "      <td>9631</td>\n",
              "      <td>2010</td>\n",
              "      <td>89</td>\n",
              "      <td>9</td>\n",
              "      <td>6</td>\n",
              "      <td>125</td>\n",
              "      <td>6430</td>\n",
              "      <td>7701</td>\n",
              "      <td>10726</td>\n",
              "      <td>5851</td>\n",
              "    </tr>\n",
              "    <tr>\n",
              "      <th>5</th>\n",
              "      <td>47961</td>\n",
              "      <td>2010</td>\n",
              "      <td>91</td>\n",
              "      <td>3</td>\n",
              "      <td>6</td>\n",
              "      <td>132</td>\n",
              "      <td>6050</td>\n",
              "      <td>2894</td>\n",
              "      <td>5949</td>\n",
              "      <td>0</td>\n",
              "    </tr>\n",
              "    <tr>\n",
              "      <th>6</th>\n",
              "      <td>35686</td>\n",
              "      <td>2010</td>\n",
              "      <td>45</td>\n",
              "      <td>3</td>\n",
              "      <td>4</td>\n",
              "      <td>291</td>\n",
              "      <td>11554</td>\n",
              "      <td>303</td>\n",
              "      <td>8641</td>\n",
              "      <td>14620</td>\n",
              "    </tr>\n",
              "  </tbody>\n",
              "</table>\n",
              "</div>"
            ],
            "text/plain": [
              "   primaryTitle  startYear  runtimeMinutes  ...  actress  director  producer\n",
              "1         35629       2010             136  ...    14381      9023      9243\n",
              "2         40178       2010             100  ...        0      3870      5851\n",
              "3          9631       2010              89  ...     7701     10726      5851\n",
              "5         47961       2010              91  ...     2894      5949         0\n",
              "6         35686       2010              45  ...      303      8641     14620\n",
              "\n",
              "[5 rows x 10 columns]"
            ]
          },
          "metadata": {
            "tags": []
          },
          "execution_count": 228
        }
      ]
    },
    {
      "cell_type": "code",
      "metadata": {
        "id": "WBd65RHS8tq6",
        "colab_type": "code",
        "outputId": "e679f0b8-bdb3-4898-c576-c6a22d144ece",
        "colab": {
          "base_uri": "https://localhost:8080/",
          "height": 606
        }
      },
      "source": [
        "import seaborn as sns\n",
        "# Graphical presentaion \n",
        "plt.figure(figsize=(10,10))\n",
        "sns.countplot(df[\"averageRating\"])\n",
        "plt.show()"
      ],
      "execution_count": 229,
      "outputs": [
        {
          "output_type": "display_data",
          "data": {
            "image/png": "[encoded data removed]",
            "text/plain": [
              "<Figure size 720x720 with 1 Axes>"
            ]
          },
          "metadata": {
            "tags": [],
            "needs_background": "light"
          }
        }
      ]
    },
    {
      "cell_type": "code",
      "metadata": {
        "id": "XsqnN4RMqNoC",
        "colab_type": "code",
        "colab": {}
      },
      "source": [
        "# Scale ratings into 0,1,2 which means low, medium, high score\n",
        "df['averageRating'] = (df['averageRating']-1.5)/3\n",
        "df['averageRating'] = df['averageRating'].astype('int')"
      ],
      "execution_count": 0,
      "outputs": []
    },
    {
      "cell_type": "code",
      "metadata": {
        "id": "vOfsoMa-qOsz",
        "colab_type": "code",
        "colab": {
          "base_uri": "https://localhost:8080/",
          "height": 606
        },
        "outputId": "dd3c82aa-b3e7-41cf-cc73-35202a1bf47d"
      },
      "source": [
        "plt.figure(figsize=(10,10))\n",
        "sns.countplot(df[\"averageRating\"])\n",
        "plt.show()"
      ],
      "execution_count": 231,
      "outputs": [
        {
          "output_type": "display_data",
          "data": {
            "image/png": "[encoded data removed]",
            "text/plain": [
              "<Figure size 720x720 with 1 Axes>"
            ]
          },
          "metadata": {
            "tags": [],
            "needs_background": "light"
          }
        }
      ]
    },
    {
      "cell_type": "markdown",
      "metadata": {
        "id": "HsGV0G1iLe-H",
        "colab_type": "text"
      },
      "source": [
        "## Train-test split"
      ]
    },
    {
      "cell_type": "code",
      "metadata": {
        "colab_type": "code",
        "id": "P5GXxSxg6XZ0",
        "colab": {}
      },
      "source": [
        "X=pd.DataFrame(columns=['primaryTitle', 'startYear','runtimeMinutes','genres','numVotes',\n",
        "            'actor','actress','director','producer'],data=df)\n",
        "y=pd.DataFrame(columns=['averageRating'],data=df)\n",
        "from sklearn.model_selection import train_test_split\n",
        "X_train, X_test, y_train, y_test=train_test_split(X,y,test_size=0.25,random_state=0)"
      ],
      "execution_count": 0,
      "outputs": []
    },
    {
      "cell_type": "markdown",
      "metadata": {
        "id": "BbsRnTjfO-9r",
        "colab_type": "text"
      },
      "source": [
        "## Scale"
      ]
    },
    {
      "cell_type": "code",
      "metadata": {
        "id": "E5hz4u_-IUsY",
        "colab_type": "code",
        "colab": {}
      },
      "source": [
        "from sklearn.preprocessing import StandardScaler\n",
        "sc_X = StandardScaler()\n",
        "X_train = sc_X.fit_transform(X_train)\n",
        "X_test = sc_X.transform(X_test)"
      ],
      "execution_count": 0,
      "outputs": []
    },
    {
      "cell_type": "code",
      "metadata": {
        "id": "d47G-NEYvJ79",
        "colab_type": "code",
        "outputId": "4d063769-bf02-4caf-d2af-479be6985f2d",
        "colab": {
          "base_uri": "https://localhost:8080/",
          "height": 420
        }
      },
      "source": [
        "X.info()\n",
        "y.info()"
      ],
      "execution_count": 234,
      "outputs": [
        {
          "output_type": "stream",
          "text": [
            "<class 'pandas.core.frame.DataFrame'>\n",
            "Int64Index: 57829 entries, 1 to 81694\n",
            "Data columns (total 9 columns):\n",
            " #   Column          Non-Null Count  Dtype\n",
            "---  ------          --------------  -----\n",
            " 0   primaryTitle    57829 non-null  int32\n",
            " 1   startYear       57829 non-null  int64\n",
            " 2   runtimeMinutes  57829 non-null  int64\n",
            " 3   genres          57829 non-null  int8 \n",
            " 4   numVotes        57829 non-null  int64\n",
            " 5   actor           57829 non-null  int32\n",
            " 6   actress         57829 non-null  int16\n",
            " 7   director        57829 non-null  int32\n",
            " 8   producer        57829 non-null  int16\n",
            "dtypes: int16(2), int32(3), int64(3), int8(1)\n",
            "memory usage: 5.2 MB\n",
            "<class 'pandas.core.frame.DataFrame'>\n",
            "Int64Index: 57829 entries, 1 to 81694\n",
            "Data columns (total 1 columns):\n",
            " #   Column         Non-Null Count  Dtype\n",
            "---  ------         --------------  -----\n",
            " 0   averageRating  57829 non-null  int64\n",
            "dtypes: int64(1)\n",
            "memory usage: 3.4 MB\n"
          ],
          "name": "stdout"
        }
      ]
    },
    {
      "cell_type": "markdown",
      "metadata": {
        "id": "zVb8ZeFdZed9",
        "colab_type": "text"
      },
      "source": [
        "## model"
      ]
    },
    {
      "cell_type": "markdown",
      "metadata": {
        "id": "MhiaCUP3aC7I",
        "colab_type": "text"
      },
      "source": [
        "### KNN "
      ]
    },
    {
      "cell_type": "code",
      "metadata": {
        "id": "kNQZhh1s4G0a",
        "colab_type": "code",
        "outputId": "9f07a4ae-3586-402a-c189-9206c056d7cc",
        "colab": {
          "base_uri": "https://localhost:8080/",
          "height": 504
        }
      },
      "source": [
        "from sklearn.neighbors import KNeighborsClassifier\n",
        "for i in range (1, 30):\n",
        "    knn = KNeighborsClassifier(n_neighbors=i)\n",
        "    knn.fit(X_train, np.ravel(y_train))\n",
        "    knnpre = knn.predict(X_test)\n",
        "    print(\"Accuracy:\",metrics.accuracy_score(y_test, knnpre))"
      ],
      "execution_count": 245,
      "outputs": [
        {
          "output_type": "stream",
          "text": [
            "Accuracy: 0.5904689445289805\n",
            "Accuracy: 0.556508507400747\n",
            "Accuracy: 0.6401991976760271\n",
            "Accuracy: 0.6372942315672984\n",
            "Accuracy: 0.6739521372250658\n",
            "Accuracy: 0.668764697745193\n",
            "Accuracy: 0.6887536312076359\n",
            "Accuracy: 0.689514455664684\n",
            "Accuracy: 0.6986443491492599\n",
            "Accuracy: 0.7002351639230876\n",
            "Accuracy: 0.703970120348596\n",
            "Accuracy: 0.7048692765251072\n",
            "Accuracy: 0.706045096140545\n",
            "Accuracy: 0.709088393968737\n",
            "Accuracy: 0.7116475307788076\n",
            "Accuracy: 0.7108867063217595\n",
            "Accuracy: 0.7112325356204178\n",
            "Accuracy: 0.7119933600774657\n",
            "Accuracy: 0.7122008576566606\n",
            "Accuracy: 0.7137225065707566\n",
            "Accuracy: 0.7135150089915617\n",
            "Accuracy: 0.7129616821137087\n",
            "Accuracy: 0.713653340711025\n",
            "Accuracy: 0.715174989625121\n",
            "Accuracy: 0.7145524968875363\n",
            "Accuracy: 0.7148291603264628\n",
            "Accuracy: 0.7157283165029741\n",
            "Accuracy: 0.715382487204316\n",
            "Accuracy: 0.7157283165029741\n"
          ],
          "name": "stdout"
        }
      ]
    },
    {
      "cell_type": "code",
      "metadata": {
        "id": "3FU3YC9Cth7f",
        "colab_type": "code",
        "colab": {
          "base_uri": "https://localhost:8080/",
          "height": 34
        },
        "outputId": "01a5b12a-d3b8-487d-ecc3-4e43aee586f7"
      },
      "source": [
        "# Use the proper n_neighbors parameter as 28\n",
        "knn = KNeighborsClassifier(n_neighbors=28)\n",
        "knn.fit(X_train, np.ravel(y_train))\n",
        "knnpre = knn.predict(X_test)\n",
        "print(\"Accuracy:\",metrics.accuracy_score(y_test, knnpre))"
      ],
      "execution_count": 246,
      "outputs": [
        {
          "output_type": "stream",
          "text": [
            "Accuracy: 0.715382487204316\n"
          ],
          "name": "stdout"
        }
      ]
    },
    {
      "cell_type": "code",
      "metadata": {
        "id": "4rJetJiEPuUY",
        "colab_type": "code",
        "outputId": "cb75b074-8491-481d-cff5-378f3ac97399",
        "colab": {
          "base_uri": "https://localhost:8080/",
          "height": 136
        }
      },
      "source": [
        "from sklearn.metrics import confusion_matrix,accuracy_score\n",
        "from sklearn.metrics import classification_report,roc_curve,roc_auc_score\n",
        "from matplotlib import pyplot as plt\n",
        "import seaborn as sns\n",
        "\n",
        "cnf_matrix = confusion_matrix(y_test, knnpre)\n",
        "cnf_matrix_df = pd.DataFrame(cnf_matrix)\n",
        "cnf_matrix_df.head(3)"
      ],
      "execution_count": 247,
      "outputs": [
        {
          "output_type": "execute_result",
          "data": {
            "text/html": [
              "<div>\n",
              "<style scoped>\n",
              "    .dataframe tbody tr th:only-of-type {\n",
              "        vertical-align: middle;\n",
              "    }\n",
              "\n",
              "    .dataframe tbody tr th {\n",
              "        vertical-align: top;\n",
              "    }\n",
              "\n",
              "    .dataframe thead th {\n",
              "        text-align: right;\n",
              "    }\n",
              "</style>\n",
              "<table border=\"1\" class=\"dataframe\">\n",
              "  <thead>\n",
              "    <tr style=\"text-align: right;\">\n",
              "      <th></th>\n",
              "      <th>0</th>\n",
              "      <th>1</th>\n",
              "      <th>2</th>\n",
              "    </tr>\n",
              "  </thead>\n",
              "  <tbody>\n",
              "    <tr>\n",
              "      <th>0</th>\n",
              "      <td>224</td>\n",
              "      <td>2934</td>\n",
              "      <td>0</td>\n",
              "    </tr>\n",
              "    <tr>\n",
              "      <th>1</th>\n",
              "      <td>203</td>\n",
              "      <td>10117</td>\n",
              "      <td>2</td>\n",
              "    </tr>\n",
              "    <tr>\n",
              "      <th>2</th>\n",
              "      <td>20</td>\n",
              "      <td>956</td>\n",
              "      <td>2</td>\n",
              "    </tr>\n",
              "  </tbody>\n",
              "</table>\n",
              "</div>"
            ],
            "text/plain": [
              "     0      1  2\n",
              "0  224   2934  0\n",
              "1  203  10117  2\n",
              "2   20    956  2"
            ]
          },
          "metadata": {
            "tags": []
          },
          "execution_count": 247
        }
      ]
    },
    {
      "cell_type": "code",
      "metadata": {
        "id": "gfzYjZPsQBat",
        "colab_type": "code",
        "outputId": "d3437d6e-a5cb-45a7-a279-1b7ae06b5a61",
        "colab": {
          "base_uri": "https://localhost:8080/",
          "height": 136
        }
      },
      "source": [
        "cnf_matrix_df.columns = [\"class 1\",\"class 2\", \"class 3\"]\n",
        "cnf_matrix_df.index = [\"class 1\",\"class 2\", \"class 3\"]\n",
        "cnf_matrix_df = cnf_matrix_df.T\n",
        "cnf_matrix_df"
      ],
      "execution_count": 248,
      "outputs": [
        {
          "output_type": "execute_result",
          "data": {
            "text/html": [
              "<div>\n",
              "<style scoped>\n",
              "    .dataframe tbody tr th:only-of-type {\n",
              "        vertical-align: middle;\n",
              "    }\n",
              "\n",
              "    .dataframe tbody tr th {\n",
              "        vertical-align: top;\n",
              "    }\n",
              "\n",
              "    .dataframe thead th {\n",
              "        text-align: right;\n",
              "    }\n",
              "</style>\n",
              "<table border=\"1\" class=\"dataframe\">\n",
              "  <thead>\n",
              "    <tr style=\"text-align: right;\">\n",
              "      <th></th>\n",
              "      <th>class 1</th>\n",
              "      <th>class 2</th>\n",
              "      <th>class 3</th>\n",
              "    </tr>\n",
              "  </thead>\n",
              "  <tbody>\n",
              "    <tr>\n",
              "      <th>class 1</th>\n",
              "      <td>224</td>\n",
              "      <td>203</td>\n",
              "      <td>20</td>\n",
              "    </tr>\n",
              "    <tr>\n",
              "      <th>class 2</th>\n",
              "      <td>2934</td>\n",
              "      <td>10117</td>\n",
              "      <td>956</td>\n",
              "    </tr>\n",
              "    <tr>\n",
              "      <th>class 3</th>\n",
              "      <td>0</td>\n",
              "      <td>2</td>\n",
              "      <td>2</td>\n",
              "    </tr>\n",
              "  </tbody>\n",
              "</table>\n",
              "</div>"
            ],
            "text/plain": [
              "         class 1  class 2  class 3\n",
              "class 1      224      203       20\n",
              "class 2     2934    10117      956\n",
              "class 3        0        2        2"
            ]
          },
          "metadata": {
            "tags": []
          },
          "execution_count": 248
        }
      ]
    },
    {
      "cell_type": "code",
      "metadata": {
        "id": "NxpE46I9QN71",
        "colab_type": "code",
        "outputId": "af868b43-8ad4-4875-ed22-b7c053a55b1b",
        "colab": {
          "base_uri": "https://localhost:8080/",
          "height": 405
        }
      },
      "source": [
        "plt.figure(figsize = (8,6))\n",
        "sns.heatmap(cnf_matrix_df,annot = True,fmt = 'g')\n",
        "plt.xlabel(\"Actual\")\n",
        "plt.ylabel(\"Predicted\")"
      ],
      "execution_count": 249,
      "outputs": [
        {
          "output_type": "execute_result",
          "data": {
            "text/plain": [
              "Text(51.0, 0.5, 'Predicted')"
            ]
          },
          "metadata": {
            "tags": []
          },
          "execution_count": 249
        },
        {
          "output_type": "display_data",
          "data": {
            "image/png": "[encoded data removed]",
            "text/plain": [
              "<Figure size 576x432 with 2 Axes>"
            ]
          },
          "metadata": {
            "tags": [],
            "needs_background": "light"
          }
        }
      ]
    },
    {
      "cell_type": "code",
      "metadata": {
        "id": "MRlezQJjRFdR",
        "colab_type": "code",
        "outputId": "718ccccd-91b6-4858-82b9-1965a80d0b74",
        "colab": {
          "base_uri": "https://localhost:8080/",
          "height": 50
        }
      },
      "source": [
        "#class 2\n",
        "\n",
        "# true positives\n",
        "tp = 12257\n",
        "#true negatives\n",
        "tn = 126\n",
        "#false positives\n",
        "fp = 4834\n",
        "#false negatives\n",
        "fn = 132\n",
        "\n",
        "# Recall (Sensitivity) = tp/tp+fn, Precision = tp/tp+fp\n",
        "\n",
        "recall = tp/(tp+fn)\n",
        "precision = tp/(tp+fp)\n",
        "print(\"recall\", recall, \"precision\", precision)\n",
        "\n",
        "#F1 score = 2*(precision * recall)/precision + recall\n",
        "\n",
        "f_score = (2*recall*precision)/(recall+precision)\n",
        "print(\"F Score\", f_score)"
      ],
      "execution_count": 250,
      "outputs": [
        {
          "output_type": "stream",
          "text": [
            "recall 0.9893453870368876 precision 0.7171610789304312\n",
            "F Score 0.8315468113975577\n"
          ],
          "name": "stdout"
        }
      ]
    },
    {
      "cell_type": "markdown",
      "metadata": {
        "id": "E-KeOc3IZ5re",
        "colab_type": "text"
      },
      "source": [
        "### Logistic Regression"
      ]
    },
    {
      "cell_type": "code",
      "metadata": {
        "id": "cHuRPl68ZhDW",
        "colab_type": "code",
        "colab": {
          "base_uri": "https://localhost:8080/",
          "height": 34
        },
        "outputId": "68d55f33-1ec0-4283-f4d2-bfe63ca66b9f"
      },
      "source": [
        "import numpy as np\n",
        "from sklearn import metrics\n",
        "from sklearn.linear_model import LogisticRegression\n",
        "logit =LogisticRegression()\n",
        "logit.fit(X_train,np.ravel(y_train))\n",
        "y_pred=logit.predict(X_test)\n",
        "print(\"Accuracy:\",metrics.accuracy_score(y_test, y_pred))"
      ],
      "execution_count": 256,
      "outputs": [
        {
          "output_type": "stream",
          "text": [
            "Accuracy: 0.7139991700096833\n"
          ],
          "name": "stdout"
        }
      ]
    },
    {
      "cell_type": "code",
      "metadata": {
        "id": "69g_1uo-ZmFE",
        "colab_type": "code",
        "outputId": "d78e35ed-57e1-4fd0-c5e0-887e71ed043e",
        "colab": {
          "base_uri": "https://localhost:8080/",
          "height": 405
        }
      },
      "source": [
        "plt.figure(figsize = (8,6))\n",
        "sns.heatmap(cnf_matrix_df,annot = True,fmt = 'g')\n",
        "plt.xlabel(\"Actual\")\n",
        "plt.ylabel(\"Predicted\")"
      ],
      "execution_count": 261,
      "outputs": [
        {
          "output_type": "execute_result",
          "data": {
            "text/plain": [
              "Text(51.0, 0.5, 'Predicted')"
            ]
          },
          "metadata": {
            "tags": []
          },
          "execution_count": 261
        },
        {
          "output_type": "display_data",
          "data": {
            "image/png": "[encoded data removed]",
            "text/plain": [
              "<Figure size 576x432 with 2 Axes>"
            ]
          },
          "metadata": {
            "tags": [],
            "needs_background": "light"
          }
        }
      ]
    },
    {
      "cell_type": "markdown",
      "metadata": {
        "id": "Ua1aTzn5aXsr",
        "colab_type": "text"
      },
      "source": [
        "### random forest"
      ]
    },
    {
      "cell_type": "code",
      "metadata": {
        "id": "P6uRUBLYccAL",
        "colab_type": "code",
        "outputId": "f0098446-b3c7-451f-ee4d-800a069b83a1",
        "colab": {
          "base_uri": "https://localhost:8080/",
          "height": 353
        }
      },
      "source": [
        "from sklearn.ensemble import RandomForestClassifier\n",
        "for i in range (10, 300, 30):\n",
        "    rfc = RandomForestClassifier(n_estimators = i)\n",
        "    rfc.fit(X_train, np.ravel(y_train))\n",
        "    rfcpred = rfc.predict(X_test)\n",
        "    #cnf_matrix = metrics.confusion_matrix(y_test, rfcpred)    \n",
        "    print(i)\n",
        "    print(\"Accuracy:\",metrics.accuracy_score(y_test, rfcpred))"
      ],
      "execution_count": 264,
      "outputs": [
        {
          "output_type": "stream",
          "text": [
            "10\n",
            "Accuracy: 0.6983676857103334\n",
            "40\n",
            "Accuracy: 0.7301839811868861\n",
            "70\n",
            "Accuracy: 0.7317056301009821\n",
            "100\n",
            "Accuracy: 0.7342647669110527\n",
            "130\n",
            "Accuracy: 0.7330197814358832\n",
            "160\n",
            "Accuracy: 0.7328122838566883\n",
            "190\n",
            "Accuracy: 0.7340572693318578\n",
            "220\n",
            "Accuracy: 0.7353022548070273\n",
            "250\n",
            "Accuracy: 0.7333656107345414\n",
            "280\n",
            "Accuracy: 0.7322589569788353\n"
          ],
          "name": "stdout"
        }
      ]
    },
    {
      "cell_type": "code",
      "metadata": {
        "id": "XOvzP5gFz3kn",
        "colab_type": "code",
        "colab": {
          "base_uri": "https://localhost:8080/",
          "height": 34
        },
        "outputId": "3eb5fa8c-24b3-43f5-8995-6e6552ae83bd"
      },
      "source": [
        "# Use the proper n_estimators parameter as 220\n",
        "rfc = RandomForestClassifier(n_estimators = 220)\n",
        "rfc.fit(X_train, np.ravel(y_train))\n",
        "rfcpred = rfc.predict(X_test)  \n",
        "print(\"Accuracy:\",metrics.accuracy_score(y_test, rfcpred))"
      ],
      "execution_count": 267,
      "outputs": [
        {
          "output_type": "stream",
          "text": [
            "Accuracy: 0.7330197814358832\n"
          ],
          "name": "stdout"
        }
      ]
    },
    {
      "cell_type": "code",
      "metadata": {
        "id": "71ycjSNG0hIX",
        "colab_type": "code",
        "colab": {
          "base_uri": "https://localhost:8080/",
          "height": 405
        },
        "outputId": "ac89fb57-58fe-4582-8b74-df5a5a0d7aba"
      },
      "source": [
        "cnf_matrix = confusion_matrix(y_test, rfcpred)\n",
        "plt.figure(figsize = (8,6))\n",
        "sns.heatmap(cnf_matrix_df,annot = True,fmt = 'g')\n",
        "plt.xlabel(\"Actual\")\n",
        "plt.ylabel(\"Predicted\")"
      ],
      "execution_count": 268,
      "outputs": [
        {
          "output_type": "execute_result",
          "data": {
            "text/plain": [
              "Text(51.0, 0.5, 'Predicted')"
            ]
          },
          "metadata": {
            "tags": []
          },
          "execution_count": 268
        },
        {
          "output_type": "display_data",
          "data": {
            "image/png": "[encoded data removed]",
            "text/plain": [
              "<Figure size 576x432 with 2 Axes>"
            ]
          },
          "metadata": {
            "tags": [],
            "needs_background": "light"
          }
        }
      ]
    }
  ]
}