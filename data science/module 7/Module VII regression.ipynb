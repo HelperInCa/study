{
 "cells": [
  {
   "cell_type": "markdown",
   "metadata": {},
   "source": [
    "Contents\n",
    "\n",
    "1. The Avito Kaggle Challenge: understanding the competition and reading in data\n",
    "2. Define functions for this machine learning exerise\n",
    "3. Preprocess train data using the defined functions\n",
    "4. Model building, hyperparameter tuning, and some exploratory data analysis (EDA)\n",
    "5. Test out your model"
   ]
  },
  {
   "cell_type": "markdown",
   "metadata": {},
   "source": [
    "# 1. The Avito Kaggle Challenge: understanding the competition and reading in data"
   ]
  },
  {
   "cell_type": "markdown",
   "metadata": {},
   "source": [
    "'''Please visit the Kaggle website for this competition to learn more.\n",
    "https://www.kaggle.com/c/avito-demand-prediction#evaluation. Our goal is to predict demand\n",
    "for an online ad. We need to predict a continuous variables, deal probability, and the\n",
    "metric for performance is root mean squared error. This is a great big data, regression\n",
    "problem for our class. The train and test data are given s separate datasets'''"
   ]
  },
  {
   "cell_type": "code",
   "execution_count": 1,
   "metadata": {},
   "outputs": [],
   "source": [
    "import pandas as pd\n",
    "from sklearn.ensemble import RandomForestRegressor\n",
    "from sklearn.metrics import accuracy_score,f1_score\n",
    "from pandas.api.types import is_string_dtype,is_numeric_dtype\n",
    "import seaborn as sns\n",
    "import matplotlib.pyplot as plt\n",
    "from sklearn.model_selection import train_test_split\n",
    "import numpy as np\n",
    "\n",
    "%matplotlib inline"
   ]
  },
  {
   "cell_type": "code",
   "execution_count": 2,
   "metadata": {},
   "outputs": [
    {
     "data": {
      "text/plain": [
       "'/Users/ram/Desktop/INFO 6105 LS copy/Module VII'"
      ]
     },
     "execution_count": 2,
     "metadata": {},
     "output_type": "execute_result"
    }
   ],
   "source": [
    "%pwd # this line is optional, and will output differently for you!"
   ]
  },
  {
   "cell_type": "code",
   "execution_count": 3,
   "metadata": {},
   "outputs": [],
   "source": [
    "path = '/Users/ram/Desktop/INFO 6105 LS copy/Module VII' # Change this based on cell 2's output"
   ]
  },
  {
   "cell_type": "code",
   "execution_count": 4,
   "metadata": {},
   "outputs": [
    {
     "name": "stdout",
     "output_type": "stream",
     "text": [
      "test.csv  train.csv\r\n"
     ]
    }
   ],
   "source": [
    "!ls '/Users/ram/Desktop/INFO 6105 LS copy/Module VII/Avito_kaggle/' # Make sure you have these two files in your folder"
   ]
  },
  {
   "cell_type": "code",
   "execution_count": 5,
   "metadata": {},
   "outputs": [
    {
     "name": "stdout",
     "output_type": "stream",
     "text": [
      "(1503424, 18)\n"
     ]
    },
    {
     "data": {
      "text/html": [
       "<div>\n",
       "<style scoped>\n",
       "    .dataframe tbody tr th:only-of-type {\n",
       "        vertical-align: middle;\n",
       "    }\n",
       "\n",
       "    .dataframe tbody tr th {\n",
       "        vertical-align: top;\n",
       "    }\n",
       "\n",
       "    .dataframe thead th {\n",
       "        text-align: right;\n",
       "    }\n",
       "</style>\n",
       "<table border=\"1\" class=\"dataframe\">\n",
       "  <thead>\n",
       "    <tr style=\"text-align: right;\">\n",
       "      <th></th>\n",
       "      <th>item_id</th>\n",
       "      <th>user_id</th>\n",
       "      <th>region</th>\n",
       "      <th>city</th>\n",
       "      <th>parent_category_name</th>\n",
       "      <th>category_name</th>\n",
       "      <th>param_1</th>\n",
       "      <th>param_2</th>\n",
       "      <th>param_3</th>\n",
       "      <th>title</th>\n",
       "      <th>description</th>\n",
       "      <th>price</th>\n",
       "      <th>item_seq_number</th>\n",
       "      <th>activation_date</th>\n",
       "      <th>user_type</th>\n",
       "      <th>image</th>\n",
       "      <th>image_top_1</th>\n",
       "      <th>deal_probability</th>\n",
       "    </tr>\n",
       "  </thead>\n",
       "  <tbody>\n",
       "    <tr>\n",
       "      <th>0</th>\n",
       "      <td>b912c3c6a6ad</td>\n",
       "      <td>e00f8ff2eaf9</td>\n",
       "      <td>Свердловская область</td>\n",
       "      <td>Екатеринбург</td>\n",
       "      <td>Личные вещи</td>\n",
       "      <td>Товары для детей и игрушки</td>\n",
       "      <td>Постельные принадлежности</td>\n",
       "      <td>NaN</td>\n",
       "      <td>NaN</td>\n",
       "      <td>Кокоби(кокон для сна)</td>\n",
       "      <td>Кокон для сна малыша,пользовались меньше месяц...</td>\n",
       "      <td>400.0</td>\n",
       "      <td>2</td>\n",
       "      <td>2017-03-28</td>\n",
       "      <td>Private</td>\n",
       "      <td>d10c7e016e03247a3bf2d13348fe959fe6f436c1caf64c...</td>\n",
       "      <td>1008.0</td>\n",
       "      <td>0.12789</td>\n",
       "    </tr>\n",
       "    <tr>\n",
       "      <th>1</th>\n",
       "      <td>2dac0150717d</td>\n",
       "      <td>39aeb48f0017</td>\n",
       "      <td>Самарская область</td>\n",
       "      <td>Самара</td>\n",
       "      <td>Для дома и дачи</td>\n",
       "      <td>Мебель и интерьер</td>\n",
       "      <td>Другое</td>\n",
       "      <td>NaN</td>\n",
       "      <td>NaN</td>\n",
       "      <td>Стойка для Одежды</td>\n",
       "      <td>Стойка для одежды, под вешалки. С бутика.</td>\n",
       "      <td>3000.0</td>\n",
       "      <td>19</td>\n",
       "      <td>2017-03-26</td>\n",
       "      <td>Private</td>\n",
       "      <td>79c9392cc51a9c81c6eb91eceb8e552171db39d7142700...</td>\n",
       "      <td>692.0</td>\n",
       "      <td>0.00000</td>\n",
       "    </tr>\n",
       "  </tbody>\n",
       "</table>\n",
       "</div>"
      ],
      "text/plain": [
       "        item_id       user_id                region          city  \\\n",
       "0  b912c3c6a6ad  e00f8ff2eaf9  Свердловская область  Екатеринбург   \n",
       "1  2dac0150717d  39aeb48f0017     Самарская область        Самара   \n",
       "\n",
       "  parent_category_name               category_name                    param_1  \\\n",
       "0          Личные вещи  Товары для детей и игрушки  Постельные принадлежности   \n",
       "1      Для дома и дачи           Мебель и интерьер                     Другое   \n",
       "\n",
       "  param_2 param_3                  title  \\\n",
       "0     NaN     NaN  Кокоби(кокон для сна)   \n",
       "1     NaN     NaN      Стойка для Одежды   \n",
       "\n",
       "                                         description   price  item_seq_number  \\\n",
       "0  Кокон для сна малыша,пользовались меньше месяц...   400.0                2   \n",
       "1          Стойка для одежды, под вешалки. С бутика.  3000.0               19   \n",
       "\n",
       "  activation_date user_type  \\\n",
       "0      2017-03-28   Private   \n",
       "1      2017-03-26   Private   \n",
       "\n",
       "                                               image  image_top_1  \\\n",
       "0  d10c7e016e03247a3bf2d13348fe959fe6f436c1caf64c...       1008.0   \n",
       "1  79c9392cc51a9c81c6eb91eceb8e552171db39d7142700...        692.0   \n",
       "\n",
       "   deal_probability  \n",
       "0           0.12789  \n",
       "1           0.00000  "
      ]
     },
     "execution_count": 5,
     "metadata": {},
     "output_type": "execute_result"
    }
   ],
   "source": [
    "'''Read in training data'''\n",
    "avi_df_raw = pd.read_csv(f'{path}/Avito_kaggle/train.csv',parse_dates = [\"activation_date\"])\n",
    "print(avi_df_raw.shape)\n",
    "avi_df_raw.head(2)"
   ]
  },
  {
   "cell_type": "code",
   "execution_count": 6,
   "metadata": {},
   "outputs": [
    {
     "name": "stdout",
     "output_type": "stream",
     "text": [
      "             item_id       user_id             region         city  \\\n",
      "751711  3b896605f03c  9457abfa0ebf  Самарская область       Самара   \n",
      "889369  c81c34d3aac5  0b161da2b144  Иркутская область       Братск   \n",
      "175952  a8ab6225dd06  93d527a1ca66      Пермский край  Краснокамск   \n",
      "\n",
      "       parent_category_name              category_name         param_1  \\\n",
      "751711          Личные вещи     Детская одежда и обувь   Для мальчиков   \n",
      "889369  Бытовая электроника                   Телефоны      Аксессуары   \n",
      "175952          Личные вещи  Одежда, обувь, аксессуары  Женская одежда   \n",
      "\n",
      "               param_2              param_3                   title  \\\n",
      "751711  Верхняя одежда  86-92 см (1-2 года)       Зимний комбенизон   \n",
      "889369  Чехлы и плёнки                  NaN     Чехол для айфона 6s   \n",
      "175952  Верхняя одежда            44–46 (M)  Продам кожанную куртку   \n",
      "\n",
      "                         description   price  item_seq_number activation_date  \\\n",
      "751711  Зимний комбенизон для малыша   500.0               12      2017-03-15   \n",
      "889369               Твёрдый пластик   100.0                5      2017-03-15   \n",
      "175952                           NaN  1500.0               32      2017-03-15   \n",
      "\n",
      "       user_type                                              image  \\\n",
      "751711   Private  a805aa774699aca42e538e1626ef70f806dd38d1bf85eb...   \n",
      "889369   Private  76c39c52a894c51499da3ee2ddecd98da533ccbdae5096...   \n",
      "175952   Private  d7cb3c4a84ce9f95958f2995474140b28ae7ad1cd0d6de...   \n",
      "\n",
      "        image_top_1  deal_probability  \n",
      "751711       1008.0               0.0  \n",
      "889369       2909.0               0.0  \n",
      "175952        527.0               0.0  \n"
     ]
    }
   ],
   "source": [
    "#Sort data by date since we want to later split validation data\n",
    "\n",
    "avi_df_raw.sort_values(by = \"activation_date\",inplace = True)\n",
    "print(avi_df_raw.head(3))"
   ]
  },
  {
   "cell_type": "code",
   "execution_count": 7,
   "metadata": {},
   "outputs": [
    {
     "data": {
      "text/html": [
       "<div>\n",
       "<style scoped>\n",
       "    .dataframe tbody tr th:only-of-type {\n",
       "        vertical-align: middle;\n",
       "    }\n",
       "\n",
       "    .dataframe tbody tr th {\n",
       "        vertical-align: top;\n",
       "    }\n",
       "\n",
       "    .dataframe thead th {\n",
       "        text-align: right;\n",
       "    }\n",
       "</style>\n",
       "<table border=\"1\" class=\"dataframe\">\n",
       "  <thead>\n",
       "    <tr style=\"text-align: right;\">\n",
       "      <th></th>\n",
       "      <th>item_id</th>\n",
       "      <th>user_id</th>\n",
       "      <th>region</th>\n",
       "      <th>city</th>\n",
       "      <th>parent_category_name</th>\n",
       "      <th>category_name</th>\n",
       "      <th>param_1</th>\n",
       "      <th>param_2</th>\n",
       "      <th>param_3</th>\n",
       "      <th>title</th>\n",
       "      <th>description</th>\n",
       "      <th>price</th>\n",
       "      <th>item_seq_number</th>\n",
       "      <th>activation_date</th>\n",
       "      <th>user_type</th>\n",
       "      <th>image</th>\n",
       "      <th>image_top_1</th>\n",
       "      <th>deal_probability</th>\n",
       "    </tr>\n",
       "  </thead>\n",
       "  <tbody>\n",
       "    <tr>\n",
       "      <th>1144414</th>\n",
       "      <td>dec461feef5b</td>\n",
       "      <td>02ebde79107e</td>\n",
       "      <td>Воронежская область</td>\n",
       "      <td>Воронеж</td>\n",
       "      <td>Бытовая электроника</td>\n",
       "      <td>Телефоны</td>\n",
       "      <td>Nokia</td>\n",
       "      <td>NaN</td>\n",
       "      <td>NaN</td>\n",
       "      <td>Lumia 830</td>\n",
       "      <td>Продам классный аппарат nokia Lumia 830. В иде...</td>\n",
       "      <td>8000.0</td>\n",
       "      <td>7</td>\n",
       "      <td>2017-04-03</td>\n",
       "      <td>Private</td>\n",
       "      <td>b512662550d0f4663a3761463c40e430cad854f731efd1...</td>\n",
       "      <td>2929.0</td>\n",
       "      <td>0.0000</td>\n",
       "    </tr>\n",
       "    <tr>\n",
       "      <th>187627</th>\n",
       "      <td>adcdea90afc7</td>\n",
       "      <td>723cf5bd2a7d</td>\n",
       "      <td>Ярославская область</td>\n",
       "      <td>Ярославль</td>\n",
       "      <td>Транспорт</td>\n",
       "      <td>Автомобили</td>\n",
       "      <td>С пробегом</td>\n",
       "      <td>ВАЗ (LADA)</td>\n",
       "      <td>2115 Samara</td>\n",
       "      <td>ВАЗ 2115 Samara, 2012</td>\n",
       "      <td>• Эксплуатация 2012 г., по ПТС 2011 г.в./\\n • ...</td>\n",
       "      <td>119500.0</td>\n",
       "      <td>2145</td>\n",
       "      <td>2017-04-07</td>\n",
       "      <td>Shop</td>\n",
       "      <td>NaN</td>\n",
       "      <td>NaN</td>\n",
       "      <td>0.7376</td>\n",
       "    </tr>\n",
       "  </tbody>\n",
       "</table>\n",
       "</div>"
      ],
      "text/plain": [
       "              item_id       user_id               region       city  \\\n",
       "1144414  dec461feef5b  02ebde79107e  Воронежская область    Воронеж   \n",
       "187627   adcdea90afc7  723cf5bd2a7d  Ярославская область  Ярославль   \n",
       "\n",
       "        parent_category_name category_name     param_1     param_2  \\\n",
       "1144414  Бытовая электроника      Телефоны       Nokia         NaN   \n",
       "187627             Транспорт    Автомобили  С пробегом  ВАЗ (LADA)   \n",
       "\n",
       "             param_3                  title  \\\n",
       "1144414          NaN              Lumia 830   \n",
       "187627   2115 Samara  ВАЗ 2115 Samara, 2012   \n",
       "\n",
       "                                               description     price  \\\n",
       "1144414  Продам классный аппарат nokia Lumia 830. В иде...    8000.0   \n",
       "187627   • Эксплуатация 2012 г., по ПТС 2011 г.в./\\n • ...  119500.0   \n",
       "\n",
       "         item_seq_number activation_date user_type  \\\n",
       "1144414                7      2017-04-03   Private   \n",
       "187627              2145      2017-04-07      Shop   \n",
       "\n",
       "                                                     image  image_top_1  \\\n",
       "1144414  b512662550d0f4663a3761463c40e430cad854f731efd1...       2929.0   \n",
       "187627                                                 NaN          NaN   \n",
       "\n",
       "         deal_probability  \n",
       "1144414            0.0000  \n",
       "187627             0.7376  "
      ]
     },
     "execution_count": 7,
     "metadata": {},
     "output_type": "execute_result"
    }
   ],
   "source": [
    "avi_df_raw.tail(2)"
   ]
  },
  {
   "cell_type": "code",
   "execution_count": 8,
   "metadata": {},
   "outputs": [
    {
     "data": {
      "text/plain": [
       "Index(['item_id', 'user_id', 'region', 'city', 'parent_category_name',\n",
       "       'category_name', 'param_1', 'param_2', 'param_3', 'title',\n",
       "       'description', 'price', 'item_seq_number', 'activation_date',\n",
       "       'user_type', 'image', 'image_top_1', 'deal_probability'],\n",
       "      dtype='object')"
      ]
     },
     "execution_count": 8,
     "metadata": {},
     "output_type": "execute_result"
    }
   ],
   "source": [
    "avi_df_raw.columns"
   ]
  },
  {
   "cell_type": "code",
   "execution_count": 9,
   "metadata": {},
   "outputs": [
    {
     "name": "stdout",
     "output_type": "stream",
     "text": [
      "<class 'pandas.core.frame.DataFrame'>\n",
      "Int64Index: 1503424 entries, 751711 to 187627\n",
      "Data columns (total 18 columns):\n",
      "item_id                 1503424 non-null object\n",
      "user_id                 1503424 non-null object\n",
      "region                  1503424 non-null object\n",
      "city                    1503424 non-null object\n",
      "parent_category_name    1503424 non-null object\n",
      "category_name           1503424 non-null object\n",
      "param_1                 1441848 non-null object\n",
      "param_2                 848882 non-null object\n",
      "param_3                 640859 non-null object\n",
      "title                   1503424 non-null object\n",
      "description             1387148 non-null object\n",
      "price                   1418062 non-null float64\n",
      "item_seq_number         1503424 non-null int64\n",
      "activation_date         1503424 non-null datetime64[ns]\n",
      "user_type               1503424 non-null object\n",
      "image                   1390836 non-null object\n",
      "image_top_1             1390836 non-null float64\n",
      "deal_probability        1503424 non-null float64\n",
      "dtypes: datetime64[ns](1), float64(3), int64(1), object(13)\n",
      "memory usage: 217.9+ MB\n"
     ]
    }
   ],
   "source": [
    "avi_df_raw.info()"
   ]
  },
  {
   "cell_type": "markdown",
   "metadata": {},
   "source": [
    "# 2. Define functions for this machine learning exerise"
   ]
  },
  {
   "cell_type": "code",
   "execution_count": 10,
   "metadata": {},
   "outputs": [],
   "source": [
    "'''Define functions to preprocess data - split dates, categorize, impute'''\n",
    "\n",
    "def split_dates(df,date_column):\n",
    "    date_df = pd.DataFrame({\"year\": df[date_column].dt.year,\n",
    "              \"month\": df[date_column].dt.month,\n",
    "              \"day\": df[date_column].dt.day,\n",
    "              \"dayofyear\": df[date_column].dt.dayofyear,\n",
    "              \"week\": df[date_column].dt.week,\n",
    "              \"weekofyear\": df[date_column].dt.weekofyear,\n",
    "              \"dayofweek\": df[date_column].dt.dayofweek,\n",
    "              \"weekday\": df[date_column].dt.weekday,\n",
    "              \"quarter\": df[date_column].dt.quarter,\n",
    "             })\n",
    "    df = df.drop(date_column,axis = 1)\n",
    "    df = pd.concat([df,date_df],axis = 1)\n",
    "    return df\n",
    "\n",
    "def str_to_cat(my_df):\n",
    "    for p,q in my_df.items(): #my_df.items() is a generator in Python\n",
    "        if is_string_dtype(q): \n",
    "            my_df[p] = q.astype('category').cat.as_ordered()\n",
    "    return my_df\n",
    "def mydf_to_nums(my_df, feature, null_status):\n",
    "    if not is_numeric_dtype(feature):\n",
    "        my_df[null_status] = feature.cat.codes + 1\n",
    "        \n",
    "def mydf_imputer(my_df, feature, null_status, null_table):\n",
    "    if is_numeric_dtype(feature):\n",
    "        if pd.isnull(feature).sum() or (null_status in null_table):\n",
    "            my_df[null_status+'_na'] = pd.isnull(feature)\n",
    "            filler = null_table[null_status] if null_status in null_table else feature.median()\n",
    "            my_df[null_status] = feature.fillna(filler)\n",
    "            null_table[null_status] = filler\n",
    "    return null_table   \n",
    "\n",
    "def mydf_preprocessor(my_df, null_table):\n",
    "    '''null_table  = your table or None'''\n",
    "    \n",
    "    if null_table is None: \n",
    "        null_table = dict()\n",
    "    for p,q in my_df.items(): \n",
    "        null_table = mydf_imputer(my_df, q, p, null_table)\n",
    "    for p,q in my_df.items(): \n",
    "        mydf_to_nums(my_df, q, p)\n",
    "    my_df = pd.get_dummies(my_df, dummy_na = True)\n",
    "    res = [my_df, null_table]\n",
    "    return res"
   ]
  },
  {
   "cell_type": "code",
   "execution_count": 11,
   "metadata": {},
   "outputs": [],
   "source": [
    "'''Define functions to split data, measure accuracy, and r-squared'''\n",
    "\n",
    "def split_df(df,num):\n",
    "    return df[ :num].copy(),df[num: ].copy()\n",
    "\n",
    "def my_rmse(y1,y2):\n",
    "    return np.sqrt(((y1-y2)**2).mean())\n",
    "\n",
    "def rsq_n_rmse(my_model,x_train,y_train,x_val,y_val):\n",
    "    result = [my_model.score(x_train,y_train),my_model.score(x_val,y_val),\n",
    "             my_rmse(my_model.predict(x_train),y_train),my_rmse(my_model.predict(x_val),y_val)]\n",
    "    return \"train rsq,val rsq,train rmse, val rmse\", result\n"
   ]
  },
  {
   "cell_type": "markdown",
   "metadata": {},
   "source": [
    "# 3. Preprocess train data using the defined functions"
   ]
  },
  {
   "cell_type": "code",
   "execution_count": 12,
   "metadata": {},
   "outputs": [
    {
     "name": "stdout",
     "output_type": "stream",
     "text": [
      "(1503424, 26)\n"
     ]
    }
   ],
   "source": [
    "avi_df_raw1 = split_dates(avi_df_raw,\"activation_date\")\n",
    "print(avi_df_raw1.shape)"
   ]
  },
  {
   "cell_type": "code",
   "execution_count": 13,
   "metadata": {},
   "outputs": [
    {
     "data": {
      "text/plain": [
       "<matplotlib.axes._subplots.AxesSubplot at 0x11d53c9e8>"
      ]
     },
     "execution_count": 13,
     "metadata": {},
     "output_type": "execute_result"
    },
    {
     "data": {
      "image/png": "[encoded data removed]",
      "text/plain": [
       "<Figure size 576x432 with 1 Axes>"
      ]
     },
     "metadata": {},
     "output_type": "display_data"
    }
   ],
   "source": [
    "'''First, calculate the percentage of missing values for every column, and \n",
    "plot them as a bar chart'''\n",
    "\n",
    "null_vals = avi_df_raw1.isnull().sum()/len(avi_df_raw1)*100\n",
    "null_vals = pd.DataFrame(null_vals)\n",
    "null_vals.reset_index(inplace = True)\n",
    "null_vals.columns = [\"Feature\",\"Percent missing\"]\n",
    "plt.figure(figsize = (8,6))\n",
    "plt.xticks(rotation=45)\n",
    "sns.barplot(x = \"Percent missing\",y =\"Feature\",data = null_vals,orient = \"h\")"
   ]
  },
  {
   "cell_type": "markdown",
   "metadata": {},
   "source": [
    "'''It looks like param1 and param2 columns contain many null values. In the first\n",
    "pass, we'll keep them and impute'''"
   ]
  },
  {
   "cell_type": "code",
   "execution_count": 14,
   "metadata": {},
   "outputs": [
    {
     "name": "stdout",
     "output_type": "stream",
     "text": [
      "(1503424, 26)\n"
     ]
    },
    {
     "data": {
      "text/html": [
       "<div>\n",
       "<style scoped>\n",
       "    .dataframe tbody tr th:only-of-type {\n",
       "        vertical-align: middle;\n",
       "    }\n",
       "\n",
       "    .dataframe tbody tr th {\n",
       "        vertical-align: top;\n",
       "    }\n",
       "\n",
       "    .dataframe thead th {\n",
       "        text-align: right;\n",
       "    }\n",
       "</style>\n",
       "<table border=\"1\" class=\"dataframe\">\n",
       "  <thead>\n",
       "    <tr style=\"text-align: right;\">\n",
       "      <th></th>\n",
       "      <th>item_id</th>\n",
       "      <th>user_id</th>\n",
       "      <th>region</th>\n",
       "      <th>city</th>\n",
       "      <th>parent_category_name</th>\n",
       "      <th>category_name</th>\n",
       "      <th>param_1</th>\n",
       "      <th>param_2</th>\n",
       "      <th>param_3</th>\n",
       "      <th>title</th>\n",
       "      <th>...</th>\n",
       "      <th>deal_probability</th>\n",
       "      <th>year</th>\n",
       "      <th>month</th>\n",
       "      <th>day</th>\n",
       "      <th>dayofyear</th>\n",
       "      <th>week</th>\n",
       "      <th>weekofyear</th>\n",
       "      <th>dayofweek</th>\n",
       "      <th>weekday</th>\n",
       "      <th>quarter</th>\n",
       "    </tr>\n",
       "  </thead>\n",
       "  <tbody>\n",
       "    <tr>\n",
       "      <th>751711</th>\n",
       "      <td>3b896605f03c</td>\n",
       "      <td>9457abfa0ebf</td>\n",
       "      <td>Самарская область</td>\n",
       "      <td>Самара</td>\n",
       "      <td>Личные вещи</td>\n",
       "      <td>Детская одежда и обувь</td>\n",
       "      <td>Для мальчиков</td>\n",
       "      <td>Верхняя одежда</td>\n",
       "      <td>86-92 см (1-2 года)</td>\n",
       "      <td>Зимний комбенизон</td>\n",
       "      <td>...</td>\n",
       "      <td>0.0</td>\n",
       "      <td>2017</td>\n",
       "      <td>3</td>\n",
       "      <td>15</td>\n",
       "      <td>74</td>\n",
       "      <td>11</td>\n",
       "      <td>11</td>\n",
       "      <td>2</td>\n",
       "      <td>2</td>\n",
       "      <td>1</td>\n",
       "    </tr>\n",
       "    <tr>\n",
       "      <th>889369</th>\n",
       "      <td>c81c34d3aac5</td>\n",
       "      <td>0b161da2b144</td>\n",
       "      <td>Иркутская область</td>\n",
       "      <td>Братск</td>\n",
       "      <td>Бытовая электроника</td>\n",
       "      <td>Телефоны</td>\n",
       "      <td>Аксессуары</td>\n",
       "      <td>Чехлы и плёнки</td>\n",
       "      <td>NaN</td>\n",
       "      <td>Чехол для айфона 6s</td>\n",
       "      <td>...</td>\n",
       "      <td>0.0</td>\n",
       "      <td>2017</td>\n",
       "      <td>3</td>\n",
       "      <td>15</td>\n",
       "      <td>74</td>\n",
       "      <td>11</td>\n",
       "      <td>11</td>\n",
       "      <td>2</td>\n",
       "      <td>2</td>\n",
       "      <td>1</td>\n",
       "    </tr>\n",
       "    <tr>\n",
       "      <th>175952</th>\n",
       "      <td>a8ab6225dd06</td>\n",
       "      <td>93d527a1ca66</td>\n",
       "      <td>Пермский край</td>\n",
       "      <td>Краснокамск</td>\n",
       "      <td>Личные вещи</td>\n",
       "      <td>Одежда, обувь, аксессуары</td>\n",
       "      <td>Женская одежда</td>\n",
       "      <td>Верхняя одежда</td>\n",
       "      <td>44–46 (M)</td>\n",
       "      <td>Продам кожанную куртку</td>\n",
       "      <td>...</td>\n",
       "      <td>0.0</td>\n",
       "      <td>2017</td>\n",
       "      <td>3</td>\n",
       "      <td>15</td>\n",
       "      <td>74</td>\n",
       "      <td>11</td>\n",
       "      <td>11</td>\n",
       "      <td>2</td>\n",
       "      <td>2</td>\n",
       "      <td>1</td>\n",
       "    </tr>\n",
       "  </tbody>\n",
       "</table>\n",
       "<p>3 rows × 26 columns</p>\n",
       "</div>"
      ],
      "text/plain": [
       "             item_id       user_id             region         city  \\\n",
       "751711  3b896605f03c  9457abfa0ebf  Самарская область       Самара   \n",
       "889369  c81c34d3aac5  0b161da2b144  Иркутская область       Братск   \n",
       "175952  a8ab6225dd06  93d527a1ca66      Пермский край  Краснокамск   \n",
       "\n",
       "       parent_category_name              category_name         param_1  \\\n",
       "751711          Личные вещи     Детская одежда и обувь   Для мальчиков   \n",
       "889369  Бытовая электроника                   Телефоны      Аксессуары   \n",
       "175952          Личные вещи  Одежда, обувь, аксессуары  Женская одежда   \n",
       "\n",
       "               param_2              param_3                   title   ...     \\\n",
       "751711  Верхняя одежда  86-92 см (1-2 года)       Зимний комбенизон   ...      \n",
       "889369  Чехлы и плёнки                  NaN     Чехол для айфона 6s   ...      \n",
       "175952  Верхняя одежда            44–46 (M)  Продам кожанную куртку   ...      \n",
       "\n",
       "       deal_probability  year  month day dayofyear  week  weekofyear  \\\n",
       "751711              0.0  2017      3  15        74    11          11   \n",
       "889369              0.0  2017      3  15        74    11          11   \n",
       "175952              0.0  2017      3  15        74    11          11   \n",
       "\n",
       "        dayofweek  weekday  quarter  \n",
       "751711          2        2        1  \n",
       "889369          2        2        1  \n",
       "175952          2        2        1  \n",
       "\n",
       "[3 rows x 26 columns]"
      ]
     },
     "execution_count": 14,
     "metadata": {},
     "output_type": "execute_result"
    }
   ],
   "source": [
    "avi_df_raw2 = str_to_cat(avi_df_raw1)\n",
    "print(avi_df_raw2.shape)\n",
    "avi_df_raw2.head(3)"
   ]
  },
  {
   "cell_type": "code",
   "execution_count": 15,
   "metadata": {},
   "outputs": [
    {
     "name": "stdout",
     "output_type": "stream",
     "text": [
      "(1503424, 28)\n"
     ]
    },
    {
     "data": {
      "text/html": [
       "<div>\n",
       "<style scoped>\n",
       "    .dataframe tbody tr th:only-of-type {\n",
       "        vertical-align: middle;\n",
       "    }\n",
       "\n",
       "    .dataframe tbody tr th {\n",
       "        vertical-align: top;\n",
       "    }\n",
       "\n",
       "    .dataframe thead th {\n",
       "        text-align: right;\n",
       "    }\n",
       "</style>\n",
       "<table border=\"1\" class=\"dataframe\">\n",
       "  <thead>\n",
       "    <tr style=\"text-align: right;\">\n",
       "      <th></th>\n",
       "      <th>item_id</th>\n",
       "      <th>user_id</th>\n",
       "      <th>region</th>\n",
       "      <th>city</th>\n",
       "      <th>parent_category_name</th>\n",
       "      <th>category_name</th>\n",
       "      <th>param_1</th>\n",
       "      <th>param_2</th>\n",
       "      <th>param_3</th>\n",
       "      <th>title</th>\n",
       "      <th>...</th>\n",
       "      <th>month</th>\n",
       "      <th>day</th>\n",
       "      <th>dayofyear</th>\n",
       "      <th>week</th>\n",
       "      <th>weekofyear</th>\n",
       "      <th>dayofweek</th>\n",
       "      <th>weekday</th>\n",
       "      <th>quarter</th>\n",
       "      <th>price_na</th>\n",
       "      <th>image_top_1_na</th>\n",
       "    </tr>\n",
       "  </thead>\n",
       "  <tbody>\n",
       "    <tr>\n",
       "      <th>751711</th>\n",
       "      <td>348938</td>\n",
       "      <td>447528</td>\n",
       "      <td>18</td>\n",
       "      <td>1301</td>\n",
       "      <td>5</td>\n",
       "      <td>11</td>\n",
       "      <td>110</td>\n",
       "      <td>122</td>\n",
       "      <td>186</td>\n",
       "      <td>261804</td>\n",
       "      <td>...</td>\n",
       "      <td>3</td>\n",
       "      <td>15</td>\n",
       "      <td>74</td>\n",
       "      <td>11</td>\n",
       "      <td>11</td>\n",
       "      <td>2</td>\n",
       "      <td>2</td>\n",
       "      <td>1</td>\n",
       "      <td>False</td>\n",
       "      <td>False</td>\n",
       "    </tr>\n",
       "    <tr>\n",
       "      <th>889369</th>\n",
       "      <td>1175228</td>\n",
       "      <td>33441</td>\n",
       "      <td>7</td>\n",
       "      <td>232</td>\n",
       "      <td>1</td>\n",
       "      <td>42</td>\n",
       "      <td>41</td>\n",
       "      <td>262</td>\n",
       "      <td>0</td>\n",
       "      <td>754605</td>\n",
       "      <td>...</td>\n",
       "      <td>3</td>\n",
       "      <td>15</td>\n",
       "      <td>74</td>\n",
       "      <td>11</td>\n",
       "      <td>11</td>\n",
       "      <td>2</td>\n",
       "      <td>2</td>\n",
       "      <td>1</td>\n",
       "      <td>False</td>\n",
       "      <td>False</td>\n",
       "    </tr>\n",
       "    <tr>\n",
       "      <th>175952</th>\n",
       "      <td>991010</td>\n",
       "      <td>446030</td>\n",
       "      <td>16</td>\n",
       "      <td>729</td>\n",
       "      <td>5</td>\n",
       "      <td>30</td>\n",
       "      <td>126</td>\n",
       "      <td>122</td>\n",
       "      <td>144</td>\n",
       "      <td>562387</td>\n",
       "      <td>...</td>\n",
       "      <td>3</td>\n",
       "      <td>15</td>\n",
       "      <td>74</td>\n",
       "      <td>11</td>\n",
       "      <td>11</td>\n",
       "      <td>2</td>\n",
       "      <td>2</td>\n",
       "      <td>1</td>\n",
       "      <td>False</td>\n",
       "      <td>False</td>\n",
       "    </tr>\n",
       "  </tbody>\n",
       "</table>\n",
       "<p>3 rows × 28 columns</p>\n",
       "</div>"
      ],
      "text/plain": [
       "        item_id  user_id  region  city  parent_category_name  category_name  \\\n",
       "751711   348938   447528      18  1301                     5             11   \n",
       "889369  1175228    33441       7   232                     1             42   \n",
       "175952   991010   446030      16   729                     5             30   \n",
       "\n",
       "        param_1  param_2  param_3   title       ...        month  day  \\\n",
       "751711      110      122      186  261804       ...            3   15   \n",
       "889369       41      262        0  754605       ...            3   15   \n",
       "175952      126      122      144  562387       ...            3   15   \n",
       "\n",
       "        dayofyear  week  weekofyear  dayofweek  weekday  quarter  price_na  \\\n",
       "751711         74    11          11          2        2        1     False   \n",
       "889369         74    11          11          2        2        1     False   \n",
       "175952         74    11          11          2        2        1     False   \n",
       "\n",
       "        image_top_1_na  \n",
       "751711           False  \n",
       "889369           False  \n",
       "175952           False  \n",
       "\n",
       "[3 rows x 28 columns]"
      ]
     },
     "execution_count": 15,
     "metadata": {},
     "output_type": "execute_result"
    }
   ],
   "source": [
    "avi_df_raw3,my_table = mydf_preprocessor(avi_df_raw2,null_table = None)\n",
    "print(avi_df_raw3.shape)\n",
    "avi_df_raw3.head(3)"
   ]
  },
  {
   "cell_type": "code",
   "execution_count": 16,
   "metadata": {},
   "outputs": [
    {
     "data": {
      "text/plain": [
       "{'image_top_1': 1057.0, 'price': 1300.0}"
      ]
     },
     "execution_count": 16,
     "metadata": {},
     "output_type": "execute_result"
    }
   ],
   "source": [
    "my_table"
   ]
  },
  {
   "cell_type": "code",
   "execution_count": 17,
   "metadata": {},
   "outputs": [],
   "source": [
    "x = avi_df_raw3.drop('deal_probability', axis=1)\n",
    "y = avi_df_raw3['deal_probability']"
   ]
  },
  {
   "cell_type": "code",
   "execution_count": 18,
   "metadata": {},
   "outputs": [],
   "source": [
    "'''Since this dataset is large, let's use a subset to tune hyperparamters. This works well.\n",
    "We use the underscore,_, to collect discardable data like in the split below'''\n",
    "x_sub,_ = split_df(x,200000)\n",
    "y_sub,_ = split_df(y,200000)"
   ]
  },
  {
   "cell_type": "code",
   "execution_count": 19,
   "metadata": {},
   "outputs": [],
   "source": [
    "'''Now, split the smaller subset into train and validation sets'''\n",
    "\n",
    "x_trn,x_val = split_df(x_sub,150000)\n",
    "y_trn,y_val = split_df(y_sub,150000)"
   ]
  },
  {
   "cell_type": "code",
   "execution_count": 20,
   "metadata": {},
   "outputs": [
    {
     "name": "stdout",
     "output_type": "stream",
     "text": [
      "(150000, 27) (50000, 27) (150000,) (50000,)\n"
     ]
    }
   ],
   "source": [
    "print(x_trn.shape,x_val.shape,y_trn.shape,y_val.shape)"
   ]
  },
  {
   "cell_type": "markdown",
   "metadata": {},
   "source": [
    "# 4. Model building, hyperparameter tuning, and some exploratory data analysis (EDA)"
   ]
  },
  {
   "cell_type": "code",
   "execution_count": 21,
   "metadata": {},
   "outputs": [],
   "source": [
    "#my_model = RandomForestRegressor(n_jobs = -1,oob_score = False,n_estimators = 10)\n",
    "mod_1 = RandomForestRegressor(n_jobs = -1,oob_score = False,n_estimators = 50,\n",
    "                                   max_depth = 40000,min_samples_leaf = 25)\n"
   ]
  },
  {
   "cell_type": "code",
   "execution_count": 22,
   "metadata": {},
   "outputs": [
    {
     "data": {
      "text/plain": [
       "RandomForestRegressor(bootstrap=True, criterion='mse', max_depth=40000,\n",
       "           max_features='auto', max_leaf_nodes=None,\n",
       "           min_impurity_decrease=0.0, min_impurity_split=None,\n",
       "           min_samples_leaf=25, min_samples_split=2,\n",
       "           min_weight_fraction_leaf=0.0, n_estimators=50, n_jobs=-1,\n",
       "           oob_score=False, random_state=None, verbose=0, warm_start=False)"
      ]
     },
     "execution_count": 22,
     "metadata": {},
     "output_type": "execute_result"
    }
   ],
   "source": [
    "#Fit the model\n",
    "mod_1.fit(x_trn,y_trn)"
   ]
  },
  {
   "cell_type": "code",
   "execution_count": 23,
   "metadata": {},
   "outputs": [
    {
     "data": {
      "text/plain": [
       "('train rsq,val rsq,train rmse, val rmse',\n",
       " [0.3437370261950804,\n",
       "  0.20275741956815274,\n",
       "  0.2102004976608971,\n",
       "  0.2324801699672255])"
      ]
     },
     "execution_count": 23,
     "metadata": {},
     "output_type": "execute_result"
    }
   ],
   "source": [
    "#test out rsq_n_rmse function\n",
    "rsq_n_rmse(mod_1,x_trn,y_trn,x_val,y_val)"
   ]
  },
  {
   "cell_type": "markdown",
   "metadata": {},
   "source": [
    "More extensive hyperparamter tuning is left as an exercise to the student"
   ]
  },
  {
   "cell_type": "code",
   "execution_count": 24,
   "metadata": {},
   "outputs": [
    {
     "data": {
      "text/plain": [
       "<matplotlib.axes._subplots.AxesSubplot at 0x12fd0ab38>"
      ]
     },
     "execution_count": 24,
     "metadata": {},
     "output_type": "execute_result"
    },
    {
     "data": {
      "image/png": "[encoded data removed]",
      "text/plain": [
       "<Figure size 576x432 with 1 Axes>"
      ]
     },
     "metadata": {},
     "output_type": "display_data"
    }
   ],
   "source": [
    "'''Calculate feature importance scores with your model'''\n",
    "\n",
    "feat_imps = pd.DataFrame(mod_1.feature_importances_, index = x_trn.columns,\n",
    "                                    columns=['Importance score']).sort_values('Importance score',ascending=False)\n",
    "feat_imps = feat_imps.reset_index()\n",
    "feat_imps.columns = [\"Feature\",\"Importance Score\"]\n",
    "plt.figure(figsize = (8,6))\n",
    "sns.barplot(x = \"Importance Score\",y = \"Feature\",data = feat_imps,orient = \"h\")"
   ]
  },
  {
   "cell_type": "markdown",
   "metadata": {},
   "source": [
    "Student exercise...feature selection\n",
    "1. Remove features with very small feature importance values\n",
    "2. Re-run model\n",
    "3. Do this iteratively and see if we get performance improvements.\n",
    "4. Remember smaller the rmse value and greater the R Squared, the better!"
   ]
  },
  {
   "cell_type": "markdown",
   "metadata": {},
   "source": [
    "# 5. Test out your model"
   ]
  },
  {
   "cell_type": "code",
   "execution_count": 25,
   "metadata": {},
   "outputs": [
    {
     "name": "stdout",
     "output_type": "stream",
     "text": [
      "(508438, 17)\n"
     ]
    },
    {
     "data": {
      "text/html": [
       "<div>\n",
       "<style scoped>\n",
       "    .dataframe tbody tr th:only-of-type {\n",
       "        vertical-align: middle;\n",
       "    }\n",
       "\n",
       "    .dataframe tbody tr th {\n",
       "        vertical-align: top;\n",
       "    }\n",
       "\n",
       "    .dataframe thead th {\n",
       "        text-align: right;\n",
       "    }\n",
       "</style>\n",
       "<table border=\"1\" class=\"dataframe\">\n",
       "  <thead>\n",
       "    <tr style=\"text-align: right;\">\n",
       "      <th></th>\n",
       "      <th>item_id</th>\n",
       "      <th>user_id</th>\n",
       "      <th>region</th>\n",
       "      <th>city</th>\n",
       "      <th>parent_category_name</th>\n",
       "      <th>category_name</th>\n",
       "      <th>param_1</th>\n",
       "      <th>param_2</th>\n",
       "      <th>param_3</th>\n",
       "      <th>title</th>\n",
       "      <th>description</th>\n",
       "      <th>price</th>\n",
       "      <th>item_seq_number</th>\n",
       "      <th>activation_date</th>\n",
       "      <th>user_type</th>\n",
       "      <th>image</th>\n",
       "      <th>image_top_1</th>\n",
       "    </tr>\n",
       "  </thead>\n",
       "  <tbody>\n",
       "    <tr>\n",
       "      <th>0</th>\n",
       "      <td>6544e41a8817</td>\n",
       "      <td>dbe73ad6e4b5</td>\n",
       "      <td>Волгоградская область</td>\n",
       "      <td>Волгоград</td>\n",
       "      <td>Личные вещи</td>\n",
       "      <td>Детская одежда и обувь</td>\n",
       "      <td>Для мальчиков</td>\n",
       "      <td>Обувь</td>\n",
       "      <td>25</td>\n",
       "      <td>Отдам бесплатно</td>\n",
       "      <td>На ангарском</td>\n",
       "      <td>NaN</td>\n",
       "      <td>66</td>\n",
       "      <td>2017-04-18</td>\n",
       "      <td>Private</td>\n",
       "      <td>a8b57acb5ab304f9c331ac7a074219aed4d349d8aef386...</td>\n",
       "      <td>2020.0</td>\n",
       "    </tr>\n",
       "    <tr>\n",
       "      <th>1</th>\n",
       "      <td>65b9484d670f</td>\n",
       "      <td>2e11806abe57</td>\n",
       "      <td>Свердловская область</td>\n",
       "      <td>Нижняя Тура</td>\n",
       "      <td>Хобби и отдых</td>\n",
       "      <td>Велосипеды</td>\n",
       "      <td>Дорожные</td>\n",
       "      <td>NaN</td>\n",
       "      <td>NaN</td>\n",
       "      <td>Продам велосипед</td>\n",
       "      <td>Продам велосипед KAMA  F200,в нормальном состо...</td>\n",
       "      <td>3000.0</td>\n",
       "      <td>4</td>\n",
       "      <td>2017-04-16</td>\n",
       "      <td>Private</td>\n",
       "      <td>NaN</td>\n",
       "      <td>NaN</td>\n",
       "    </tr>\n",
       "  </tbody>\n",
       "</table>\n",
       "</div>"
      ],
      "text/plain": [
       "        item_id       user_id                 region         city  \\\n",
       "0  6544e41a8817  dbe73ad6e4b5  Волгоградская область    Волгоград   \n",
       "1  65b9484d670f  2e11806abe57   Свердловская область  Нижняя Тура   \n",
       "\n",
       "  parent_category_name           category_name        param_1 param_2 param_3  \\\n",
       "0          Личные вещи  Детская одежда и обувь  Для мальчиков   Обувь      25   \n",
       "1        Хобби и отдых              Велосипеды       Дорожные     NaN     NaN   \n",
       "\n",
       "              title                                        description  \\\n",
       "0   Отдам бесплатно                                       На ангарском   \n",
       "1  Продам велосипед  Продам велосипед KAMA  F200,в нормальном состо...   \n",
       "\n",
       "    price  item_seq_number activation_date user_type  \\\n",
       "0     NaN               66      2017-04-18   Private   \n",
       "1  3000.0                4      2017-04-16   Private   \n",
       "\n",
       "                                               image  image_top_1  \n",
       "0  a8b57acb5ab304f9c331ac7a074219aed4d349d8aef386...       2020.0  \n",
       "1                                                NaN          NaN  "
      ]
     },
     "execution_count": 25,
     "metadata": {},
     "output_type": "execute_result"
    }
   ],
   "source": [
    "'''Read in test data'''\n",
    "avito_test_raw = pd.read_csv(f'{path}/Avito_kaggle/test.csv',parse_dates = [\"activation_date\"])\n",
    "print(avito_test_raw.shape)\n",
    "avito_test_raw.head(2)"
   ]
  },
  {
   "cell_type": "code",
   "execution_count": 26,
   "metadata": {},
   "outputs": [
    {
     "name": "stdout",
     "output_type": "stream",
     "text": [
      "(508438, 25)\n"
     ]
    }
   ],
   "source": [
    "'''Preprocess this data in exactly the same way. Step I extract data terms'''\n",
    "\n",
    "avito_test_raw1 = split_dates(avito_test_raw,\"activation_date\")\n",
    "print(avito_test_raw1.shape)"
   ]
  },
  {
   "cell_type": "code",
   "execution_count": 27,
   "metadata": {},
   "outputs": [
    {
     "name": "stdout",
     "output_type": "stream",
     "text": [
      "(508438, 25)\n"
     ]
    },
    {
     "data": {
      "text/html": [
       "<div>\n",
       "<style scoped>\n",
       "    .dataframe tbody tr th:only-of-type {\n",
       "        vertical-align: middle;\n",
       "    }\n",
       "\n",
       "    .dataframe tbody tr th {\n",
       "        vertical-align: top;\n",
       "    }\n",
       "\n",
       "    .dataframe thead th {\n",
       "        text-align: right;\n",
       "    }\n",
       "</style>\n",
       "<table border=\"1\" class=\"dataframe\">\n",
       "  <thead>\n",
       "    <tr style=\"text-align: right;\">\n",
       "      <th></th>\n",
       "      <th>item_id</th>\n",
       "      <th>user_id</th>\n",
       "      <th>region</th>\n",
       "      <th>city</th>\n",
       "      <th>parent_category_name</th>\n",
       "      <th>category_name</th>\n",
       "      <th>param_1</th>\n",
       "      <th>param_2</th>\n",
       "      <th>param_3</th>\n",
       "      <th>title</th>\n",
       "      <th>...</th>\n",
       "      <th>image_top_1</th>\n",
       "      <th>year</th>\n",
       "      <th>month</th>\n",
       "      <th>day</th>\n",
       "      <th>dayofyear</th>\n",
       "      <th>week</th>\n",
       "      <th>weekofyear</th>\n",
       "      <th>dayofweek</th>\n",
       "      <th>weekday</th>\n",
       "      <th>quarter</th>\n",
       "    </tr>\n",
       "  </thead>\n",
       "  <tbody>\n",
       "    <tr>\n",
       "      <th>0</th>\n",
       "      <td>6544e41a8817</td>\n",
       "      <td>dbe73ad6e4b5</td>\n",
       "      <td>Волгоградская область</td>\n",
       "      <td>Волгоград</td>\n",
       "      <td>Личные вещи</td>\n",
       "      <td>Детская одежда и обувь</td>\n",
       "      <td>Для мальчиков</td>\n",
       "      <td>Обувь</td>\n",
       "      <td>25</td>\n",
       "      <td>Отдам бесплатно</td>\n",
       "      <td>...</td>\n",
       "      <td>2020.0</td>\n",
       "      <td>2017</td>\n",
       "      <td>4</td>\n",
       "      <td>18</td>\n",
       "      <td>108</td>\n",
       "      <td>16</td>\n",
       "      <td>16</td>\n",
       "      <td>1</td>\n",
       "      <td>1</td>\n",
       "      <td>2</td>\n",
       "    </tr>\n",
       "    <tr>\n",
       "      <th>1</th>\n",
       "      <td>65b9484d670f</td>\n",
       "      <td>2e11806abe57</td>\n",
       "      <td>Свердловская область</td>\n",
       "      <td>Нижняя Тура</td>\n",
       "      <td>Хобби и отдых</td>\n",
       "      <td>Велосипеды</td>\n",
       "      <td>Дорожные</td>\n",
       "      <td>NaN</td>\n",
       "      <td>NaN</td>\n",
       "      <td>Продам велосипед</td>\n",
       "      <td>...</td>\n",
       "      <td>NaN</td>\n",
       "      <td>2017</td>\n",
       "      <td>4</td>\n",
       "      <td>16</td>\n",
       "      <td>106</td>\n",
       "      <td>15</td>\n",
       "      <td>15</td>\n",
       "      <td>6</td>\n",
       "      <td>6</td>\n",
       "      <td>2</td>\n",
       "    </tr>\n",
       "    <tr>\n",
       "      <th>2</th>\n",
       "      <td>8bab230b2ecd</td>\n",
       "      <td>0b850bbebb10</td>\n",
       "      <td>Новосибирская область</td>\n",
       "      <td>Бердск</td>\n",
       "      <td>Бытовая электроника</td>\n",
       "      <td>Аудио и видео</td>\n",
       "      <td>Телевизоры и проекторы</td>\n",
       "      <td>NaN</td>\n",
       "      <td>NaN</td>\n",
       "      <td>BBK</td>\n",
       "      <td>...</td>\n",
       "      <td>2960.0</td>\n",
       "      <td>2017</td>\n",
       "      <td>4</td>\n",
       "      <td>17</td>\n",
       "      <td>107</td>\n",
       "      <td>16</td>\n",
       "      <td>16</td>\n",
       "      <td>0</td>\n",
       "      <td>0</td>\n",
       "      <td>2</td>\n",
       "    </tr>\n",
       "  </tbody>\n",
       "</table>\n",
       "<p>3 rows × 25 columns</p>\n",
       "</div>"
      ],
      "text/plain": [
       "        item_id       user_id                 region         city  \\\n",
       "0  6544e41a8817  dbe73ad6e4b5  Волгоградская область    Волгоград   \n",
       "1  65b9484d670f  2e11806abe57   Свердловская область  Нижняя Тура   \n",
       "2  8bab230b2ecd  0b850bbebb10  Новосибирская область       Бердск   \n",
       "\n",
       "  parent_category_name           category_name                 param_1  \\\n",
       "0          Личные вещи  Детская одежда и обувь           Для мальчиков   \n",
       "1        Хобби и отдых              Велосипеды                Дорожные   \n",
       "2  Бытовая электроника           Аудио и видео  Телевизоры и проекторы   \n",
       "\n",
       "  param_2 param_3             title   ...    image_top_1  year  month day  \\\n",
       "0   Обувь      25   Отдам бесплатно   ...         2020.0  2017      4  18   \n",
       "1     NaN     NaN  Продам велосипед   ...            NaN  2017      4  16   \n",
       "2     NaN     NaN               BBK   ...         2960.0  2017      4  17   \n",
       "\n",
       "  dayofyear  week  weekofyear  dayofweek  weekday  quarter  \n",
       "0       108    16          16          1        1        2  \n",
       "1       106    15          15          6        6        2  \n",
       "2       107    16          16          0        0        2  \n",
       "\n",
       "[3 rows x 25 columns]"
      ]
     },
     "execution_count": 27,
     "metadata": {},
     "output_type": "execute_result"
    }
   ],
   "source": [
    "'''Step II: Apply string to category mapping function'''\n",
    "avito_test_raw2 = str_to_cat(avito_test_raw1)\n",
    "print(avito_test_raw2.shape)\n",
    "avito_test_raw2.head(3)"
   ]
  },
  {
   "cell_type": "code",
   "execution_count": 28,
   "metadata": {},
   "outputs": [
    {
     "name": "stdout",
     "output_type": "stream",
     "text": [
      "(508438, 27)\n"
     ]
    },
    {
     "data": {
      "text/html": [
       "<div>\n",
       "<style scoped>\n",
       "    .dataframe tbody tr th:only-of-type {\n",
       "        vertical-align: middle;\n",
       "    }\n",
       "\n",
       "    .dataframe tbody tr th {\n",
       "        vertical-align: top;\n",
       "    }\n",
       "\n",
       "    .dataframe thead th {\n",
       "        text-align: right;\n",
       "    }\n",
       "</style>\n",
       "<table border=\"1\" class=\"dataframe\">\n",
       "  <thead>\n",
       "    <tr style=\"text-align: right;\">\n",
       "      <th></th>\n",
       "      <th>item_id</th>\n",
       "      <th>user_id</th>\n",
       "      <th>region</th>\n",
       "      <th>city</th>\n",
       "      <th>parent_category_name</th>\n",
       "      <th>category_name</th>\n",
       "      <th>param_1</th>\n",
       "      <th>param_2</th>\n",
       "      <th>param_3</th>\n",
       "      <th>title</th>\n",
       "      <th>...</th>\n",
       "      <th>month</th>\n",
       "      <th>day</th>\n",
       "      <th>dayofyear</th>\n",
       "      <th>week</th>\n",
       "      <th>weekofyear</th>\n",
       "      <th>dayofweek</th>\n",
       "      <th>weekday</th>\n",
       "      <th>quarter</th>\n",
       "      <th>price_na</th>\n",
       "      <th>image_top_1_na</th>\n",
       "    </tr>\n",
       "  </thead>\n",
       "  <tbody>\n",
       "    <tr>\n",
       "      <th>0</th>\n",
       "      <td>201001</td>\n",
       "      <td>262939</td>\n",
       "      <td>5</td>\n",
       "      <td>307</td>\n",
       "      <td>5</td>\n",
       "      <td>11</td>\n",
       "      <td>108</td>\n",
       "      <td>177</td>\n",
       "      <td>63</td>\n",
       "      <td>181529</td>\n",
       "      <td>...</td>\n",
       "      <td>4</td>\n",
       "      <td>18</td>\n",
       "      <td>108</td>\n",
       "      <td>16</td>\n",
       "      <td>16</td>\n",
       "      <td>1</td>\n",
       "      <td>1</td>\n",
       "      <td>2</td>\n",
       "      <td>True</td>\n",
       "      <td>False</td>\n",
       "    </tr>\n",
       "    <tr>\n",
       "      <th>1</th>\n",
       "      <td>201930</td>\n",
       "      <td>55146</td>\n",
       "      <td>20</td>\n",
       "      <td>934</td>\n",
       "      <td>9</td>\n",
       "      <td>6</td>\n",
       "      <td>117</td>\n",
       "      <td>0</td>\n",
       "      <td>0</td>\n",
       "      <td>210003</td>\n",
       "      <td>...</td>\n",
       "      <td>4</td>\n",
       "      <td>16</td>\n",
       "      <td>106</td>\n",
       "      <td>15</td>\n",
       "      <td>15</td>\n",
       "      <td>6</td>\n",
       "      <td>6</td>\n",
       "      <td>2</td>\n",
       "      <td>False</td>\n",
       "      <td>True</td>\n",
       "    </tr>\n",
       "    <tr>\n",
       "      <th>2</th>\n",
       "      <td>277593</td>\n",
       "      <td>13650</td>\n",
       "      <td>13</td>\n",
       "      <td>148</td>\n",
       "      <td>1</td>\n",
       "      <td>3</td>\n",
       "      <td>310</td>\n",
       "      <td>0</td>\n",
       "      <td>0</td>\n",
       "      <td>18021</td>\n",
       "      <td>...</td>\n",
       "      <td>4</td>\n",
       "      <td>17</td>\n",
       "      <td>107</td>\n",
       "      <td>16</td>\n",
       "      <td>16</td>\n",
       "      <td>0</td>\n",
       "      <td>0</td>\n",
       "      <td>2</td>\n",
       "      <td>False</td>\n",
       "      <td>False</td>\n",
       "    </tr>\n",
       "  </tbody>\n",
       "</table>\n",
       "<p>3 rows × 27 columns</p>\n",
       "</div>"
      ],
      "text/plain": [
       "   item_id  user_id  region  city  parent_category_name  category_name  \\\n",
       "0   201001   262939       5   307                     5             11   \n",
       "1   201930    55146      20   934                     9              6   \n",
       "2   277593    13650      13   148                     1              3   \n",
       "\n",
       "   param_1  param_2  param_3   title       ...        month  day  dayofyear  \\\n",
       "0      108      177       63  181529       ...            4   18        108   \n",
       "1      117        0        0  210003       ...            4   16        106   \n",
       "2      310        0        0   18021       ...            4   17        107   \n",
       "\n",
       "   week  weekofyear  dayofweek  weekday  quarter  price_na  image_top_1_na  \n",
       "0    16          16          1        1        2      True           False  \n",
       "1    15          15          6        6        2     False            True  \n",
       "2    16          16          0        0        2     False           False  \n",
       "\n",
       "[3 rows x 27 columns]"
      ]
     },
     "execution_count": 28,
     "metadata": {},
     "output_type": "execute_result"
    }
   ],
   "source": [
    "'''Step III: complete the proprocessing by imputing null values'''\n",
    "avito_test_raw3,my_table1 = mydf_preprocessor(avito_test_raw2,null_table = my_table)\n",
    "print(avito_test_raw3.shape)\n",
    "avito_test_raw3.head(3)"
   ]
  },
  {
   "cell_type": "code",
   "execution_count": 29,
   "metadata": {},
   "outputs": [
    {
     "data": {
      "text/plain": [
       "Index(['item_id', 'user_id', 'region', 'city', 'parent_category_name',\n",
       "       'category_name', 'param_1', 'param_2', 'param_3', 'title',\n",
       "       'description', 'price', 'item_seq_number', 'user_type', 'image',\n",
       "       'image_top_1', 'year', 'month', 'day', 'dayofyear', 'week',\n",
       "       'weekofyear', 'dayofweek', 'weekday', 'quarter', 'price_na',\n",
       "       'image_top_1_na'],\n",
       "      dtype='object')"
      ]
     },
     "execution_count": 29,
     "metadata": {},
     "output_type": "execute_result"
    }
   ],
   "source": [
    "avito_test_raw3.columns"
   ]
  },
  {
   "cell_type": "code",
   "execution_count": 30,
   "metadata": {},
   "outputs": [],
   "source": [
    "'''Predictions for the test set'''\n",
    "y_tst_pred = mod_1.predict(avito_test_raw3)"
   ]
  },
  {
   "cell_type": "markdown",
   "metadata": {},
   "source": [
    "Student exercise: \n",
    "1.Use Kaggle to find out how well we did"
   ]
  }
 ],
 "metadata": {
  "kernelspec": {
   "display_name": "Python 3",
   "language": "python",
   "name": "python3"
  },
  "language_info": {
   "codemirror_mode": {
    "name": "ipython",
    "version": 3
   },
   "file_extension": ".py",
   "mimetype": "text/x-python",
   "name": "python",
   "nbconvert_exporter": "python",
   "pygments_lexer": "ipython3",
   "version": "3.6.4"
  }
 },
 "nbformat": 4,
 "nbformat_minor": 2
}
