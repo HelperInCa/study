{
 "cells": [
  {
   "cell_type": "markdown",
   "metadata": {},
   "source": [
    "1. Understand the problem and read in the data\n",
    "2. Pre-process data, train-test split\n",
    "3. Build and compile a deep learning model"
   ]
  },
  {
   "cell_type": "markdown",
   "metadata": {},
   "source": [
    "# Understand the problem and read in the data"
   ]
  },
  {
   "cell_type": "markdown",
   "metadata": {},
   "source": [
    "This Kaggle challenge is about predicting the onset of diabetes in 5 years or less. \n",
    "Target variable is Outcome. 1 = yes, the person became diabetic in 5 years, and 0 = No, \n",
    "the person did not. This is a binary classification problem. Please check out the Kaggle\n",
    "link here to see feature \n",
    "details - https://www.kaggle.com/uciml/pima-indians-diabetes-database/data"
   ]
  },
  {
   "cell_type": "code",
   "execution_count": 13,
   "metadata": {},
   "outputs": [],
   "source": [
    "'''Import necessary packages'''\n",
    "from keras.models import Sequential # add layers one by one\n",
    "from keras.layers import Dense # fully-connected\n",
    "from sklearn.model_selection import train_test_split\n",
    "import seaborn as sns\n",
    "import numpy as np\n",
    "import pandas as pd\n",
    "\n",
    "%matplotlib inline"
   ]
  },
  {
   "cell_type": "code",
   "execution_count": 14,
   "metadata": {},
   "outputs": [
    {
     "data": {
      "text/plain": [
       "'/Users/qing/Desktop/study/data science/module 9'"
      ]
     },
     "execution_count": 14,
     "metadata": {},
     "output_type": "execute_result"
    }
   ],
   "source": [
    "%pwd"
   ]
  },
  {
   "cell_type": "code",
   "execution_count": 15,
   "metadata": {},
   "outputs": [
    {
     "name": "stdout",
     "output_type": "stream",
     "text": [
      "DNN for Classification.ipynb  pima-indians-diabetes.data\r\n"
     ]
    }
   ],
   "source": [
    "%ls"
   ]
  },
  {
   "cell_type": "code",
   "execution_count": 16,
   "metadata": {},
   "outputs": [],
   "source": [
    "path = '/Users/qing/Desktop/study/data science/module 9'\n"
   ]
  },
  {
   "cell_type": "code",
   "execution_count": 18,
   "metadata": {},
   "outputs": [
    {
     "name": "stdout",
     "output_type": "stream",
     "text": [
      "(768, 9)\n"
     ]
    },
    {
     "data": {
      "text/html": [
       "<div>\n",
       "<style scoped>\n",
       "    .dataframe tbody tr th:only-of-type {\n",
       "        vertical-align: middle;\n",
       "    }\n",
       "\n",
       "    .dataframe tbody tr th {\n",
       "        vertical-align: top;\n",
       "    }\n",
       "\n",
       "    .dataframe thead th {\n",
       "        text-align: right;\n",
       "    }\n",
       "</style>\n",
       "<table border=\"1\" class=\"dataframe\">\n",
       "  <thead>\n",
       "    <tr style=\"text-align: right;\">\n",
       "      <th></th>\n",
       "      <th>0</th>\n",
       "      <th>1</th>\n",
       "      <th>2</th>\n",
       "      <th>3</th>\n",
       "      <th>4</th>\n",
       "      <th>5</th>\n",
       "      <th>6</th>\n",
       "      <th>7</th>\n",
       "      <th>8</th>\n",
       "    </tr>\n",
       "  </thead>\n",
       "  <tbody>\n",
       "    <tr>\n",
       "      <th>0</th>\n",
       "      <td>6</td>\n",
       "      <td>148</td>\n",
       "      <td>72</td>\n",
       "      <td>35</td>\n",
       "      <td>0</td>\n",
       "      <td>33.6</td>\n",
       "      <td>0.627</td>\n",
       "      <td>50</td>\n",
       "      <td>1</td>\n",
       "    </tr>\n",
       "    <tr>\n",
       "      <th>1</th>\n",
       "      <td>1</td>\n",
       "      <td>85</td>\n",
       "      <td>66</td>\n",
       "      <td>29</td>\n",
       "      <td>0</td>\n",
       "      <td>26.6</td>\n",
       "      <td>0.351</td>\n",
       "      <td>31</td>\n",
       "      <td>0</td>\n",
       "    </tr>\n",
       "  </tbody>\n",
       "</table>\n",
       "</div>"
      ],
      "text/plain": [
       "   0    1   2   3  4     5      6   7  8\n",
       "0  6  148  72  35  0  33.6  0.627  50  1\n",
       "1  1   85  66  29  0  26.6  0.351  31  0"
      ]
     },
     "execution_count": 18,
     "metadata": {},
     "output_type": "execute_result"
    }
   ],
   "source": [
    "\n",
    "df = pd.read_csv(f'{path}/pima-indians-diabetes.data',header = None)\n",
    "print(df.shape)\n",
    "df.head(2)"
   ]
  },
  {
   "cell_type": "markdown",
   "metadata": {},
   "source": [
    "# Pre-process data, train-test split"
   ]
  },
  {
   "cell_type": "code",
   "execution_count": 22,
   "metadata": {},
   "outputs": [],
   "source": [
    "#Separate out X and Y\n",
    "X = df.iloc[:, :8]\n",
    "Y = df.iloc[:, 8:9]"
   ]
  },
  {
   "cell_type": "code",
   "execution_count": 23,
   "metadata": {},
   "outputs": [
    {
     "name": "stdout",
     "output_type": "stream",
     "text": [
      "(514, 8) (254, 8) (514, 1) (254, 1)\n"
     ]
    }
   ],
   "source": [
    "# Train- Test Split\n",
    "(X_train, X_test, Y_train, Y_test) = train_test_split(X, Y, test_size=0.33, random_state=1)\n",
    "print(X_train.shape,X_test.shape,Y_train.shape,Y_test.shape)"
   ]
  },
  {
   "cell_type": "markdown",
   "metadata": {},
   "source": [
    "# Build and compile a deep learning model"
   ]
  },
  {
   "cell_type": "code",
   "execution_count": 32,
   "metadata": {},
   "outputs": [
    {
     "name": "stderr",
     "output_type": "stream",
     "text": [
      "/usr/local/lib/python3.7/site-packages/ipykernel_launcher.py:5: UserWarning: Update your `Dense` call to the Keras 2 API: `Dense(10, input_dim=8, activation=\"relu\", kernel_initializer=\"uniform\")`\n",
      "  \"\"\"\n",
      "/usr/local/lib/python3.7/site-packages/ipykernel_launcher.py:6: UserWarning: Update your `Dense` call to the Keras 2 API: `Dense(6, activation=\"relu\", kernel_initializer=\"uniform\")`\n",
      "  \n",
      "/usr/local/lib/python3.7/site-packages/ipykernel_launcher.py:7: UserWarning: Update your `Dense` call to the Keras 2 API: `Dense(1, activation=\"sigmoid\", kernel_initializer=\"uniform\")`\n",
      "  import sys\n"
     ]
    }
   ],
   "source": [
    "# Build the deep neural network\n",
    "model = Sequential()\n",
    "\n",
    "# 10 neurons, 8 input colomns, initialize=uniform, ReLU activation\n",
    "model.add(Dense(10, input_dim=8, init='uniform', activation='relu')) \n",
    "\n",
    "model.add(Dense(6, init='uniform', activation='relu'))\n",
    "model.add(Dense(1, init='uniform', activation='sigmoid'))"
   ]
  },
  {
   "cell_type": "code",
   "execution_count": 25,
   "metadata": {},
   "outputs": [],
   "source": [
    "# Compile the DNN\n",
    "# loss: caculate the error; other commoin optimizers: sgd, RMSProp, Adagrad, Adadelta;\n",
    "model.compile(loss='binary_crossentropy', optimizer='adam', metrics=['accuracy'])"
   ]
  },
  {
   "cell_type": "code",
   "execution_count": 26,
   "metadata": {},
   "outputs": [
    {
     "name": "stderr",
     "output_type": "stream",
     "text": [
      "/usr/local/lib/python3.7/site-packages/ipykernel_launcher.py:3: UserWarning: The `nb_epoch` argument in `fit` has been renamed `epochs`.\n",
      "  This is separate from the ipykernel package so we can avoid doing imports until\n"
     ]
    },
    {
     "name": "stdout",
     "output_type": "stream",
     "text": [
      "Train on 514 samples, validate on 254 samples\n",
      "Epoch 1/100\n",
      "514/514 [==============================] - 0s 468us/step - loss: 0.6819 - accuracy: 0.6498 - val_loss: 0.6727 - val_accuracy: 0.6378\n",
      "Epoch 2/100\n",
      "514/514 [==============================] - 0s 178us/step - loss: 0.6570 - accuracy: 0.6576 - val_loss: 0.6706 - val_accuracy: 0.6417\n",
      "Epoch 3/100\n",
      "514/514 [==============================] - 0s 174us/step - loss: 0.6442 - accuracy: 0.6576 - val_loss: 0.6636 - val_accuracy: 0.6299\n",
      "Epoch 4/100\n",
      "514/514 [==============================] - 0s 171us/step - loss: 0.6279 - accuracy: 0.6790 - val_loss: 0.6599 - val_accuracy: 0.5984\n",
      "Epoch 5/100\n",
      "514/514 [==============================] - 0s 179us/step - loss: 0.6185 - accuracy: 0.6809 - val_loss: 0.6428 - val_accuracy: 0.6063\n",
      "Epoch 6/100\n",
      "514/514 [==============================] - 0s 179us/step - loss: 0.6091 - accuracy: 0.6829 - val_loss: 0.6402 - val_accuracy: 0.6142\n",
      "Epoch 7/100\n",
      "514/514 [==============================] - 0s 173us/step - loss: 0.6102 - accuracy: 0.6751 - val_loss: 0.6269 - val_accuracy: 0.6535\n",
      "Epoch 8/100\n",
      "514/514 [==============================] - 0s 173us/step - loss: 0.6042 - accuracy: 0.6829 - val_loss: 0.6213 - val_accuracy: 0.6614\n",
      "Epoch 9/100\n",
      "514/514 [==============================] - 0s 172us/step - loss: 0.6015 - accuracy: 0.7023 - val_loss: 0.6171 - val_accuracy: 0.6535\n",
      "Epoch 10/100\n",
      "514/514 [==============================] - 0s 175us/step - loss: 0.5941 - accuracy: 0.6790 - val_loss: 0.6323 - val_accuracy: 0.6299\n",
      "Epoch 11/100\n",
      "514/514 [==============================] - 0s 174us/step - loss: 0.5947 - accuracy: 0.7004 - val_loss: 0.6174 - val_accuracy: 0.6654\n",
      "Epoch 12/100\n",
      "514/514 [==============================] - 0s 172us/step - loss: 0.5935 - accuracy: 0.7043 - val_loss: 0.6047 - val_accuracy: 0.6772\n",
      "Epoch 13/100\n",
      "514/514 [==============================] - 0s 172us/step - loss: 0.5914 - accuracy: 0.7023 - val_loss: 0.6072 - val_accuracy: 0.6850\n",
      "Epoch 14/100\n",
      "514/514 [==============================] - 0s 173us/step - loss: 0.5829 - accuracy: 0.7004 - val_loss: 0.6070 - val_accuracy: 0.6654\n",
      "Epoch 15/100\n",
      "514/514 [==============================] - 0s 174us/step - loss: 0.5906 - accuracy: 0.6984 - val_loss: 0.6069 - val_accuracy: 0.6732\n",
      "Epoch 16/100\n",
      "514/514 [==============================] - 0s 174us/step - loss: 0.5853 - accuracy: 0.6946 - val_loss: 0.6017 - val_accuracy: 0.6772\n",
      "Epoch 17/100\n",
      "514/514 [==============================] - 0s 173us/step - loss: 0.5899 - accuracy: 0.6946 - val_loss: 0.5966 - val_accuracy: 0.7008\n",
      "Epoch 18/100\n",
      "514/514 [==============================] - 0s 179us/step - loss: 0.5848 - accuracy: 0.7121 - val_loss: 0.5968 - val_accuracy: 0.7126\n",
      "Epoch 19/100\n",
      "514/514 [==============================] - 0s 179us/step - loss: 0.5820 - accuracy: 0.6926 - val_loss: 0.6020 - val_accuracy: 0.6732\n",
      "Epoch 20/100\n",
      "514/514 [==============================] - 0s 188us/step - loss: 0.5822 - accuracy: 0.7082 - val_loss: 0.5986 - val_accuracy: 0.6772\n",
      "Epoch 21/100\n",
      "514/514 [==============================] - 0s 201us/step - loss: 0.5801 - accuracy: 0.7062 - val_loss: 0.5955 - val_accuracy: 0.6772\n",
      "Epoch 22/100\n",
      "514/514 [==============================] - 0s 185us/step - loss: 0.5806 - accuracy: 0.6926 - val_loss: 0.6091 - val_accuracy: 0.6654\n",
      "Epoch 23/100\n",
      "514/514 [==============================] - 0s 177us/step - loss: 0.5798 - accuracy: 0.6907 - val_loss: 0.5949 - val_accuracy: 0.6890\n",
      "Epoch 24/100\n",
      "514/514 [==============================] - 0s 173us/step - loss: 0.5765 - accuracy: 0.7023 - val_loss: 0.5919 - val_accuracy: 0.6969\n",
      "Epoch 25/100\n",
      "514/514 [==============================] - 0s 173us/step - loss: 0.5763 - accuracy: 0.7043 - val_loss: 0.5910 - val_accuracy: 0.7047\n",
      "Epoch 26/100\n",
      "514/514 [==============================] - 0s 173us/step - loss: 0.5746 - accuracy: 0.7023 - val_loss: 0.6012 - val_accuracy: 0.6811\n",
      "Epoch 27/100\n",
      "514/514 [==============================] - 0s 175us/step - loss: 0.5751 - accuracy: 0.6984 - val_loss: 0.5912 - val_accuracy: 0.6929\n",
      "Epoch 28/100\n",
      "514/514 [==============================] - 0s 192us/step - loss: 0.5723 - accuracy: 0.7160 - val_loss: 0.6127 - val_accuracy: 0.6732\n",
      "Epoch 29/100\n",
      "514/514 [==============================] - 0s 180us/step - loss: 0.5813 - accuracy: 0.6965 - val_loss: 0.5950 - val_accuracy: 0.6811\n",
      "Epoch 30/100\n",
      "514/514 [==============================] - 0s 176us/step - loss: 0.5728 - accuracy: 0.6984 - val_loss: 0.5886 - val_accuracy: 0.7126\n",
      "Epoch 31/100\n",
      "514/514 [==============================] - 0s 176us/step - loss: 0.5724 - accuracy: 0.7140 - val_loss: 0.5949 - val_accuracy: 0.6772\n",
      "Epoch 32/100\n",
      "514/514 [==============================] - 0s 175us/step - loss: 0.5730 - accuracy: 0.7043 - val_loss: 0.5883 - val_accuracy: 0.6929\n",
      "Epoch 33/100\n",
      "514/514 [==============================] - 0s 175us/step - loss: 0.5669 - accuracy: 0.6984 - val_loss: 0.5878 - val_accuracy: 0.6929\n",
      "Epoch 34/100\n",
      "514/514 [==============================] - 0s 179us/step - loss: 0.5631 - accuracy: 0.7412 - val_loss: 0.6212 - val_accuracy: 0.6693\n",
      "Epoch 35/100\n",
      "514/514 [==============================] - 0s 176us/step - loss: 0.5697 - accuracy: 0.7121 - val_loss: 0.5841 - val_accuracy: 0.7087\n",
      "Epoch 36/100\n",
      "514/514 [==============================] - 0s 174us/step - loss: 0.5684 - accuracy: 0.7121 - val_loss: 0.5887 - val_accuracy: 0.6969\n",
      "Epoch 37/100\n",
      "514/514 [==============================] - 0s 175us/step - loss: 0.5614 - accuracy: 0.7198 - val_loss: 0.5943 - val_accuracy: 0.6811\n",
      "Epoch 38/100\n",
      "514/514 [==============================] - 0s 174us/step - loss: 0.5811 - accuracy: 0.6848 - val_loss: 0.5904 - val_accuracy: 0.7008\n",
      "Epoch 39/100\n",
      "514/514 [==============================] - 0s 170us/step - loss: 0.5683 - accuracy: 0.7121 - val_loss: 0.5838 - val_accuracy: 0.7047\n",
      "Epoch 40/100\n",
      "514/514 [==============================] - 0s 174us/step - loss: 0.5614 - accuracy: 0.6984 - val_loss: 0.5796 - val_accuracy: 0.7047\n",
      "Epoch 41/100\n",
      "514/514 [==============================] - 0s 176us/step - loss: 0.5605 - accuracy: 0.7198 - val_loss: 0.5898 - val_accuracy: 0.7047\n",
      "Epoch 42/100\n",
      "514/514 [==============================] - 0s 175us/step - loss: 0.5671 - accuracy: 0.7121 - val_loss: 0.5869 - val_accuracy: 0.6929\n",
      "Epoch 43/100\n",
      "514/514 [==============================] - 0s 175us/step - loss: 0.5608 - accuracy: 0.6965 - val_loss: 0.5790 - val_accuracy: 0.7205\n",
      "Epoch 44/100\n",
      "514/514 [==============================] - 0s 175us/step - loss: 0.5597 - accuracy: 0.7237 - val_loss: 0.5813 - val_accuracy: 0.7087\n",
      "Epoch 45/100\n",
      "514/514 [==============================] - 0s 175us/step - loss: 0.5610 - accuracy: 0.7082 - val_loss: 0.5857 - val_accuracy: 0.7047\n",
      "Epoch 46/100\n",
      "514/514 [==============================] - 0s 176us/step - loss: 0.5575 - accuracy: 0.7140 - val_loss: 0.5714 - val_accuracy: 0.7008\n",
      "Epoch 47/100\n",
      "514/514 [==============================] - 0s 173us/step - loss: 0.5569 - accuracy: 0.7276 - val_loss: 0.5717 - val_accuracy: 0.7047\n",
      "Epoch 48/100\n",
      "514/514 [==============================] - 0s 176us/step - loss: 0.5596 - accuracy: 0.6984 - val_loss: 0.5749 - val_accuracy: 0.7047\n",
      "Epoch 49/100\n",
      "514/514 [==============================] - 0s 174us/step - loss: 0.5595 - accuracy: 0.7082 - val_loss: 0.5837 - val_accuracy: 0.7126\n",
      "Epoch 50/100\n",
      "514/514 [==============================] - 0s 175us/step - loss: 0.5571 - accuracy: 0.7198 - val_loss: 0.5870 - val_accuracy: 0.7047\n",
      "Epoch 51/100\n",
      "514/514 [==============================] - 0s 173us/step - loss: 0.5559 - accuracy: 0.7004 - val_loss: 0.5761 - val_accuracy: 0.7087\n",
      "Epoch 52/100\n",
      "514/514 [==============================] - 0s 173us/step - loss: 0.5542 - accuracy: 0.7140 - val_loss: 0.5719 - val_accuracy: 0.7165\n",
      "Epoch 53/100\n",
      "514/514 [==============================] - 0s 212us/step - loss: 0.5552 - accuracy: 0.7160 - val_loss: 0.5832 - val_accuracy: 0.7087\n",
      "Epoch 54/100\n",
      "514/514 [==============================] - 0s 182us/step - loss: 0.5544 - accuracy: 0.7198 - val_loss: 0.5737 - val_accuracy: 0.7165\n",
      "Epoch 55/100\n",
      "514/514 [==============================] - 0s 173us/step - loss: 0.5604 - accuracy: 0.7179 - val_loss: 0.5680 - val_accuracy: 0.7205\n",
      "Epoch 56/100\n",
      "514/514 [==============================] - 0s 187us/step - loss: 0.5534 - accuracy: 0.7101 - val_loss: 0.5642 - val_accuracy: 0.7126\n"
     ]
    },
    {
     "name": "stdout",
     "output_type": "stream",
     "text": [
      "Epoch 57/100\n",
      "514/514 [==============================] - 0s 187us/step - loss: 0.5496 - accuracy: 0.7218 - val_loss: 0.5641 - val_accuracy: 0.7047\n",
      "Epoch 58/100\n",
      "514/514 [==============================] - 0s 178us/step - loss: 0.5455 - accuracy: 0.7198 - val_loss: 0.5654 - val_accuracy: 0.7126\n",
      "Epoch 59/100\n",
      "514/514 [==============================] - 0s 174us/step - loss: 0.5555 - accuracy: 0.7121 - val_loss: 0.5640 - val_accuracy: 0.7205\n",
      "Epoch 60/100\n",
      "514/514 [==============================] - 0s 182us/step - loss: 0.5461 - accuracy: 0.7276 - val_loss: 0.5622 - val_accuracy: 0.7087\n",
      "Epoch 61/100\n",
      "514/514 [==============================] - 0s 175us/step - loss: 0.5479 - accuracy: 0.7335 - val_loss: 0.5656 - val_accuracy: 0.7244\n",
      "Epoch 62/100\n",
      "514/514 [==============================] - 0s 171us/step - loss: 0.5464 - accuracy: 0.7043 - val_loss: 0.5626 - val_accuracy: 0.7126\n",
      "Epoch 63/100\n",
      "514/514 [==============================] - 0s 172us/step - loss: 0.5444 - accuracy: 0.7296 - val_loss: 0.5836 - val_accuracy: 0.7126\n",
      "Epoch 64/100\n",
      "514/514 [==============================] - 0s 176us/step - loss: 0.5473 - accuracy: 0.7043 - val_loss: 0.5591 - val_accuracy: 0.7165\n",
      "Epoch 65/100\n",
      "514/514 [==============================] - 0s 173us/step - loss: 0.5486 - accuracy: 0.7160 - val_loss: 0.5599 - val_accuracy: 0.7362\n",
      "Epoch 66/100\n",
      "514/514 [==============================] - 0s 178us/step - loss: 0.5452 - accuracy: 0.7315 - val_loss: 0.5619 - val_accuracy: 0.7205\n",
      "Epoch 67/100\n",
      "514/514 [==============================] - 0s 175us/step - loss: 0.5449 - accuracy: 0.7335 - val_loss: 0.5617 - val_accuracy: 0.7165\n",
      "Epoch 68/100\n",
      "514/514 [==============================] - 0s 172us/step - loss: 0.5408 - accuracy: 0.7101 - val_loss: 0.5583 - val_accuracy: 0.7283\n",
      "Epoch 69/100\n",
      "514/514 [==============================] - 0s 171us/step - loss: 0.5397 - accuracy: 0.7276 - val_loss: 0.5611 - val_accuracy: 0.7205\n",
      "Epoch 70/100\n",
      "514/514 [==============================] - 0s 174us/step - loss: 0.5384 - accuracy: 0.7315 - val_loss: 0.5582 - val_accuracy: 0.7244\n",
      "Epoch 71/100\n",
      "514/514 [==============================] - 0s 172us/step - loss: 0.5400 - accuracy: 0.7315 - val_loss: 0.5561 - val_accuracy: 0.7165\n",
      "Epoch 72/100\n",
      "514/514 [==============================] - 0s 176us/step - loss: 0.5348 - accuracy: 0.7412 - val_loss: 0.5534 - val_accuracy: 0.7126\n",
      "Epoch 73/100\n",
      "514/514 [==============================] - 0s 174us/step - loss: 0.5336 - accuracy: 0.7237 - val_loss: 0.5575 - val_accuracy: 0.7205\n",
      "Epoch 74/100\n",
      "514/514 [==============================] - 0s 174us/step - loss: 0.5403 - accuracy: 0.7432 - val_loss: 0.5543 - val_accuracy: 0.7165\n",
      "Epoch 75/100\n",
      "514/514 [==============================] - 0s 174us/step - loss: 0.5370 - accuracy: 0.7412 - val_loss: 0.5582 - val_accuracy: 0.7244\n",
      "Epoch 76/100\n",
      "514/514 [==============================] - 0s 171us/step - loss: 0.5359 - accuracy: 0.7315 - val_loss: 0.5511 - val_accuracy: 0.7323\n",
      "Epoch 77/100\n",
      "514/514 [==============================] - 0s 176us/step - loss: 0.5355 - accuracy: 0.7237 - val_loss: 0.5498 - val_accuracy: 0.7165\n",
      "Epoch 78/100\n",
      "514/514 [==============================] - 0s 174us/step - loss: 0.5283 - accuracy: 0.7432 - val_loss: 0.5641 - val_accuracy: 0.7165\n",
      "Epoch 79/100\n",
      "514/514 [==============================] - 0s 176us/step - loss: 0.5306 - accuracy: 0.7490 - val_loss: 0.6027 - val_accuracy: 0.6929\n",
      "Epoch 80/100\n",
      "514/514 [==============================] - 0s 174us/step - loss: 0.5429 - accuracy: 0.7257 - val_loss: 0.5485 - val_accuracy: 0.7205\n",
      "Epoch 81/100\n",
      "514/514 [==============================] - 0s 178us/step - loss: 0.5329 - accuracy: 0.7315 - val_loss: 0.5512 - val_accuracy: 0.7362\n",
      "Epoch 82/100\n",
      "514/514 [==============================] - 0s 170us/step - loss: 0.5327 - accuracy: 0.7354 - val_loss: 0.5537 - val_accuracy: 0.7323\n",
      "Epoch 83/100\n",
      "514/514 [==============================] - 0s 172us/step - loss: 0.5274 - accuracy: 0.7432 - val_loss: 0.5458 - val_accuracy: 0.7244\n",
      "Epoch 84/100\n",
      "514/514 [==============================] - 0s 173us/step - loss: 0.5345 - accuracy: 0.7296 - val_loss: 0.5480 - val_accuracy: 0.7402\n",
      "Epoch 85/100\n",
      "514/514 [==============================] - 0s 172us/step - loss: 0.5308 - accuracy: 0.7354 - val_loss: 0.5527 - val_accuracy: 0.7323\n",
      "Epoch 86/100\n",
      "514/514 [==============================] - 0s 172us/step - loss: 0.5238 - accuracy: 0.7646 - val_loss: 0.5748 - val_accuracy: 0.7165\n",
      "Epoch 87/100\n",
      "514/514 [==============================] - 0s 172us/step - loss: 0.5350 - accuracy: 0.7354 - val_loss: 0.5463 - val_accuracy: 0.7323\n",
      "Epoch 88/100\n",
      "514/514 [==============================] - 0s 175us/step - loss: 0.5291 - accuracy: 0.7451 - val_loss: 0.5454 - val_accuracy: 0.7402\n",
      "Epoch 89/100\n",
      "514/514 [==============================] - 0s 175us/step - loss: 0.5291 - accuracy: 0.7393 - val_loss: 0.5479 - val_accuracy: 0.7087\n",
      "Epoch 90/100\n",
      "514/514 [==============================] - 0s 175us/step - loss: 0.5340 - accuracy: 0.7296 - val_loss: 0.5415 - val_accuracy: 0.7323\n",
      "Epoch 91/100\n",
      "514/514 [==============================] - 0s 176us/step - loss: 0.5269 - accuracy: 0.7471 - val_loss: 0.5504 - val_accuracy: 0.7283\n",
      "Epoch 92/100\n",
      "514/514 [==============================] - 0s 173us/step - loss: 0.5290 - accuracy: 0.7296 - val_loss: 0.5400 - val_accuracy: 0.7362\n",
      "Epoch 93/100\n",
      "514/514 [==============================] - 0s 173us/step - loss: 0.5278 - accuracy: 0.7471 - val_loss: 0.5438 - val_accuracy: 0.7323\n",
      "Epoch 94/100\n",
      "514/514 [==============================] - 0s 174us/step - loss: 0.5214 - accuracy: 0.7529 - val_loss: 0.5396 - val_accuracy: 0.7244\n",
      "Epoch 95/100\n",
      "514/514 [==============================] - 0s 174us/step - loss: 0.5189 - accuracy: 0.7412 - val_loss: 0.5401 - val_accuracy: 0.7283\n",
      "Epoch 96/100\n",
      "514/514 [==============================] - 0s 175us/step - loss: 0.5195 - accuracy: 0.7607 - val_loss: 0.5393 - val_accuracy: 0.7165\n",
      "Epoch 97/100\n",
      "514/514 [==============================] - 0s 175us/step - loss: 0.5184 - accuracy: 0.7549 - val_loss: 0.5448 - val_accuracy: 0.7362\n",
      "Epoch 98/100\n",
      "514/514 [==============================] - 0s 171us/step - loss: 0.5187 - accuracy: 0.7432 - val_loss: 0.5443 - val_accuracy: 0.7441\n",
      "Epoch 99/100\n",
      "514/514 [==============================] - 0s 171us/step - loss: 0.5210 - accuracy: 0.7529 - val_loss: 0.5555 - val_accuracy: 0.7165\n",
      "Epoch 100/100\n",
      "514/514 [==============================] - 0s 185us/step - loss: 0.5183 - accuracy: 0.7549 - val_loss: 0.5384 - val_accuracy: 0.7362\n"
     ]
    },
    {
     "data": {
      "text/plain": [
       "<keras.callbacks.callbacks.History at 0x13ff170b8>"
      ]
     },
     "execution_count": 26,
     "metadata": {},
     "output_type": "execute_result"
    }
   ],
   "source": [
    "# Fit the DNN with your train data\n",
    "# nb_epoch: int. Number of epochs to train the model. An epoch is an iteration over the entire x and y data provided.\n",
    "# batch_size: int. Number of samples per gradient update.\n",
    "model.fit(X_train, Y_train, validation_data=(X_test, Y_test), nb_epoch=100, batch_size=5)"
   ]
  },
  {
   "cell_type": "code",
   "execution_count": 29,
   "metadata": {},
   "outputs": [
    {
     "name": "stdout",
     "output_type": "stream",
     "text": [
      "254/254 [==============================] - 0s 17us/step\n",
      "Accuracy: 73.62%\n"
     ]
    }
   ],
   "source": [
    "# Evaluate the model\n",
    "scores = model.evaluate(X_test, Y_test)\n",
    "print (\"Accuracy: %.2f%%\" %(scores[1]*100))"
   ]
  },
  {
   "cell_type": "code",
   "execution_count": null,
   "metadata": {},
   "outputs": [],
   "source": []
  },
  {
   "cell_type": "code",
   "execution_count": null,
   "metadata": {},
   "outputs": [],
   "source": []
  }
 ],
 "metadata": {
  "kernelspec": {
   "display_name": "Python 3",
   "language": "python",
   "name": "python3"
  },
  "language_info": {
   "codemirror_mode": {
    "name": "ipython",
    "version": 3
   },
   "file_extension": ".py",
   "mimetype": "text/x-python",
   "name": "python",
   "nbconvert_exporter": "python",
   "pygments_lexer": "ipython3",
   "version": "3.7.1"
  }
 },
 "nbformat": 4,
 "nbformat_minor": 2
}
