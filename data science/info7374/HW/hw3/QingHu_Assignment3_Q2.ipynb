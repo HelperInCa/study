{
 "cells": [
  {
   "cell_type": "code",
   "execution_count": 1,
   "metadata": {},
   "outputs": [
    {
     "name": "stderr",
     "output_type": "stream",
     "text": [
      "Using TensorFlow backend.\n"
     ]
    }
   ],
   "source": [
    "'''Import necessary packages'''\n",
    "from keras.models import Sequential\n",
    "from keras.layers import Dense\n",
    "from keras.layers import Dropout\n",
    "from keras.optimizers import Adam\n",
    "import warnings\n",
    "from sklearn.model_selection import train_test_split\n",
    "from sklearn import preprocessing\n",
    "from matplotlib import pyplot as plt\n",
    "from pandas.api.types import is_string_dtype,is_numeric_dtype\n",
    "import seaborn as sns\n",
    "import numpy as np\n",
    "import pandas as pd\n"
   ]
  },
  {
   "cell_type": "code",
   "execution_count": 2,
   "metadata": {},
   "outputs": [
    {
     "name": "stdout",
     "output_type": "stream",
     "text": [
      "(537577, 12)\n"
     ]
    },
    {
     "data": {
      "text/html": [
       "<div>\n",
       "<style scoped>\n",
       "    .dataframe tbody tr th:only-of-type {\n",
       "        vertical-align: middle;\n",
       "    }\n",
       "\n",
       "    .dataframe tbody tr th {\n",
       "        vertical-align: top;\n",
       "    }\n",
       "\n",
       "    .dataframe thead th {\n",
       "        text-align: right;\n",
       "    }\n",
       "</style>\n",
       "<table border=\"1\" class=\"dataframe\">\n",
       "  <thead>\n",
       "    <tr style=\"text-align: right;\">\n",
       "      <th></th>\n",
       "      <th>User_ID</th>\n",
       "      <th>Product_ID</th>\n",
       "      <th>Gender</th>\n",
       "      <th>Age</th>\n",
       "      <th>Occupation</th>\n",
       "      <th>City_Category</th>\n",
       "      <th>Stay_In_Current_City_Years</th>\n",
       "      <th>Marital_Status</th>\n",
       "      <th>Product_Category_1</th>\n",
       "      <th>Product_Category_2</th>\n",
       "      <th>Product_Category_3</th>\n",
       "      <th>Purchase</th>\n",
       "    </tr>\n",
       "  </thead>\n",
       "  <tbody>\n",
       "    <tr>\n",
       "      <th>0</th>\n",
       "      <td>1000001</td>\n",
       "      <td>P00069042</td>\n",
       "      <td>F</td>\n",
       "      <td>0-17</td>\n",
       "      <td>10</td>\n",
       "      <td>A</td>\n",
       "      <td>2</td>\n",
       "      <td>0</td>\n",
       "      <td>3</td>\n",
       "      <td>NaN</td>\n",
       "      <td>NaN</td>\n",
       "      <td>8370</td>\n",
       "    </tr>\n",
       "    <tr>\n",
       "      <th>1</th>\n",
       "      <td>1000001</td>\n",
       "      <td>P00248942</td>\n",
       "      <td>F</td>\n",
       "      <td>0-17</td>\n",
       "      <td>10</td>\n",
       "      <td>A</td>\n",
       "      <td>2</td>\n",
       "      <td>0</td>\n",
       "      <td>1</td>\n",
       "      <td>6.0</td>\n",
       "      <td>14.0</td>\n",
       "      <td>15200</td>\n",
       "    </tr>\n",
       "    <tr>\n",
       "      <th>2</th>\n",
       "      <td>1000001</td>\n",
       "      <td>P00087842</td>\n",
       "      <td>F</td>\n",
       "      <td>0-17</td>\n",
       "      <td>10</td>\n",
       "      <td>A</td>\n",
       "      <td>2</td>\n",
       "      <td>0</td>\n",
       "      <td>12</td>\n",
       "      <td>NaN</td>\n",
       "      <td>NaN</td>\n",
       "      <td>1422</td>\n",
       "    </tr>\n",
       "  </tbody>\n",
       "</table>\n",
       "</div>"
      ],
      "text/plain": [
       "   User_ID Product_ID Gender   Age  Occupation City_Category  \\\n",
       "0  1000001  P00069042      F  0-17          10             A   \n",
       "1  1000001  P00248942      F  0-17          10             A   \n",
       "2  1000001  P00087842      F  0-17          10             A   \n",
       "\n",
       "  Stay_In_Current_City_Years  Marital_Status  Product_Category_1  \\\n",
       "0                          2               0                   3   \n",
       "1                          2               0                   1   \n",
       "2                          2               0                  12   \n",
       "\n",
       "   Product_Category_2  Product_Category_3  Purchase  \n",
       "0                 NaN                 NaN      8370  \n",
       "1                 6.0                14.0     15200  \n",
       "2                 NaN                 NaN      1422  "
      ]
     },
     "execution_count": 2,
     "metadata": {},
     "output_type": "execute_result"
    }
   ],
   "source": [
    "df = pd.read_csv(f'/Users/qing/Desktop/study/data science/HW/hw3/BlackFriday.csv')\n",
    "print(df.shape)\n",
    "df.head(3)"
   ]
  },
  {
   "cell_type": "markdown",
   "metadata": {},
   "source": [
    "# Pre-process, split train-test "
   ]
  },
  {
   "cell_type": "code",
   "execution_count": 3,
   "metadata": {},
   "outputs": [
    {
     "name": "stdout",
     "output_type": "stream",
     "text": [
      "   User_ID Product_ID Gender   Age  Occupation City_Category  \\\n",
      "0  1000001  P00069042      F  0-17          10             A   \n",
      "1  1000001  P00248942      F  0-17          10             A   \n",
      "\n",
      "  Stay_In_Current_City_Years  Marital_Status  Product_Category_1  \\\n",
      "0                          2               0                   3   \n",
      "1                          2               0                   1   \n",
      "\n",
      "   Product_Category_2  Product_Category_3  \n",
      "0                 NaN                 NaN  \n",
      "1                 6.0                14.0  \n"
     ]
    }
   ],
   "source": [
    "X = df.iloc[:, :11]\n",
    "Y = df.iloc[:, 11:]\n",
    "print(X.head(2))"
   ]
  },
  {
   "cell_type": "code",
   "execution_count": 4,
   "metadata": {
    "scrolled": true
   },
   "outputs": [
    {
     "name": "stdout",
     "output_type": "stream",
     "text": [
      "<class 'pandas.core.frame.DataFrame'>\n",
      "RangeIndex: 537577 entries, 0 to 537576\n",
      "Data columns (total 11 columns):\n",
      "User_ID                       537577 non-null int64\n",
      "Product_ID                    537577 non-null object\n",
      "Gender                        537577 non-null object\n",
      "Age                           537577 non-null object\n",
      "Occupation                    537577 non-null int64\n",
      "City_Category                 537577 non-null object\n",
      "Stay_In_Current_City_Years    537577 non-null object\n",
      "Marital_Status                537577 non-null int64\n",
      "Product_Category_1            537577 non-null int64\n",
      "Product_Category_2            370591 non-null float64\n",
      "Product_Category_3            164278 non-null float64\n",
      "dtypes: float64(2), int64(4), object(5)\n",
      "memory usage: 45.1+ MB\n"
     ]
    }
   ],
   "source": [
    "X.info()"
   ]
  },
  {
   "cell_type": "code",
   "execution_count": 5,
   "metadata": {},
   "outputs": [],
   "source": [
    "X.fillna(value = 0, inplace = True)\n",
    "X[\"Product_Category_2\"] = X[\"Product_Category_2\"].astype('int64')\n",
    "X[\"Product_Category_3\"] = X[\"Product_Category_3\"].astype('int64')"
   ]
  },
  {
   "cell_type": "code",
   "execution_count": 6,
   "metadata": {},
   "outputs": [],
   "source": [
    "def str_to_cat(my_df):\n",
    "    for label, content in my_df.items():\n",
    "        if is_string_dtype(content):\n",
    "            my_df[label] = content.astype('category').cat.as_ordered()"
   ]
  },
  {
   "cell_type": "code",
   "execution_count": 7,
   "metadata": {},
   "outputs": [],
   "source": [
    "str_to_cat(X)"
   ]
  },
  {
   "cell_type": "code",
   "execution_count": 8,
   "metadata": {},
   "outputs": [
    {
     "name": "stdout",
     "output_type": "stream",
     "text": [
      "<class 'pandas.core.frame.DataFrame'>\n",
      "RangeIndex: 537577 entries, 0 to 537576\n",
      "Data columns (total 11 columns):\n",
      "User_ID                       537577 non-null int64\n",
      "Product_ID                    537577 non-null category\n",
      "Gender                        537577 non-null category\n",
      "Age                           537577 non-null category\n",
      "Occupation                    537577 non-null int64\n",
      "City_Category                 537577 non-null category\n",
      "Stay_In_Current_City_Years    537577 non-null category\n",
      "Marital_Status                537577 non-null int64\n",
      "Product_Category_1            537577 non-null int64\n",
      "Product_Category_2            537577 non-null int64\n",
      "Product_Category_3            537577 non-null int64\n",
      "dtypes: category(5), int64(6)\n",
      "memory usage: 27.9 MB\n"
     ]
    }
   ],
   "source": [
    "X.info()"
   ]
  },
  {
   "cell_type": "code",
   "execution_count": 9,
   "metadata": {},
   "outputs": [
    {
     "name": "stdout",
     "output_type": "stream",
     "text": [
      "<class 'pandas.core.frame.DataFrame'>\n",
      "RangeIndex: 537577 entries, 0 to 537576\n",
      "Data columns (total 11 columns):\n",
      "User_ID                       537577 non-null int64\n",
      "Product_ID                    537577 non-null int64\n",
      "Gender                        537577 non-null int64\n",
      "Age                           537577 non-null int64\n",
      "Occupation                    537577 non-null int64\n",
      "City_Category                 537577 non-null int64\n",
      "Stay_In_Current_City_Years    537577 non-null int64\n",
      "Marital_Status                537577 non-null int64\n",
      "Product_Category_1            537577 non-null int64\n",
      "Product_Category_2            537577 non-null int64\n",
      "Product_Category_3            537577 non-null int64\n",
      "dtypes: int64(11)\n",
      "memory usage: 45.1 MB\n"
     ]
    }
   ],
   "source": [
    "from fancyimpute import SoftImpute\n",
    "\n",
    "def mydf_to_nums(my_df, feature, null_status):\n",
    "    if not is_numeric_dtype(feature):\n",
    "        my_df[null_status] = feature.cat.codes + 1\n",
    "        my_df[null_status] = my_df[null_status].astype('int64')\n",
    "\n",
    "def mydf_preprocessor(my_df):\n",
    "    for label, content in my_df.items(): \n",
    "        mydf_to_nums(my_df, content, label)\n",
    "    my_df.info()\n",
    "    \n",
    "mydf_preprocessor(X)"
   ]
  },
  {
   "cell_type": "code",
   "execution_count": 10,
   "metadata": {
    "scrolled": true
   },
   "outputs": [
    {
     "data": {
      "text/html": [
       "<div>\n",
       "<style scoped>\n",
       "    .dataframe tbody tr th:only-of-type {\n",
       "        vertical-align: middle;\n",
       "    }\n",
       "\n",
       "    .dataframe tbody tr th {\n",
       "        vertical-align: top;\n",
       "    }\n",
       "\n",
       "    .dataframe thead th {\n",
       "        text-align: right;\n",
       "    }\n",
       "</style>\n",
       "<table border=\"1\" class=\"dataframe\">\n",
       "  <thead>\n",
       "    <tr style=\"text-align: right;\">\n",
       "      <th></th>\n",
       "      <th>User_ID</th>\n",
       "      <th>Product_ID</th>\n",
       "      <th>Gender</th>\n",
       "      <th>Age</th>\n",
       "      <th>Occupation</th>\n",
       "      <th>City_Category</th>\n",
       "      <th>Stay_In_Current_City_Years</th>\n",
       "      <th>Marital_Status</th>\n",
       "      <th>Product_Category_1</th>\n",
       "      <th>Product_Category_2</th>\n",
       "      <th>Product_Category_3</th>\n",
       "    </tr>\n",
       "  </thead>\n",
       "  <tbody>\n",
       "    <tr>\n",
       "      <th>0</th>\n",
       "      <td>1000001</td>\n",
       "      <td>671</td>\n",
       "      <td>1</td>\n",
       "      <td>1</td>\n",
       "      <td>10</td>\n",
       "      <td>1</td>\n",
       "      <td>3</td>\n",
       "      <td>0</td>\n",
       "      <td>3</td>\n",
       "      <td>0</td>\n",
       "      <td>0</td>\n",
       "    </tr>\n",
       "    <tr>\n",
       "      <th>1</th>\n",
       "      <td>1000001</td>\n",
       "      <td>2375</td>\n",
       "      <td>1</td>\n",
       "      <td>1</td>\n",
       "      <td>10</td>\n",
       "      <td>1</td>\n",
       "      <td>3</td>\n",
       "      <td>0</td>\n",
       "      <td>1</td>\n",
       "      <td>6</td>\n",
       "      <td>14</td>\n",
       "    </tr>\n",
       "  </tbody>\n",
       "</table>\n",
       "</div>"
      ],
      "text/plain": [
       "   User_ID  Product_ID  Gender  Age  Occupation  City_Category  \\\n",
       "0  1000001         671       1    1          10              1   \n",
       "1  1000001        2375       1    1          10              1   \n",
       "\n",
       "   Stay_In_Current_City_Years  Marital_Status  Product_Category_1  \\\n",
       "0                           3               0                   3   \n",
       "1                           3               0                   1   \n",
       "\n",
       "   Product_Category_2  Product_Category_3  \n",
       "0                   0                   0  \n",
       "1                   6                  14  "
      ]
     },
     "execution_count": 10,
     "metadata": {},
     "output_type": "execute_result"
    }
   ],
   "source": [
    "X.head(2)"
   ]
  },
  {
   "cell_type": "code",
   "execution_count": 11,
   "metadata": {},
   "outputs": [
    {
     "name": "stdout",
     "output_type": "stream",
     "text": [
      "(322545, 11) (107516, 11) (107516, 11)\n"
     ]
    }
   ],
   "source": [
    "(X_train_valid, X_test, Y_train_valid, Y_test) = train_test_split(X, Y, test_size=0.2, random_state=1)\n",
    "(X_train, X_valid, Y_train, Y_valid) = train_test_split(X_train_valid, Y_train_valid, test_size=0.25, random_state=1)\n",
    "print(X_train.shape, X_valid.shape, X_test.shape)"
   ]
  },
  {
   "cell_type": "code",
   "execution_count": 12,
   "metadata": {},
   "outputs": [
    {
     "name": "stdout",
     "output_type": "stream",
     "text": [
      "         User_ID  Product_ID    Gender       Age  Occupation  City_Category  \\\n",
      "122307 -1.218111   -0.286953 -1.748722  1.110580    0.601251        1.26275   \n",
      "155184  1.742657   -0.831606  0.571844  0.372072   -0.165520        1.26275   \n",
      "\n",
      "        Stay_In_Current_City_Years  Marital_Status  Product_Category_1  \\\n",
      "122307                   -0.666624       -0.831088            0.722295   \n",
      "155184                    0.885560       -0.831088           -0.078435   \n",
      "\n",
      "        Product_Category_2  Product_Category_3  \n",
      "122307           -1.095246           -0.619078  \n",
      "155184            0.192056            2.091239  \n"
     ]
    }
   ],
   "source": [
    "mean = X_train.mean(axis = 0)\n",
    "X_train -= mean\n",
    "std = X_train.std(axis = 0)\n",
    "X_train /= std\n",
    "\n",
    "X_valid -= mean\n",
    "X_valid /= std\n",
    "\n",
    "X_test -= mean\n",
    "X_test /= std\n",
    "\n",
    "print(X_train.head(2))"
   ]
  },
  {
   "cell_type": "code",
   "execution_count": 13,
   "metadata": {},
   "outputs": [
    {
     "data": {
      "text/html": [
       "<div>\n",
       "<style scoped>\n",
       "    .dataframe tbody tr th:only-of-type {\n",
       "        vertical-align: middle;\n",
       "    }\n",
       "\n",
       "    .dataframe tbody tr th {\n",
       "        vertical-align: top;\n",
       "    }\n",
       "\n",
       "    .dataframe thead th {\n",
       "        text-align: right;\n",
       "    }\n",
       "</style>\n",
       "<table border=\"1\" class=\"dataframe\">\n",
       "  <thead>\n",
       "    <tr style=\"text-align: right;\">\n",
       "      <th></th>\n",
       "      <th>User_ID</th>\n",
       "      <th>Product_ID</th>\n",
       "      <th>Gender</th>\n",
       "      <th>Age</th>\n",
       "      <th>Occupation</th>\n",
       "      <th>City_Category</th>\n",
       "      <th>Stay_In_Current_City_Years</th>\n",
       "      <th>Marital_Status</th>\n",
       "      <th>Product_Category_1</th>\n",
       "      <th>Product_Category_2</th>\n",
       "      <th>Product_Category_3</th>\n",
       "    </tr>\n",
       "  </thead>\n",
       "  <tbody>\n",
       "    <tr>\n",
       "      <th>286426</th>\n",
       "      <td>-0.544414</td>\n",
       "      <td>0.791380</td>\n",
       "      <td>0.571844</td>\n",
       "      <td>-1.843454</td>\n",
       "      <td>-1.085646</td>\n",
       "      <td>1.26275</td>\n",
       "      <td>0.885560</td>\n",
       "      <td>-0.831088</td>\n",
       "      <td>-0.078435</td>\n",
       "      <td>1.479358</td>\n",
       "      <td>-0.619078</td>\n",
       "    </tr>\n",
       "    <tr>\n",
       "      <th>10739</th>\n",
       "      <td>-0.787645</td>\n",
       "      <td>-1.582749</td>\n",
       "      <td>0.571844</td>\n",
       "      <td>1.110580</td>\n",
       "      <td>-0.932292</td>\n",
       "      <td>1.26275</td>\n",
       "      <td>1.661652</td>\n",
       "      <td>-0.831088</td>\n",
       "      <td>0.722295</td>\n",
       "      <td>1.479358</td>\n",
       "      <td>-0.619078</td>\n",
       "    </tr>\n",
       "  </tbody>\n",
       "</table>\n",
       "</div>"
      ],
      "text/plain": [
       "         User_ID  Product_ID    Gender       Age  Occupation  City_Category  \\\n",
       "286426 -0.544414    0.791380  0.571844 -1.843454   -1.085646        1.26275   \n",
       "10739  -0.787645   -1.582749  0.571844  1.110580   -0.932292        1.26275   \n",
       "\n",
       "        Stay_In_Current_City_Years  Marital_Status  Product_Category_1  \\\n",
       "286426                    0.885560       -0.831088           -0.078435   \n",
       "10739                     1.661652       -0.831088            0.722295   \n",
       "\n",
       "        Product_Category_2  Product_Category_3  \n",
       "286426            1.479358           -0.619078  \n",
       "10739             1.479358           -0.619078  "
      ]
     },
     "execution_count": 13,
     "metadata": {},
     "output_type": "execute_result"
    }
   ],
   "source": [
    "X_valid.head(2)"
   ]
  },
  {
   "cell_type": "markdown",
   "metadata": {},
   "source": [
    "# Build DNN"
   ]
  },
  {
   "cell_type": "code",
   "execution_count": 26,
   "metadata": {},
   "outputs": [],
   "source": [
    "warnings.filterwarnings('ignore')\n",
    "model = Sequential()\n",
    "model.add(Dense(64, input_dim=11, activation='relu'))\n",
    "model.add(Dropout(0.2))\n",
    "model.add(Dense(32, activation='relu'))\n",
    "model.add(Dropout(0.2))\n",
    "model.add(Dense(1))"
   ]
  },
  {
   "cell_type": "code",
   "execution_count": 27,
   "metadata": {},
   "outputs": [],
   "source": [
    "model.compile(optimizer = 'rmsprop', loss = 'mse', metrics=['mae'])"
   ]
  },
  {
   "cell_type": "code",
   "execution_count": 28,
   "metadata": {},
   "outputs": [
    {
     "name": "stdout",
     "output_type": "stream",
     "text": [
      "Train on 322545 samples, validate on 107516 samples\n",
      "Epoch 1/100\n",
      "322545/322545 [==============================] - 16s 49us/step - loss: 25335601.9820 - mean_absolute_error: 3733.5987 - val_loss: 17809805.2272 - val_mean_absolute_error: 3138.5165\n",
      "Epoch 2/100\n",
      "322545/322545 [==============================] - 16s 48us/step - loss: 19257050.6659 - mean_absolute_error: 3264.9716 - val_loss: 17234088.0451 - val_mean_absolute_error: 3073.5737\n",
      "Epoch 3/100\n",
      "322545/322545 [==============================] - 15s 48us/step - loss: 18882994.3198 - mean_absolute_error: 3223.8837 - val_loss: 16927422.9113 - val_mean_absolute_error: 3049.9192\n",
      "Epoch 4/100\n",
      "322545/322545 [==============================] - 16s 48us/step - loss: 18751655.5812 - mean_absolute_error: 3210.3911 - val_loss: 16875610.9280 - val_mean_absolute_error: 3040.9498\n",
      "Epoch 5/100\n",
      "322545/322545 [==============================] - 15s 48us/step - loss: 18704695.4476 - mean_absolute_error: 3206.2331 - val_loss: 16905534.2170 - val_mean_absolute_error: 3038.3840\n",
      "Epoch 6/100\n",
      "322545/322545 [==============================] - 15s 48us/step - loss: 18685681.9570 - mean_absolute_error: 3203.9575 - val_loss: 16811436.4823 - val_mean_absolute_error: 3034.9176\n",
      "Epoch 7/100\n",
      "322545/322545 [==============================] - 16s 48us/step - loss: 18670039.3451 - mean_absolute_error: 3200.5226 - val_loss: 16819903.1275 - val_mean_absolute_error: 3039.7112\n",
      "Epoch 8/100\n",
      "322545/322545 [==============================] - 16s 49us/step - loss: 18680174.5878 - mean_absolute_error: 3203.2039 - val_loss: 16791993.4491 - val_mean_absolute_error: 3033.2718\n",
      "Epoch 9/100\n",
      "322545/322545 [==============================] - 16s 48us/step - loss: 18637234.9146 - mean_absolute_error: 3200.5258 - val_loss: 16846113.4083 - val_mean_absolute_error: 3034.5082\n",
      "Epoch 10/100\n",
      "322545/322545 [==============================] - 16s 49us/step - loss: 18622952.5375 - mean_absolute_error: 3195.8306 - val_loss: 16780020.9809 - val_mean_absolute_error: 3034.8978\n",
      "Epoch 11/100\n",
      "322545/322545 [==============================] - 15s 48us/step - loss: 18599821.3833 - mean_absolute_error: 3193.1180 - val_loss: 16825343.8791 - val_mean_absolute_error: 3035.7291\n",
      "Epoch 12/100\n",
      "322545/322545 [==============================] - 15s 48us/step - loss: 18586421.4217 - mean_absolute_error: 3193.1924 - val_loss: 16804800.2567 - val_mean_absolute_error: 3038.9825\n",
      "Epoch 13/100\n",
      "322545/322545 [==============================] - 16s 48us/step - loss: 18618594.7110 - mean_absolute_error: 3195.6945 - val_loss: 16809084.2428 - val_mean_absolute_error: 3033.2652\n",
      "Epoch 14/100\n",
      "322545/322545 [==============================] - 15s 48us/step - loss: 18601157.7395 - mean_absolute_error: 3194.3474 - val_loss: 16757948.8875 - val_mean_absolute_error: 3035.3317\n",
      "Epoch 15/100\n",
      "322545/322545 [==============================] - 16s 48us/step - loss: 18581568.7670 - mean_absolute_error: 3195.7331 - val_loss: 16822671.3733 - val_mean_absolute_error: 3037.0969\n",
      "Epoch 16/100\n",
      "322545/322545 [==============================] - 16s 48us/step - loss: 18550613.2852 - mean_absolute_error: 3189.0057 - val_loss: 16823783.8335 - val_mean_absolute_error: 3036.4522\n",
      "Epoch 17/100\n",
      "322545/322545 [==============================] - 16s 49us/step - loss: 18577099.0592 - mean_absolute_error: 3194.8930 - val_loss: 16791393.5817 - val_mean_absolute_error: 3034.7391\n",
      "Epoch 18/100\n",
      "322545/322545 [==============================] - 16s 48us/step - loss: 18580463.5426 - mean_absolute_error: 3194.6550 - val_loss: 16799959.8783 - val_mean_absolute_error: 3035.2680\n",
      "Epoch 19/100\n",
      "322545/322545 [==============================] - 16s 48us/step - loss: 18549184.1807 - mean_absolute_error: 3191.5854 - val_loss: 16756231.9340 - val_mean_absolute_error: 3031.8781\n",
      "Epoch 20/100\n",
      "322545/322545 [==============================] - 15s 48us/step - loss: 18561639.4200 - mean_absolute_error: 3188.7507 - val_loss: 16736010.2267 - val_mean_absolute_error: 3032.5039\n",
      "Epoch 21/100\n",
      "322545/322545 [==============================] - 16s 48us/step - loss: 18563366.8422 - mean_absolute_error: 3192.4165 - val_loss: 16775591.8974 - val_mean_absolute_error: 3037.7958\n",
      "Epoch 22/100\n",
      "322545/322545 [==============================] - 16s 48us/step - loss: 18562367.1371 - mean_absolute_error: 3190.1700 - val_loss: 16778626.9137 - val_mean_absolute_error: 3029.7195\n",
      "Epoch 23/100\n",
      "322545/322545 [==============================] - 16s 48us/step - loss: 18570738.6782 - mean_absolute_error: 3191.6029 - val_loss: 16780748.3218 - val_mean_absolute_error: 3032.7700\n",
      "Epoch 24/100\n",
      "322545/322545 [==============================] - 16s 48us/step - loss: 18535991.4409 - mean_absolute_error: 3188.2169 - val_loss: 16784525.8394 - val_mean_absolute_error: 3031.2835\n",
      "Epoch 25/100\n",
      "322545/322545 [==============================] - 16s 48us/step - loss: 18525539.8308 - mean_absolute_error: 3186.5761 - val_loss: 16739961.8449 - val_mean_absolute_error: 3031.1776\n",
      "Epoch 26/100\n",
      "322545/322545 [==============================] - 16s 49us/step - loss: 18554387.9716 - mean_absolute_error: 3188.6109 - val_loss: 16834954.3505 - val_mean_absolute_error: 3041.2811\n",
      "Epoch 27/100\n",
      "322545/322545 [==============================] - 16s 49us/step - loss: 18566654.4494 - mean_absolute_error: 3189.6986 - val_loss: 16796433.2436 - val_mean_absolute_error: 3039.2762\n",
      "Epoch 28/100\n",
      "322545/322545 [==============================] - 16s 49us/step - loss: 18529891.7900 - mean_absolute_error: 3186.7980 - val_loss: 16759552.4492 - val_mean_absolute_error: 3029.2869\n",
      "Epoch 29/100\n",
      "322545/322545 [==============================] - 16s 48us/step - loss: 18505153.0949 - mean_absolute_error: 3186.8170 - val_loss: 16813079.2771 - val_mean_absolute_error: 3030.1245\n",
      "Epoch 30/100\n",
      "322545/322545 [==============================] - 16s 49us/step - loss: 18518466.9883 - mean_absolute_error: 3187.5282 - val_loss: 16812963.1288 - val_mean_absolute_error: 3033.3077\n",
      "Epoch 31/100\n",
      "322545/322545 [==============================] - 16s 48us/step - loss: 18378147.4917 - mean_absolute_error: 3171.1996 - val_loss: 16533231.9520 - val_mean_absolute_error: 3005.7696\n",
      "Epoch 32/100\n",
      "322545/322545 [==============================] - 16s 49us/step - loss: 18167172.4060 - mean_absolute_error: 3153.6898 - val_loss: 16213187.7632 - val_mean_absolute_error: 2978.7167\n",
      "Epoch 33/100\n",
      "322545/322545 [==============================] - 16s 48us/step - loss: 17946459.8579 - mean_absolute_error: 3137.8258 - val_loss: 15874506.4805 - val_mean_absolute_error: 2938.9531\n",
      "Epoch 34/100\n",
      "322545/322545 [==============================] - 16s 48us/step - loss: 17783803.2776 - mean_absolute_error: 3125.0779 - val_loss: 15683491.3675 - val_mean_absolute_error: 2921.2069\n",
      "Epoch 35/100\n",
      "322545/322545 [==============================] - 16s 48us/step - loss: 17616779.9098 - mean_absolute_error: 3113.9719 - val_loss: 15502668.9700 - val_mean_absolute_error: 2893.6286\n",
      "Epoch 36/100\n",
      "322545/322545 [==============================] - 16s 48us/step - loss: 17585592.7977 - mean_absolute_error: 3108.2459 - val_loss: 15513089.8380 - val_mean_absolute_error: 2888.6343\n",
      "Epoch 37/100\n",
      "322545/322545 [==============================] - 16s 48us/step - loss: 17534647.4955 - mean_absolute_error: 3104.5496 - val_loss: 15409487.1867 - val_mean_absolute_error: 2887.5249\n",
      "Epoch 38/100\n",
      "322545/322545 [==============================] - 16s 49us/step - loss: 17490620.6254 - mean_absolute_error: 3099.3440 - val_loss: 15401576.9644 - val_mean_absolute_error: 2886.7872\n",
      "Epoch 39/100\n",
      "322545/322545 [==============================] - 16s 49us/step - loss: 17454554.6235 - mean_absolute_error: 3097.2906 - val_loss: 15502483.9622 - val_mean_absolute_error: 2879.2503\n",
      "Epoch 40/100\n",
      "322545/322545 [==============================] - 15s 46us/step - loss: 17458107.5666 - mean_absolute_error: 3098.1947 - val_loss: 15519707.7697 - val_mean_absolute_error: 2884.2890\n",
      "Epoch 41/100\n",
      "322545/322545 [==============================] - 15s 45us/step - loss: 17499524.3600 - mean_absolute_error: 3099.0907 - val_loss: 15393582.1790 - val_mean_absolute_error: 2887.1246\n",
      "Epoch 42/100\n",
      "322545/322545 [==============================] - 15s 45us/step - loss: 17410590.5143 - mean_absolute_error: 3093.8385 - val_loss: 15306036.7681 - val_mean_absolute_error: 2875.1206\n",
      "Epoch 43/100\n"
     ]
    },
    {
     "name": "stdout",
     "output_type": "stream",
     "text": [
      "322545/322545 [==============================] - 15s 47us/step - loss: 17397838.1091 - mean_absolute_error: 3090.9754 - val_loss: 15366449.3752 - val_mean_absolute_error: 2875.1069\n",
      "Epoch 44/100\n",
      "322545/322545 [==============================] - 16s 48us/step - loss: 17417077.3239 - mean_absolute_error: 3090.9724 - val_loss: 15294607.2423 - val_mean_absolute_error: 2870.3943\n",
      "Epoch 45/100\n",
      "322545/322545 [==============================] - 15s 48us/step - loss: 17363239.0356 - mean_absolute_error: 3087.8529 - val_loss: 15194857.2383 - val_mean_absolute_error: 2866.0771\n",
      "Epoch 46/100\n",
      "322545/322545 [==============================] - 16s 49us/step - loss: 17295100.9316 - mean_absolute_error: 3076.8718 - val_loss: 15173497.9404 - val_mean_absolute_error: 2859.7022\n",
      "Epoch 47/100\n",
      "322545/322545 [==============================] - 16s 48us/step - loss: 17276851.4955 - mean_absolute_error: 3071.4795 - val_loss: 15084303.6897 - val_mean_absolute_error: 2842.6649\n",
      "Epoch 48/100\n",
      "322545/322545 [==============================] - 16s 48us/step - loss: 17257745.0986 - mean_absolute_error: 3067.0738 - val_loss: 15065826.1124 - val_mean_absolute_error: 2838.9784\n",
      "Epoch 49/100\n",
      "322545/322545 [==============================] - 16s 49us/step - loss: 17223374.8326 - mean_absolute_error: 3063.2690 - val_loss: 15080292.9990 - val_mean_absolute_error: 2841.6334\n",
      "Epoch 50/100\n",
      "322545/322545 [==============================] - 16s 48us/step - loss: 17230500.8625 - mean_absolute_error: 3062.4075 - val_loss: 15070497.7973 - val_mean_absolute_error: 2833.6151\n",
      "Epoch 51/100\n",
      "322545/322545 [==============================] - 16s 49us/step - loss: 17166221.5618 - mean_absolute_error: 3054.4042 - val_loss: 14970755.4082 - val_mean_absolute_error: 2834.4397\n",
      "Epoch 52/100\n",
      "322545/322545 [==============================] - 16s 49us/step - loss: 17130442.9761 - mean_absolute_error: 3052.5799 - val_loss: 14865383.4177 - val_mean_absolute_error: 2819.8662\n",
      "Epoch 53/100\n",
      "322545/322545 [==============================] - 16s 49us/step - loss: 17036735.8177 - mean_absolute_error: 3048.2465 - val_loss: 14785400.5122 - val_mean_absolute_error: 2815.0638\n",
      "Epoch 54/100\n",
      "322545/322545 [==============================] - 16s 48us/step - loss: 17007565.5138 - mean_absolute_error: 3042.8818 - val_loss: 14776925.6115 - val_mean_absolute_error: 2816.6741\n",
      "Epoch 55/100\n",
      "322545/322545 [==============================] - 16s 48us/step - loss: 16967088.8722 - mean_absolute_error: 3037.4821 - val_loss: 14668879.9117 - val_mean_absolute_error: 2810.3831\n",
      "Epoch 56/100\n",
      "322545/322545 [==============================] - 16s 49us/step - loss: 16891480.7018 - mean_absolute_error: 3032.7820 - val_loss: 14595864.0153 - val_mean_absolute_error: 2799.2295\n",
      "Epoch 57/100\n",
      "322545/322545 [==============================] - 16s 48us/step - loss: 16902725.5650 - mean_absolute_error: 3034.4186 - val_loss: 14565585.0553 - val_mean_absolute_error: 2789.9113\n",
      "Epoch 58/100\n",
      "322545/322545 [==============================] - 16s 48us/step - loss: 16849895.0999 - mean_absolute_error: 3029.8433 - val_loss: 14584159.8691 - val_mean_absolute_error: 2784.1168\n",
      "Epoch 59/100\n",
      "322545/322545 [==============================] - 16s 49us/step - loss: 16859216.8749 - mean_absolute_error: 3027.8063 - val_loss: 14590979.5783 - val_mean_absolute_error: 2787.3570\n",
      "Epoch 60/100\n",
      "322545/322545 [==============================] - 16s 48us/step - loss: 16836393.1861 - mean_absolute_error: 3026.2681 - val_loss: 14621330.2790 - val_mean_absolute_error: 2802.5602\n",
      "Epoch 61/100\n",
      "322545/322545 [==============================] - 16s 48us/step - loss: 16869313.8577 - mean_absolute_error: 3028.4324 - val_loss: 14566927.5499 - val_mean_absolute_error: 2791.0505\n",
      "Epoch 62/100\n",
      "322545/322545 [==============================] - 16s 48us/step - loss: 16813469.9502 - mean_absolute_error: 3027.7509 - val_loss: 14527385.5773 - val_mean_absolute_error: 2782.6470\n",
      "Epoch 63/100\n",
      "322545/322545 [==============================] - 16s 48us/step - loss: 16820572.8387 - mean_absolute_error: 3026.2274 - val_loss: 14532133.0097 - val_mean_absolute_error: 2790.0948\n",
      "Epoch 64/100\n",
      "322545/322545 [==============================] - 16s 49us/step - loss: 16814798.4025 - mean_absolute_error: 3028.1924 - val_loss: 14559475.7728 - val_mean_absolute_error: 2791.4388\n",
      "Epoch 65/100\n",
      "322545/322545 [==============================] - 16s 49us/step - loss: 16842033.0696 - mean_absolute_error: 3029.0952 - val_loss: 14571336.9266 - val_mean_absolute_error: 2802.3706\n",
      "Epoch 66/100\n",
      "322545/322545 [==============================] - 16s 50us/step - loss: 16787945.4668 - mean_absolute_error: 3023.8712 - val_loss: 14616226.1441 - val_mean_absolute_error: 2792.7626\n",
      "Epoch 67/100\n",
      "322545/322545 [==============================] - 16s 49us/step - loss: 16789565.8834 - mean_absolute_error: 3022.2640 - val_loss: 14808924.4872 - val_mean_absolute_error: 2804.1351\n",
      "Epoch 68/100\n",
      "322545/322545 [==============================] - 16s 49us/step - loss: 16820886.1796 - mean_absolute_error: 3025.7519 - val_loss: 14560880.0117 - val_mean_absolute_error: 2780.9515\n",
      "Epoch 69/100\n",
      "322545/322545 [==============================] - 16s 48us/step - loss: 16830228.1455 - mean_absolute_error: 3026.8313 - val_loss: 14554637.6097 - val_mean_absolute_error: 2791.6422\n",
      "Epoch 70/100\n",
      "322545/322545 [==============================] - 16s 49us/step - loss: 16808302.8698 - mean_absolute_error: 3026.7133 - val_loss: 14564695.4607 - val_mean_absolute_error: 2789.8300\n",
      "Epoch 71/100\n",
      "322545/322545 [==============================] - 16s 48us/step - loss: 16798891.6862 - mean_absolute_error: 3024.4608 - val_loss: 14510997.4195 - val_mean_absolute_error: 2783.8285\n",
      "Epoch 72/100\n",
      "322545/322545 [==============================] - 16s 50us/step - loss: 16806886.7036 - mean_absolute_error: 3026.1162 - val_loss: 14512183.7215 - val_mean_absolute_error: 2783.5392\n",
      "Epoch 73/100\n",
      "322545/322545 [==============================] - 16s 48us/step - loss: 16774654.2661 - mean_absolute_error: 3025.0231 - val_loss: 14488031.3439 - val_mean_absolute_error: 2793.5009\n",
      "Epoch 74/100\n",
      "322545/322545 [==============================] - 16s 48us/step - loss: 16786535.3113 - mean_absolute_error: 3026.3352 - val_loss: 14486190.7716 - val_mean_absolute_error: 2790.1902\n",
      "Epoch 75/100\n",
      "322545/322545 [==============================] - 16s 48us/step - loss: 16812867.2547 - mean_absolute_error: 3026.6050 - val_loss: 14519667.2042 - val_mean_absolute_error: 2792.2527\n",
      "Epoch 76/100\n",
      "322545/322545 [==============================] - 16s 49us/step - loss: 16768458.5346 - mean_absolute_error: 3024.4719 - val_loss: 14536324.4663 - val_mean_absolute_error: 2786.7467\n",
      "Epoch 77/100\n",
      "322545/322545 [==============================] - 16s 48us/step - loss: 16733354.3913 - mean_absolute_error: 3020.0188 - val_loss: 14546229.7951 - val_mean_absolute_error: 2792.5187\n",
      "Epoch 78/100\n",
      "322545/322545 [==============================] - 16s 49us/step - loss: 16755313.1730 - mean_absolute_error: 3023.0652 - val_loss: 14513058.2426 - val_mean_absolute_error: 2785.5937\n",
      "Epoch 79/100\n",
      "322545/322545 [==============================] - 16s 49us/step - loss: 16807702.4769 - mean_absolute_error: 3023.3210 - val_loss: 14509839.6239 - val_mean_absolute_error: 2784.3669\n",
      "Epoch 80/100\n",
      "322545/322545 [==============================] - 16s 49us/step - loss: 16754216.8423 - mean_absolute_error: 3020.7208 - val_loss: 14476706.7793 - val_mean_absolute_error: 2786.9067\n",
      "Epoch 81/100\n",
      "322545/322545 [==============================] - 16s 49us/step - loss: 16757655.3549 - mean_absolute_error: 3020.9212 - val_loss: 14518467.2437 - val_mean_absolute_error: 2791.8480\n",
      "Epoch 82/100\n",
      "322545/322545 [==============================] - 16s 49us/step - loss: 16760134.9011 - mean_absolute_error: 3021.5192 - val_loss: 14629624.0770 - val_mean_absolute_error: 2795.9230\n",
      "Epoch 83/100\n",
      "322545/322545 [==============================] - 16s 49us/step - loss: 16751707.2816 - mean_absolute_error: 3021.5250 - val_loss: 14510469.7119 - val_mean_absolute_error: 2789.7967\n",
      "Epoch 84/100\n",
      "322545/322545 [==============================] - 16s 50us/step - loss: 16742076.8170 - mean_absolute_error: 3022.1325 - val_loss: 14481238.6713 - val_mean_absolute_error: 2784.3342\n",
      "Epoch 85/100\n",
      "322545/322545 [==============================] - 16s 49us/step - loss: 16751516.4640 - mean_absolute_error: 3022.0097 - val_loss: 14444024.7991 - val_mean_absolute_error: 2796.8002\n",
      "Epoch 86/100\n",
      "322545/322545 [==============================] - 15s 48us/step - loss: 16729828.9518 - mean_absolute_error: 3019.3571 - val_loss: 14539619.0445 - val_mean_absolute_error: 2789.0382\n",
      "Epoch 87/100\n",
      "322545/322545 [==============================] - 15s 48us/step - loss: 16733157.2337 - mean_absolute_error: 3016.5764 - val_loss: 14465668.4451 - val_mean_absolute_error: 2791.0669\n",
      "Epoch 88/100\n",
      "322545/322545 [==============================] - 15s 48us/step - loss: 16728431.1507 - mean_absolute_error: 3018.9252 - val_loss: 14496454.6563 - val_mean_absolute_error: 2786.5911\n",
      "Epoch 89/100\n",
      "322545/322545 [==============================] - 16s 48us/step - loss: 16755684.5978 - mean_absolute_error: 3020.5187 - val_loss: 14489450.0851 - val_mean_absolute_error: 2781.9646\n",
      "Epoch 90/100\n",
      "322545/322545 [==============================] - 16s 48us/step - loss: 16746067.8628 - mean_absolute_error: 3021.5119 - val_loss: 14506474.4286 - val_mean_absolute_error: 2786.7557\n",
      "Epoch 91/100\n",
      "322545/322545 [==============================] - 16s 49us/step - loss: 16689030.9892 - mean_absolute_error: 3011.7102 - val_loss: 14492263.0854 - val_mean_absolute_error: 2792.8597\n",
      "Epoch 92/100\n",
      "322545/322545 [==============================] - 16s 48us/step - loss: 16738377.3759 - mean_absolute_error: 3020.9471 - val_loss: 14539257.5709 - val_mean_absolute_error: 2786.2722\n",
      "Epoch 93/100\n",
      "322545/322545 [==============================] - 16s 49us/step - loss: 16769091.1937 - mean_absolute_error: 3020.7513 - val_loss: 14456859.9558 - val_mean_absolute_error: 2791.9003\n",
      "Epoch 94/100\n",
      "322545/322545 [==============================] - 16s 49us/step - loss: 16713915.0481 - mean_absolute_error: 3017.7012 - val_loss: 14571581.5650 - val_mean_absolute_error: 2789.0222\n",
      "Epoch 95/100\n",
      "322545/322545 [==============================] - 16s 49us/step - loss: 16713628.7824 - mean_absolute_error: 3015.9528 - val_loss: 14503585.4975 - val_mean_absolute_error: 2794.3369\n",
      "Epoch 96/100\n",
      "322545/322545 [==============================] - 16s 48us/step - loss: 16726985.2324 - mean_absolute_error: 3018.6519 - val_loss: 14450331.7303 - val_mean_absolute_error: 2775.5892\n",
      "Epoch 97/100\n",
      "322545/322545 [==============================] - 16s 49us/step - loss: 16695494.9448 - mean_absolute_error: 3014.0870 - val_loss: 14539694.3584 - val_mean_absolute_error: 2784.8782\n",
      "Epoch 98/100\n",
      "322545/322545 [==============================] - 16s 48us/step - loss: 16703739.9396 - mean_absolute_error: 3016.9401 - val_loss: 14594264.8733 - val_mean_absolute_error: 2792.8676\n",
      "Epoch 99/100\n",
      "322545/322545 [==============================] - 16s 48us/step - loss: 16684723.9220 - mean_absolute_error: 3013.5998 - val_loss: 14464863.6884 - val_mean_absolute_error: 2779.1199\n",
      "Epoch 100/100\n",
      "322545/322545 [==============================] - 19s 59us/step - loss: 16720618.2265 - mean_absolute_error: 3016.1035 - val_loss: 14507299.3979 - val_mean_absolute_error: 2790.9210\n"
     ]
    }
   ],
   "source": [
    "history = model.fit(X_train, Y_train, validation_data=(X_valid, Y_valid), nb_epoch=100, batch_size=16)"
   ]
  },
  {
   "cell_type": "code",
   "execution_count": 29,
   "metadata": {},
   "outputs": [
    {
     "name": "stdout",
     "output_type": "stream",
     "text": [
      "107516/107516 [==============================] - 1s 10us/step\n",
      "2790.192095282621\n"
     ]
    }
   ],
   "source": [
    "test_mse_score, test_mae_score = model.evaluate(X_test, Y_test)\n",
    "print(test_mae_score)"
   ]
  }
 ],
 "metadata": {
  "kernelspec": {
   "display_name": "Python 3",
   "language": "python",
   "name": "python3"
  },
  "language_info": {
   "codemirror_mode": {
    "name": "ipython",
    "version": 3
   },
   "file_extension": ".py",
   "mimetype": "text/x-python",
   "name": "python",
   "nbconvert_exporter": "python",
   "pygments_lexer": "ipython3",
   "version": "3.7.1"
  }
 },
 "nbformat": 4,
 "nbformat_minor": 2
}
