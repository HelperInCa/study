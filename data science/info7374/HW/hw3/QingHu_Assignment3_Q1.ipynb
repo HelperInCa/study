{
 "cells": [
  {
   "cell_type": "code",
   "execution_count": 18,
   "metadata": {},
   "outputs": [],
   "source": [
    "'''Import necessary packages'''\n",
    "from keras.models import Sequential\n",
    "from keras.layers import Dense\n",
    "from keras.layers import Dropout\n",
    "from keras.optimizers import Adam\n",
    "from sklearn.model_selection import train_test_split\n",
    "from sklearn import preprocessing\n",
    "import seaborn as sns\n",
    "import numpy as np\n",
    "import pandas as pd\n",
    "from sklearn.metrics import roc_curve,roc_auc_score\n",
    "from matplotlib import pyplot as plt"
   ]
  },
  {
   "cell_type": "code",
   "execution_count": 3,
   "metadata": {},
   "outputs": [
    {
     "data": {
      "text/plain": [
       "'/Users/qing/Desktop/study/data science/HW/hw3'"
      ]
     },
     "execution_count": 3,
     "metadata": {},
     "output_type": "execute_result"
    }
   ],
   "source": [
    "%pwd"
   ]
  },
  {
   "cell_type": "code",
   "execution_count": 4,
   "metadata": {},
   "outputs": [],
   "source": [
    "path = '/Users/qing/Desktop/study/data science/HW/hw3'"
   ]
  },
  {
   "cell_type": "code",
   "execution_count": 5,
   "metadata": {},
   "outputs": [
    {
     "name": "stdout",
     "output_type": "stream",
     "text": [
      "(768, 9)\n"
     ]
    },
    {
     "data": {
      "text/html": [
       "<div>\n",
       "<style scoped>\n",
       "    .dataframe tbody tr th:only-of-type {\n",
       "        vertical-align: middle;\n",
       "    }\n",
       "\n",
       "    .dataframe tbody tr th {\n",
       "        vertical-align: top;\n",
       "    }\n",
       "\n",
       "    .dataframe thead th {\n",
       "        text-align: right;\n",
       "    }\n",
       "</style>\n",
       "<table border=\"1\" class=\"dataframe\">\n",
       "  <thead>\n",
       "    <tr style=\"text-align: right;\">\n",
       "      <th></th>\n",
       "      <th>0</th>\n",
       "      <th>1</th>\n",
       "      <th>2</th>\n",
       "      <th>3</th>\n",
       "      <th>4</th>\n",
       "      <th>5</th>\n",
       "      <th>6</th>\n",
       "      <th>7</th>\n",
       "      <th>8</th>\n",
       "    </tr>\n",
       "  </thead>\n",
       "  <tbody>\n",
       "    <tr>\n",
       "      <th>0</th>\n",
       "      <td>6</td>\n",
       "      <td>148</td>\n",
       "      <td>72</td>\n",
       "      <td>35</td>\n",
       "      <td>0</td>\n",
       "      <td>33.6</td>\n",
       "      <td>0.627</td>\n",
       "      <td>50</td>\n",
       "      <td>1</td>\n",
       "    </tr>\n",
       "    <tr>\n",
       "      <th>1</th>\n",
       "      <td>1</td>\n",
       "      <td>85</td>\n",
       "      <td>66</td>\n",
       "      <td>29</td>\n",
       "      <td>0</td>\n",
       "      <td>26.6</td>\n",
       "      <td>0.351</td>\n",
       "      <td>31</td>\n",
       "      <td>0</td>\n",
       "    </tr>\n",
       "    <tr>\n",
       "      <th>2</th>\n",
       "      <td>8</td>\n",
       "      <td>183</td>\n",
       "      <td>64</td>\n",
       "      <td>0</td>\n",
       "      <td>0</td>\n",
       "      <td>23.3</td>\n",
       "      <td>0.672</td>\n",
       "      <td>32</td>\n",
       "      <td>1</td>\n",
       "    </tr>\n",
       "  </tbody>\n",
       "</table>\n",
       "</div>"
      ],
      "text/plain": [
       "   0    1   2   3  4     5      6   7  8\n",
       "0  6  148  72  35  0  33.6  0.627  50  1\n",
       "1  1   85  66  29  0  26.6  0.351  31  0\n",
       "2  8  183  64   0  0  23.3  0.672  32  1"
      ]
     },
     "execution_count": 5,
     "metadata": {},
     "output_type": "execute_result"
    }
   ],
   "source": [
    "df = pd.read_csv(f'{path}/pima-indians-diabetes.data',header = None)\n",
    "print(df.shape)\n",
    "df.head(3)"
   ]
  },
  {
   "cell_type": "markdown",
   "metadata": {},
   "source": [
    "# Pre-process, split train-test"
   ]
  },
  {
   "cell_type": "code",
   "execution_count": 6,
   "metadata": {},
   "outputs": [],
   "source": [
    "X = df.iloc[:,:8]\n",
    "Y = df.iloc[:,8:]"
   ]
  },
  {
   "cell_type": "code",
   "execution_count": 7,
   "metadata": {},
   "outputs": [
    {
     "name": "stdout",
     "output_type": "stream",
     "text": [
      "[[ 0.63994726  0.84832379  0.14964075  0.90726993 -0.69289057  0.20401277\n",
      "   0.46849198  1.4259954 ]\n",
      " [-0.84488505 -1.12339636 -0.16054575  0.53090156 -0.69289057 -0.68442195\n",
      "  -0.36506078 -0.19067191]\n",
      " [ 1.23388019  1.94372388 -0.26394125 -1.28821221 -0.69289057 -1.10325546\n",
      "   0.60439732 -0.10558415]]\n"
     ]
    }
   ],
   "source": [
    "X = preprocessing.scale(X)\n",
    "print(X[:3])"
   ]
  },
  {
   "cell_type": "code",
   "execution_count": 8,
   "metadata": {},
   "outputs": [
    {
     "name": "stdout",
     "output_type": "stream",
     "text": [
      "(460, 8) (154, 8) (154, 8)\n"
     ]
    }
   ],
   "source": [
    "# Split Train-Test set\n",
    "(X_train_valid, X_test, Y_train_valid, Y_test) = train_test_split(X, Y, test_size=0.2, random_state=1)\n",
    "(X_train, X_valid, Y_train, Y_valid) = train_test_split(X_train_valid, Y_train_valid, test_size=0.25, random_state=1)\n",
    "print(X_train.shape, X_valid.shape, X_test.shape)"
   ]
  },
  {
   "cell_type": "markdown",
   "metadata": {},
   "source": [
    "# Build DNN"
   ]
  },
  {
   "cell_type": "code",
   "execution_count": 9,
   "metadata": {},
   "outputs": [
    {
     "name": "stderr",
     "output_type": "stream",
     "text": [
      "/usr/local/lib/python3.7/site-packages/ipykernel_launcher.py:2: UserWarning: Update your `Dense` call to the Keras 2 API: `Dense(10, input_dim=8, activation=\"relu\", kernel_initializer=\"uniform\")`\n",
      "  \n",
      "/usr/local/lib/python3.7/site-packages/ipykernel_launcher.py:3: UserWarning: Update your `Dense` call to the Keras 2 API: `Dense(8, activation=\"relu\", kernel_initializer=\"normal\")`\n",
      "  This is separate from the ipykernel package so we can avoid doing imports until\n",
      "/usr/local/lib/python3.7/site-packages/ipykernel_launcher.py:5: UserWarning: Update your `Dense` call to the Keras 2 API: `Dense(8, activation=\"relu\", kernel_initializer=\"normal\")`\n",
      "  \"\"\"\n",
      "/usr/local/lib/python3.7/site-packages/ipykernel_launcher.py:7: UserWarning: Update your `Dense` call to the Keras 2 API: `Dense(1, activation=\"sigmoid\", kernel_initializer=\"normal\")`\n",
      "  import sys\n"
     ]
    }
   ],
   "source": [
    "model = Sequential()\n",
    "model.add(Dense(10, input_dim=8, init='uniform', activation='relu'))\n",
    "model.add(Dense(8, init='normal', activation='relu'))\n",
    "model.add(Dropout(0.1))\n",
    "model.add(Dense(8, init='normal', activation='relu'))\n",
    "model.add(Dropout(0.1))\n",
    "model.add(Dense(1, init='normal', activation='sigmoid'))"
   ]
  },
  {
   "cell_type": "code",
   "execution_count": 10,
   "metadata": {},
   "outputs": [],
   "source": [
    "# Compile the DNN\n",
    "adam = Adam(lr=0.001, beta_1=0.1, beta_2=0.999, epsilon=None, decay=0.5, amsgrad=False)\n",
    "model.compile(loss='binary_crossentropy', optimizer='Adam', metrics=['accuracy'])"
   ]
  },
  {
   "cell_type": "code",
   "execution_count": 11,
   "metadata": {},
   "outputs": [
    {
     "name": "stderr",
     "output_type": "stream",
     "text": [
      "/usr/local/lib/python3.7/site-packages/ipykernel_launcher.py:1: UserWarning: The `nb_epoch` argument in `fit` has been renamed `epochs`.\n",
      "  \"\"\"Entry point for launching an IPython kernel.\n"
     ]
    },
    {
     "name": "stdout",
     "output_type": "stream",
     "text": [
      "Train on 460 samples, validate on 154 samples\n",
      "Epoch 1/100\n",
      "460/460 [==============================] - 0s 727us/step - loss: 0.6880 - accuracy: 0.6500 - val_loss: 0.6798 - val_accuracy: 0.6558\n",
      "Epoch 2/100\n",
      "460/460 [==============================] - 0s 250us/step - loss: 0.6518 - accuracy: 0.6522 - val_loss: 0.5934 - val_accuracy: 0.6558\n",
      "Epoch 3/100\n",
      "460/460 [==============================] - 0s 210us/step - loss: 0.5375 - accuracy: 0.7087 - val_loss: 0.5258 - val_accuracy: 0.7338\n",
      "Epoch 4/100\n",
      "460/460 [==============================] - 0s 190us/step - loss: 0.4947 - accuracy: 0.7739 - val_loss: 0.5100 - val_accuracy: 0.7403\n",
      "Epoch 5/100\n",
      "460/460 [==============================] - 0s 195us/step - loss: 0.4881 - accuracy: 0.7717 - val_loss: 0.5052 - val_accuracy: 0.7273\n",
      "Epoch 6/100\n",
      "460/460 [==============================] - 0s 203us/step - loss: 0.4999 - accuracy: 0.7761 - val_loss: 0.5040 - val_accuracy: 0.7403\n",
      "Epoch 7/100\n",
      "460/460 [==============================] - 0s 189us/step - loss: 0.4768 - accuracy: 0.7826 - val_loss: 0.5051 - val_accuracy: 0.7403\n",
      "Epoch 8/100\n",
      "460/460 [==============================] - 0s 191us/step - loss: 0.4718 - accuracy: 0.7783 - val_loss: 0.5034 - val_accuracy: 0.7597\n",
      "Epoch 9/100\n",
      "460/460 [==============================] - 0s 195us/step - loss: 0.4699 - accuracy: 0.7739 - val_loss: 0.5053 - val_accuracy: 0.7597\n",
      "Epoch 10/100\n",
      "460/460 [==============================] - 0s 190us/step - loss: 0.4632 - accuracy: 0.7870 - val_loss: 0.5055 - val_accuracy: 0.7597\n",
      "Epoch 11/100\n",
      "460/460 [==============================] - 0s 191us/step - loss: 0.4584 - accuracy: 0.7630 - val_loss: 0.5019 - val_accuracy: 0.7662\n",
      "Epoch 12/100\n",
      "460/460 [==============================] - 0s 197us/step - loss: 0.4636 - accuracy: 0.7826 - val_loss: 0.5054 - val_accuracy: 0.7468\n",
      "Epoch 13/100\n",
      "460/460 [==============================] - 0s 192us/step - loss: 0.4738 - accuracy: 0.7848 - val_loss: 0.5051 - val_accuracy: 0.7468\n",
      "Epoch 14/100\n",
      "460/460 [==============================] - 0s 191us/step - loss: 0.4712 - accuracy: 0.7761 - val_loss: 0.5049 - val_accuracy: 0.7532\n",
      "Epoch 15/100\n",
      "460/460 [==============================] - 0s 191us/step - loss: 0.4625 - accuracy: 0.7804 - val_loss: 0.5007 - val_accuracy: 0.7597\n",
      "Epoch 16/100\n",
      "460/460 [==============================] - 0s 191us/step - loss: 0.4639 - accuracy: 0.7652 - val_loss: 0.4979 - val_accuracy: 0.7597\n",
      "Epoch 17/100\n",
      "460/460 [==============================] - 0s 193us/step - loss: 0.4614 - accuracy: 0.7804 - val_loss: 0.5014 - val_accuracy: 0.7532\n",
      "Epoch 18/100\n",
      "460/460 [==============================] - 0s 198us/step - loss: 0.4584 - accuracy: 0.7891 - val_loss: 0.5009 - val_accuracy: 0.7468\n",
      "Epoch 19/100\n",
      "460/460 [==============================] - 0s 195us/step - loss: 0.4579 - accuracy: 0.7978 - val_loss: 0.5077 - val_accuracy: 0.7532\n",
      "Epoch 20/100\n",
      "460/460 [==============================] - 0s 193us/step - loss: 0.4594 - accuracy: 0.7891 - val_loss: 0.5069 - val_accuracy: 0.7403\n",
      "Epoch 21/100\n",
      "460/460 [==============================] - 0s 193us/step - loss: 0.4569 - accuracy: 0.7826 - val_loss: 0.5050 - val_accuracy: 0.7403\n",
      "Epoch 22/100\n",
      "460/460 [==============================] - 0s 203us/step - loss: 0.4603 - accuracy: 0.7739 - val_loss: 0.5009 - val_accuracy: 0.7532\n",
      "Epoch 23/100\n",
      "460/460 [==============================] - 0s 218us/step - loss: 0.4492 - accuracy: 0.7783 - val_loss: 0.4985 - val_accuracy: 0.7597\n",
      "Epoch 24/100\n",
      "460/460 [==============================] - 0s 222us/step - loss: 0.4570 - accuracy: 0.7826 - val_loss: 0.5057 - val_accuracy: 0.7468\n",
      "Epoch 25/100\n",
      "460/460 [==============================] - 0s 195us/step - loss: 0.4522 - accuracy: 0.7804 - val_loss: 0.5038 - val_accuracy: 0.7468\n",
      "Epoch 26/100\n",
      "460/460 [==============================] - 0s 206us/step - loss: 0.4569 - accuracy: 0.7913 - val_loss: 0.5087 - val_accuracy: 0.7468\n",
      "Epoch 27/100\n",
      "460/460 [==============================] - 0s 211us/step - loss: 0.4471 - accuracy: 0.7804 - val_loss: 0.5095 - val_accuracy: 0.7468\n",
      "Epoch 28/100\n",
      "460/460 [==============================] - 0s 200us/step - loss: 0.4538 - accuracy: 0.7848 - val_loss: 0.5066 - val_accuracy: 0.7468\n",
      "Epoch 29/100\n",
      "460/460 [==============================] - 0s 198us/step - loss: 0.4563 - accuracy: 0.7826 - val_loss: 0.5035 - val_accuracy: 0.7468\n",
      "Epoch 30/100\n",
      "460/460 [==============================] - 0s 193us/step - loss: 0.4534 - accuracy: 0.7826 - val_loss: 0.5030 - val_accuracy: 0.7532\n",
      "Epoch 31/100\n",
      "460/460 [==============================] - 0s 192us/step - loss: 0.4562 - accuracy: 0.7848 - val_loss: 0.5042 - val_accuracy: 0.7532\n",
      "Epoch 32/100\n",
      "460/460 [==============================] - 0s 195us/step - loss: 0.4590 - accuracy: 0.7870 - val_loss: 0.5025 - val_accuracy: 0.7532\n",
      "Epoch 33/100\n",
      "460/460 [==============================] - 0s 195us/step - loss: 0.4463 - accuracy: 0.7913 - val_loss: 0.5107 - val_accuracy: 0.7403\n",
      "Epoch 34/100\n",
      "460/460 [==============================] - 0s 194us/step - loss: 0.4570 - accuracy: 0.7761 - val_loss: 0.5095 - val_accuracy: 0.7403\n",
      "Epoch 35/100\n",
      "460/460 [==============================] - 0s 188us/step - loss: 0.4501 - accuracy: 0.7870 - val_loss: 0.5089 - val_accuracy: 0.7338\n",
      "Epoch 36/100\n",
      "460/460 [==============================] - 0s 198us/step - loss: 0.4404 - accuracy: 0.7913 - val_loss: 0.5102 - val_accuracy: 0.7403\n",
      "Epoch 37/100\n",
      "460/460 [==============================] - 0s 191us/step - loss: 0.4378 - accuracy: 0.7848 - val_loss: 0.5111 - val_accuracy: 0.7338\n",
      "Epoch 38/100\n",
      "460/460 [==============================] - 0s 191us/step - loss: 0.4443 - accuracy: 0.7935 - val_loss: 0.5100 - val_accuracy: 0.7532\n",
      "Epoch 39/100\n",
      "460/460 [==============================] - 0s 193us/step - loss: 0.4552 - accuracy: 0.7848 - val_loss: 0.5097 - val_accuracy: 0.7403\n",
      "Epoch 40/100\n",
      "460/460 [==============================] - 0s 191us/step - loss: 0.4488 - accuracy: 0.7891 - val_loss: 0.5048 - val_accuracy: 0.7468\n",
      "Epoch 41/100\n",
      "460/460 [==============================] - 0s 193us/step - loss: 0.4488 - accuracy: 0.7826 - val_loss: 0.5097 - val_accuracy: 0.7403\n",
      "Epoch 42/100\n",
      "460/460 [==============================] - 0s 201us/step - loss: 0.4305 - accuracy: 0.7804 - val_loss: 0.5133 - val_accuracy: 0.7338\n",
      "Epoch 43/100\n",
      "460/460 [==============================] - 0s 196us/step - loss: 0.4502 - accuracy: 0.7826 - val_loss: 0.5082 - val_accuracy: 0.7403\n",
      "Epoch 44/100\n",
      "460/460 [==============================] - 0s 190us/step - loss: 0.4303 - accuracy: 0.7913 - val_loss: 0.5096 - val_accuracy: 0.7403\n",
      "Epoch 45/100\n",
      "460/460 [==============================] - 0s 196us/step - loss: 0.4401 - accuracy: 0.8000 - val_loss: 0.5158 - val_accuracy: 0.7338\n",
      "Epoch 46/100\n",
      "460/460 [==============================] - 0s 188us/step - loss: 0.4475 - accuracy: 0.7913 - val_loss: 0.5109 - val_accuracy: 0.7338\n",
      "Epoch 47/100\n",
      "460/460 [==============================] - 0s 192us/step - loss: 0.4409 - accuracy: 0.7913 - val_loss: 0.5118 - val_accuracy: 0.7403\n",
      "Epoch 48/100\n",
      "460/460 [==============================] - 0s 188us/step - loss: 0.4390 - accuracy: 0.7870 - val_loss: 0.5142 - val_accuracy: 0.7338\n",
      "Epoch 49/100\n",
      "460/460 [==============================] - 0s 193us/step - loss: 0.4433 - accuracy: 0.7978 - val_loss: 0.5106 - val_accuracy: 0.7403\n",
      "Epoch 50/100\n",
      "460/460 [==============================] - 0s 191us/step - loss: 0.4475 - accuracy: 0.7891 - val_loss: 0.5054 - val_accuracy: 0.7597\n",
      "Epoch 51/100\n",
      "460/460 [==============================] - 0s 189us/step - loss: 0.4262 - accuracy: 0.7935 - val_loss: 0.5081 - val_accuracy: 0.7468\n",
      "Epoch 52/100\n",
      "460/460 [==============================] - 0s 194us/step - loss: 0.4333 - accuracy: 0.7957 - val_loss: 0.5064 - val_accuracy: 0.7662\n",
      "Epoch 53/100\n",
      "460/460 [==============================] - 0s 191us/step - loss: 0.4398 - accuracy: 0.7891 - val_loss: 0.5088 - val_accuracy: 0.7468\n",
      "Epoch 54/100\n",
      "460/460 [==============================] - 0s 193us/step - loss: 0.4362 - accuracy: 0.8000 - val_loss: 0.5092 - val_accuracy: 0.7403\n",
      "Epoch 55/100\n",
      "460/460 [==============================] - 0s 189us/step - loss: 0.4206 - accuracy: 0.8000 - val_loss: 0.5132 - val_accuracy: 0.7338\n",
      "Epoch 56/100\n",
      "460/460 [==============================] - 0s 187us/step - loss: 0.4379 - accuracy: 0.7978 - val_loss: 0.5124 - val_accuracy: 0.7403\n"
     ]
    },
    {
     "name": "stdout",
     "output_type": "stream",
     "text": [
      "Epoch 57/100\n",
      "460/460 [==============================] - 0s 187us/step - loss: 0.4423 - accuracy: 0.7957 - val_loss: 0.5087 - val_accuracy: 0.7468\n",
      "Epoch 58/100\n",
      "460/460 [==============================] - 0s 188us/step - loss: 0.4433 - accuracy: 0.7826 - val_loss: 0.5106 - val_accuracy: 0.7403\n",
      "Epoch 59/100\n",
      "460/460 [==============================] - 0s 188us/step - loss: 0.4469 - accuracy: 0.8043 - val_loss: 0.5092 - val_accuracy: 0.7403\n",
      "Epoch 60/100\n",
      "460/460 [==============================] - 0s 187us/step - loss: 0.4336 - accuracy: 0.7848 - val_loss: 0.5036 - val_accuracy: 0.7532\n",
      "Epoch 61/100\n",
      "460/460 [==============================] - 0s 191us/step - loss: 0.4407 - accuracy: 0.7978 - val_loss: 0.5075 - val_accuracy: 0.7532\n",
      "Epoch 62/100\n",
      "460/460 [==============================] - 0s 191us/step - loss: 0.4388 - accuracy: 0.7848 - val_loss: 0.5090 - val_accuracy: 0.7403\n",
      "Epoch 63/100\n",
      "460/460 [==============================] - 0s 196us/step - loss: 0.4328 - accuracy: 0.7891 - val_loss: 0.5110 - val_accuracy: 0.7403\n",
      "Epoch 64/100\n",
      "460/460 [==============================] - 0s 187us/step - loss: 0.4416 - accuracy: 0.7913 - val_loss: 0.5092 - val_accuracy: 0.7468\n",
      "Epoch 65/100\n",
      "460/460 [==============================] - 0s 191us/step - loss: 0.4359 - accuracy: 0.8000 - val_loss: 0.5098 - val_accuracy: 0.7468\n",
      "Epoch 66/100\n",
      "460/460 [==============================] - 0s 193us/step - loss: 0.4399 - accuracy: 0.8022 - val_loss: 0.5073 - val_accuracy: 0.7468\n",
      "Epoch 67/100\n",
      "460/460 [==============================] - 0s 194us/step - loss: 0.4361 - accuracy: 0.8043 - val_loss: 0.5115 - val_accuracy: 0.7403\n",
      "Epoch 68/100\n",
      "460/460 [==============================] - 0s 194us/step - loss: 0.4370 - accuracy: 0.7826 - val_loss: 0.5115 - val_accuracy: 0.7532\n",
      "Epoch 69/100\n",
      "460/460 [==============================] - 0s 195us/step - loss: 0.4381 - accuracy: 0.7761 - val_loss: 0.5080 - val_accuracy: 0.7532\n",
      "Epoch 70/100\n",
      "460/460 [==============================] - 0s 192us/step - loss: 0.4278 - accuracy: 0.7891 - val_loss: 0.5081 - val_accuracy: 0.7597\n",
      "Epoch 71/100\n",
      "460/460 [==============================] - 0s 187us/step - loss: 0.4350 - accuracy: 0.7978 - val_loss: 0.5120 - val_accuracy: 0.7403\n",
      "Epoch 72/100\n",
      "460/460 [==============================] - 0s 188us/step - loss: 0.4316 - accuracy: 0.7891 - val_loss: 0.5194 - val_accuracy: 0.7468\n",
      "Epoch 73/100\n",
      "460/460 [==============================] - 0s 187us/step - loss: 0.4381 - accuracy: 0.7891 - val_loss: 0.5114 - val_accuracy: 0.7468\n",
      "Epoch 74/100\n",
      "460/460 [==============================] - 0s 187us/step - loss: 0.4277 - accuracy: 0.8043 - val_loss: 0.5128 - val_accuracy: 0.7468\n",
      "Epoch 75/100\n",
      "460/460 [==============================] - 0s 188us/step - loss: 0.4407 - accuracy: 0.7935 - val_loss: 0.5092 - val_accuracy: 0.7468\n",
      "Epoch 76/100\n",
      "460/460 [==============================] - 0s 187us/step - loss: 0.4316 - accuracy: 0.8022 - val_loss: 0.5119 - val_accuracy: 0.7468\n",
      "Epoch 77/100\n",
      "460/460 [==============================] - 0s 186us/step - loss: 0.4239 - accuracy: 0.8065 - val_loss: 0.5114 - val_accuracy: 0.7532\n",
      "Epoch 78/100\n",
      "460/460 [==============================] - 0s 189us/step - loss: 0.4517 - accuracy: 0.7957 - val_loss: 0.5133 - val_accuracy: 0.7403\n",
      "Epoch 79/100\n",
      "460/460 [==============================] - 0s 188us/step - loss: 0.4358 - accuracy: 0.8065 - val_loss: 0.5137 - val_accuracy: 0.7403\n",
      "Epoch 80/100\n",
      "460/460 [==============================] - 0s 190us/step - loss: 0.4279 - accuracy: 0.7957 - val_loss: 0.5134 - val_accuracy: 0.7468\n",
      "Epoch 81/100\n",
      "460/460 [==============================] - 0s 204us/step - loss: 0.4271 - accuracy: 0.8109 - val_loss: 0.5111 - val_accuracy: 0.7532\n",
      "Epoch 82/100\n",
      "460/460 [==============================] - 0s 184us/step - loss: 0.4349 - accuracy: 0.8109 - val_loss: 0.5131 - val_accuracy: 0.7532\n",
      "Epoch 83/100\n",
      "460/460 [==============================] - 0s 183us/step - loss: 0.4406 - accuracy: 0.7978 - val_loss: 0.5114 - val_accuracy: 0.7532\n",
      "Epoch 84/100\n",
      "460/460 [==============================] - 0s 189us/step - loss: 0.4325 - accuracy: 0.8000 - val_loss: 0.5156 - val_accuracy: 0.7338\n",
      "Epoch 85/100\n",
      "460/460 [==============================] - 0s 222us/step - loss: 0.4419 - accuracy: 0.7935 - val_loss: 0.5105 - val_accuracy: 0.7338\n",
      "Epoch 86/100\n",
      "460/460 [==============================] - 0s 206us/step - loss: 0.4257 - accuracy: 0.7978 - val_loss: 0.5112 - val_accuracy: 0.7532\n",
      "Epoch 87/100\n",
      "460/460 [==============================] - 0s 197us/step - loss: 0.4171 - accuracy: 0.8196 - val_loss: 0.5106 - val_accuracy: 0.7468\n",
      "Epoch 88/100\n",
      "460/460 [==============================] - 0s 203us/step - loss: 0.4286 - accuracy: 0.8087 - val_loss: 0.5133 - val_accuracy: 0.7273\n",
      "Epoch 89/100\n",
      "460/460 [==============================] - 0s 191us/step - loss: 0.4171 - accuracy: 0.8130 - val_loss: 0.5159 - val_accuracy: 0.7273\n",
      "Epoch 90/100\n",
      "460/460 [==============================] - 0s 210us/step - loss: 0.4370 - accuracy: 0.7935 - val_loss: 0.5135 - val_accuracy: 0.7338\n",
      "Epoch 91/100\n",
      "460/460 [==============================] - 0s 242us/step - loss: 0.4278 - accuracy: 0.8065 - val_loss: 0.5113 - val_accuracy: 0.7468\n",
      "Epoch 92/100\n",
      "460/460 [==============================] - 0s 220us/step - loss: 0.4273 - accuracy: 0.8065 - val_loss: 0.5125 - val_accuracy: 0.7468\n",
      "Epoch 93/100\n",
      "460/460 [==============================] - 0s 196us/step - loss: 0.4267 - accuracy: 0.8087 - val_loss: 0.5112 - val_accuracy: 0.7532\n",
      "Epoch 94/100\n",
      "460/460 [==============================] - 0s 185us/step - loss: 0.4347 - accuracy: 0.8022 - val_loss: 0.5117 - val_accuracy: 0.7532\n",
      "Epoch 95/100\n",
      "460/460 [==============================] - 0s 194us/step - loss: 0.4235 - accuracy: 0.7870 - val_loss: 0.5180 - val_accuracy: 0.7338\n",
      "Epoch 96/100\n",
      "460/460 [==============================] - 0s 195us/step - loss: 0.4224 - accuracy: 0.8043 - val_loss: 0.5159 - val_accuracy: 0.7403\n",
      "Epoch 97/100\n",
      "460/460 [==============================] - 0s 184us/step - loss: 0.4374 - accuracy: 0.7913 - val_loss: 0.5180 - val_accuracy: 0.7468\n",
      "Epoch 98/100\n",
      "460/460 [==============================] - 0s 186us/step - loss: 0.4153 - accuracy: 0.8065 - val_loss: 0.5239 - val_accuracy: 0.7273\n",
      "Epoch 99/100\n",
      "460/460 [==============================] - 0s 188us/step - loss: 0.4200 - accuracy: 0.8022 - val_loss: 0.5198 - val_accuracy: 0.7468\n",
      "Epoch 100/100\n",
      "460/460 [==============================] - 0s 190us/step - loss: 0.4201 - accuracy: 0.8022 - val_loss: 0.5201 - val_accuracy: 0.7532\n"
     ]
    }
   ],
   "source": [
    "history = model.fit(X_train, Y_train, validation_data=(X_valid, Y_valid), nb_epoch=100, batch_size=5)"
   ]
  },
  {
   "cell_type": "code",
   "execution_count": 273,
   "metadata": {},
   "outputs": [
    {
     "data": {
      "image/png": "[encoded data removed]",
      "text/plain": [
       "<Figure size 432x288 with 1 Axes>"
      ]
     },
     "metadata": {
      "needs_background": "light"
     },
     "output_type": "display_data"
    },
    {
     "data": {
      "image/png": "[encoded data removed]",
      "text/plain": [
       "<Figure size 432x288 with 1 Axes>"
      ]
     },
     "metadata": {
      "needs_background": "light"
     },
     "output_type": "display_data"
    }
   ],
   "source": [
    "import matplotlib.pyplot as plt\n",
    "\n",
    "loss = history.history['loss']\n",
    "val_loss = history.history['val_loss']\n",
    "\n",
    "acc = history.history['acc']\n",
    "val_acc = history.history['val_acc']\n",
    "\n",
    "epochs = range(1, len(loss) + 1)\n",
    "\n",
    "plt.plot(epochs, acc, 'b', label = 'Training acc')\n",
    "plt.plot(epochs, val_acc, 'ro', label = 'Validation acc')\n",
    "plt.title('Training and validation accuracy')\n",
    "plt.legend()\n",
    "\n",
    "plt.figure()\n",
    "\n",
    "plt.plot(epochs, loss, 'b', label = 'Training loss')\n",
    "plt.plot(epochs, val_loss, 'ro', label = 'Validation loss')\n",
    "plt.title('Training and validation loss')\n",
    "plt.xlabel('Epochs')\n",
    "plt.ylabel('Loss')\n",
    "plt.legend()\n",
    "\n",
    "plt.show()"
   ]
  },
  {
   "cell_type": "markdown",
   "metadata": {},
   "source": [
    "# ROC, AUC"
   ]
  },
  {
   "cell_type": "code",
   "execution_count": 13,
   "metadata": {},
   "outputs": [
    {
     "name": "stdout",
     "output_type": "stream",
     "text": [
      "154/154 [==============================] - 0s 26us/step\n",
      "Accuracy: 80.52%\n"
     ]
    }
   ],
   "source": [
    "scores = model.evaluate(X_test, Y_test)\n",
    "print (\"Accuracy: %.2f%%\" %(scores[1]*100))"
   ]
  },
  {
   "cell_type": "code",
   "execution_count": 14,
   "metadata": {},
   "outputs": [],
   "source": [
    "Y_test_predict = model.predict_classes(X_test)\n",
    "fpnum, tpnum, thresholds = roc_curve(Y_test,Y_test_predict)"
   ]
  },
  {
   "cell_type": "code",
   "execution_count": 19,
   "metadata": {},
   "outputs": [
    {
     "data": {
      "image/png": "[encoded data removed]",
      "text/plain": [
       "<Figure size 432x288 with 1 Axes>"
      ]
     },
     "metadata": {
      "needs_background": "light"
     },
     "output_type": "display_data"
    }
   ],
   "source": [
    "plt.plot([0,1],[0,1],'k--')\n",
    "plt.plot(fpnum,tpnum, label='CNN')\n",
    "plt.xlabel('Fall out')\n",
    "plt.ylabel('Recall/Sensitivity')\n",
    "plt.show()"
   ]
  },
  {
   "cell_type": "code",
   "execution_count": 16,
   "metadata": {},
   "outputs": [
    {
     "data": {
      "text/plain": [
       "0.7797979797979798"
      ]
     },
     "execution_count": 16,
     "metadata": {},
     "output_type": "execute_result"
    }
   ],
   "source": [
    "roc_auc_score(Y_test,Y_test_predict)"
   ]
  },
  {
   "cell_type": "code",
   "execution_count": null,
   "metadata": {},
   "outputs": [],
   "source": []
  }
 ],
 "metadata": {
  "kernelspec": {
   "display_name": "Python 3",
   "language": "python",
   "name": "python3"
  },
  "language_info": {
   "codemirror_mode": {
    "name": "ipython",
    "version": 3
   },
   "file_extension": ".py",
   "mimetype": "text/x-python",
   "name": "python",
   "nbconvert_exporter": "python",
   "pygments_lexer": "ipython3",
   "version": "3.7.1"
  }
 },
 "nbformat": 4,
 "nbformat_minor": 2
}
