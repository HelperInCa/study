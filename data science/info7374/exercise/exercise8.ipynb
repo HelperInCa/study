{
  "nbformat": 4,
  "nbformat_minor": 0,
  "metadata": {
    "colab": {
      "name": "exercise8.ipynb",
      "provenance": []
    },
    "kernelspec": {
      "name": "python3",
      "display_name": "Python 3"
    }
  },
  "cells": [
    {
      "cell_type": "markdown",
      "metadata": {
        "id": "u6yzBbgzoTq1",
        "colab_type": "text"
      },
      "source": [
        "# 2D dataset for LSTM"
      ]
    },
    {
      "cell_type": "code",
      "metadata": {
        "id": "lYO2WBOlny4F",
        "colab_type": "code",
        "outputId": "df71e2f7-a9a5-404d-a4e3-dd14beb83ce3",
        "colab": {
          "base_uri": "https://localhost:8080/",
          "height": 272
        }
      },
      "source": [
        "from pandas import read_csv\n",
        "from datetime import datetime\n",
        "# load data\n",
        "def parse(x):\n",
        "\treturn datetime.strptime(x, '%Y %m %d %H')\n",
        "dataset = read_csv('/content/drive/My Drive/Colab Notebooks/7/raw.csv',  parse_dates = [['year', 'month', 'day', 'hour']], index_col=0, date_parser=parse)\n",
        "dataset.drop('No', axis=1, inplace=True)\n",
        "# manually specify column names\n",
        "dataset.columns = ['pollution', 'dew', 'temp', 'press', 'wnd_dir', 'wnd_spd', 'snow', 'rain']\n",
        "dataset.index.name = 'date'\n",
        "# mark all NA values with 0\n",
        "dataset['pollution'].fillna(0, inplace=True)\n",
        "# drop the first 24 hours cause the pollution has not been detected\n",
        "dataset = dataset[24:]\n",
        "# summarize first 100 rows(one subsequence)\n",
        "print(dataset.head(100))"
      ],
      "execution_count": 1,
      "outputs": [
        {
          "output_type": "stream",
          "text": [
            "                     pollution  dew  temp   press wnd_dir  wnd_spd  snow  rain\n",
            "date                                                                          \n",
            "2010-01-02 00:00:00      129.0  -16  -4.0  1020.0      SE     1.79     0     0\n",
            "2010-01-02 01:00:00      148.0  -15  -4.0  1020.0      SE     2.68     0     0\n",
            "2010-01-02 02:00:00      159.0  -11  -5.0  1021.0      SE     3.57     0     0\n",
            "2010-01-02 03:00:00      181.0   -7  -5.0  1022.0      SE     5.36     1     0\n",
            "2010-01-02 04:00:00      138.0   -7  -5.0  1022.0      SE     6.25     2     0\n",
            "...                        ...  ...   ...     ...     ...      ...   ...   ...\n",
            "2010-01-05 23:00:00       50.0  -22 -16.0  1033.0      NW    23.70     0     0\n",
            "2010-01-06 00:00:00       56.0  -25 -17.0  1033.0      NW    26.83     0     0\n",
            "2010-01-06 01:00:00       77.0  -25 -14.0  1033.0      NE     4.02     0     0\n",
            "2010-01-06 02:00:00       50.0  -26 -14.0  1034.0      NE     8.04     0     0\n",
            "2010-01-06 03:00:00       44.0  -26 -14.0  1033.0      NE    13.85     0     0\n",
            "\n",
            "[100 rows x 8 columns]\n"
          ],
          "name": "stdout"
        }
      ]
    },
    {
      "cell_type": "markdown",
      "metadata": {
        "id": "RI0p7qlOo2XA",
        "colab_type": "text"
      },
      "source": [
        "# 3D for CNN"
      ]
    },
    {
      "cell_type": "code",
      "metadata": {
        "id": "a1QbYKgso4os",
        "colab_type": "code",
        "outputId": "d11395ec-129e-49d3-c7ea-b76889cb7e0f",
        "colab": {
          "base_uri": "https://localhost:8080/",
          "height": 34
        }
      },
      "source": [
        "from numpy import array\n",
        "data = array(dataset)\n",
        "print(data.shape)"
      ],
      "execution_count": 2,
      "outputs": [
        {
          "output_type": "stream",
          "text": [
            "(43800, 8)\n"
          ],
          "name": "stdout"
        }
      ]
    },
    {
      "cell_type": "code",
      "metadata": {
        "id": "l3CMwDhltCMU",
        "colab_type": "code",
        "colab": {
          "base_uri": "https://localhost:8080/",
          "height": 34
        },
        "outputId": "b7a170c7-50ed-4c6d-9ae2-6fd5e8eb1656"
      },
      "source": [
        "# split into samples (e.g. 43800/100 = 438)\n",
        "samples = list()\n",
        "length = 100\n",
        "# step over the 438,000 in jumps of 100\n",
        "for i in range(0,43800,length):\n",
        " # grab from i to i + 100\n",
        " sample = data[i:i+length]\n",
        " samples.append(sample)\n",
        "# convert list of arrays into 2d array\n",
        "data = array(samples)\n",
        "print(data.shape)"
      ],
      "execution_count": 3,
      "outputs": [
        {
          "output_type": "stream",
          "text": [
            "(438, 100, 8)\n"
          ],
          "name": "stdout"
        }
      ]
    }
  ]
}