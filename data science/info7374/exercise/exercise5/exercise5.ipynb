{
  "nbformat": 4,
  "nbformat_minor": 0,
  "metadata": {
    "kernelspec": {
      "display_name": "Python 3",
      "language": "python",
      "name": "python3"
    },
    "language_info": {
      "codemirror_mode": {
        "name": "ipython",
        "version": 3
      },
      "file_extension": ".py",
      "mimetype": "text/x-python",
      "name": "python",
      "nbconvert_exporter": "python",
      "pygments_lexer": "ipython3",
      "version": "3.7.4"
    },
    "colab": {
      "name": "exercise5.ipynb",
      "provenance": [],
      "collapsed_sections": []
    }
  },
  "cells": [
    {
      "cell_type": "code",
      "metadata": {
        "id": "Lu2j26IyDk87",
        "colab_type": "code",
        "outputId": "f0326f10-045e-4672-a769-5044d74feb10",
        "colab": {
          "base_uri": "https://localhost:8080/",
          "height": 55
        }
      },
      "source": [
        "from google.colab import drive\n",
        "drive.mount('/content/gdrive/')"
      ],
      "execution_count": 1,
      "outputs": [
        {
          "output_type": "stream",
          "text": [
            "Drive already mounted at /content/gdrive/; to attempt to forcibly remount, call drive.mount(\"/content/gdrive/\", force_remount=True).\n"
          ],
          "name": "stdout"
        }
      ]
    },
    {
      "cell_type": "code",
      "metadata": {
        "id": "Zka1XdHHDifO",
        "colab_type": "code",
        "outputId": "8489338f-7374-4e12-e596-38e842920aab",
        "colab": {
          "base_uri": "https://localhost:8080/",
          "height": 81
        }
      },
      "source": [
        "import numpy as np\n",
        "import tensorflow as tf\n",
        "import pickle\n",
        "def unpickle(file):\n",
        "    import pickle\n",
        "    with open(file, 'rb') as fo:\n",
        "        dict = pickle.load(fo, encoding='latin1')\n",
        "    return dict"
      ],
      "execution_count": 2,
      "outputs": [
        {
          "output_type": "display_data",
          "data": {
            "text/html": [
              "<p style=\"color: red;\">\n",
              "The default version of TensorFlow in Colab will soon switch to TensorFlow 2.x.<br>\n",
              "We recommend you <a href=\"https://www.tensorflow.org/guide/migrate\" target=\"_blank\">upgrade</a> now \n",
              "or ensure your notebook will continue to use TensorFlow 1.x via the <code>%tensorflow_version 1.x</code> magic:\n",
              "<a href=\"https://colab.research.google.com/notebooks/tensorflow_version.ipynb\" target=\"_blank\">more info</a>.</p>\n"
            ],
            "text/plain": [
              "<IPython.core.display.HTML object>"
            ]
          },
          "metadata": {
            "tags": []
          }
        }
      ]
    },
    {
      "cell_type": "code",
      "metadata": {
        "id": "7zD2rVVIDifU",
        "colab_type": "code",
        "colab": {}
      },
      "source": [
        "def grayscale(im):\n",
        "    return im.reshape(im.shape[0], 3, 32, 32).mean(1).reshape(im.shape[0], -1)"
      ],
      "execution_count": 0,
      "outputs": []
    },
    {
      "cell_type": "code",
      "metadata": {
        "id": "-xqZNY8mDifX",
        "colab_type": "code",
        "outputId": "1ac445e3-e08d-44de-a779-4ffd6daea3ac",
        "colab": {
          "base_uri": "https://localhost:8080/",
          "height": 35
        }
      },
      "source": [
        "# Load the data into memory\n",
        "data, labels = [], []\n",
        "## Loop over the b\n",
        "for i in range(1, 6):\n",
        "    filename = 'gdrive/My Drive/Colab Notebooks/cifar-10-batches-py/data_batch_' + str(i)\n",
        "    open_data = unpickle(filename)\n",
        "    if len(data) > 0:\n",
        "        data = np.vstack((data, open_data['data']))\n",
        "        labels = np.hstack((labels, open_data['labels']))\n",
        "    else:\n",
        "        data = open_data['data']\n",
        "        labels = open_data['labels']\n",
        "\n",
        "data = grayscale(data)\n",
        "x = np.matrix(data)\n",
        "y = np.array(labels)\n",
        "print(x.shape)"
      ],
      "execution_count": 4,
      "outputs": [
        {
          "output_type": "stream",
          "text": [
            "(50000, 1024)\n"
          ],
          "name": "stdout"
        }
      ]
    },
    {
      "cell_type": "code",
      "metadata": {
        "id": "GiUStmIRDifa",
        "colab_type": "code",
        "outputId": "26607eba-9a22-4b5c-bb17-b1ef00478827",
        "colab": {
          "base_uri": "https://localhost:8080/",
          "height": 35
        }
      },
      "source": [
        "horse_i = np.where(y == 7)[0]\n",
        "horse_x = x[horse_i]\n",
        "print(np.shape(horse_x)) "
      ],
      "execution_count": 5,
      "outputs": [
        {
          "output_type": "stream",
          "text": [
            "(5000, 1024)\n"
          ],
          "name": "stdout"
        }
      ]
    },
    {
      "cell_type": "code",
      "metadata": {
        "id": "v9UEoQB7Difd",
        "colab_type": "code",
        "colab": {}
      },
      "source": [
        "# To plot pretty figures\n",
        "%matplotlib inline\n",
        "import matplotlib\n",
        "import matplotlib.pyplot as plt\n",
        "def plot_image(image, shape=[32, 32], cmap = \"Greys_r\"):\n",
        "    plt.imshow(image.reshape(shape), cmap=cmap,interpolation=\"nearest\")\n",
        "    plt.axis(\"off\")  "
      ],
      "execution_count": 0,
      "outputs": []
    },
    {
      "cell_type": "code",
      "metadata": {
        "id": "DdN0d6qrDifg",
        "colab_type": "code",
        "outputId": "e4499303-904e-4618-95bb-eab144816509",
        "colab": {
          "base_uri": "https://localhost:8080/",
          "height": 248
        }
      },
      "source": [
        "plot_image(horse_x[1], shape=[32, 32], cmap = \"Greys_r\")"
      ],
      "execution_count": 7,
      "outputs": [
        {
          "output_type": "display_data",
          "data": {
            "image/png": "[encoded data removed]",
            "text/plain": [
              "<Figure size 432x288 with 1 Axes>"
            ]
          },
          "metadata": {
            "tags": []
          }
        }
      ]
    },
    {
      "cell_type": "code",
      "metadata": {
        "id": "WQY0HCziDifj",
        "colab_type": "code",
        "outputId": "cd3bd212-59d4-415b-f761-2746d86671a9",
        "colab": {
          "base_uri": "https://localhost:8080/",
          "height": 339
        }
      },
      "source": [
        "## Parameters\n",
        "n_inputs = 32 * 32\n",
        "BATCH_SIZE = 1\n",
        "batch_size = tf.placeholder(tf.int64)\n",
        "\n",
        "# using a placeholder\n",
        "x = tf.placeholder(tf.float32, shape=[None,n_inputs])\n",
        "## Dataset\n",
        "dataset = tf.data.Dataset.from_tensor_slices(x).repeat().batch(batch_size)\n",
        "iter = dataset.make_initializable_iterator() # create the iterator\n",
        "features = iter.get_next()\n",
        "\n",
        "## Print the image\n",
        "with tf.Session() as sess:\n",
        "    # feed the placeholder with data\n",
        "    sess.run(iter.initializer, feed_dict={x: horse_x,\n",
        "                                         batch_size: BATCH_SIZE}) \n",
        "    print(sess.run(features).shape) \n",
        "    plot_image(sess.run(features), shape=[32, 32], cmap = \"Greys_r\")"
      ],
      "execution_count": 8,
      "outputs": [
        {
          "output_type": "stream",
          "text": [
            "WARNING:tensorflow:From <ipython-input-8-b174dfc53354>:9: DatasetV1.make_initializable_iterator (from tensorflow.python.data.ops.dataset_ops) is deprecated and will be removed in a future version.\n",
            "Instructions for updating:\n",
            "Use `for ... in dataset:` to iterate over a dataset. If using `tf.estimator`, return the `Dataset` object directly from your input function. As a last resort, you can use `tf.compat.v1.data.make_initializable_iterator(dataset)`.\n",
            "(1, 1024)\n"
          ],
          "name": "stdout"
        },
        {
          "output_type": "display_data",
          "data": {
            "image/png": "[encoded data removed]",
            "text/plain": [
              "<Figure size 432x288 with 1 Axes>"
            ]
          },
          "metadata": {
            "tags": []
          }
        }
      ]
    },
    {
      "cell_type": "code",
      "metadata": {
        "id": "UCz_ZcVyDifm",
        "colab_type": "code",
        "colab": {}
      },
      "source": [
        "from functools import partial\n",
        "\n",
        "## Encoder\n",
        "n_hidden_1 = 200\n",
        "n_hidden_2 = 100  # codings\n",
        "\n",
        "## Decoder\n",
        "n_hidden_3 = n_hidden_1\n",
        "n_outputs = n_inputs\n",
        "\n",
        "learning_rate = 0.01\n",
        "l2_reg = 0.0001"
      ],
      "execution_count": 0,
      "outputs": []
    },
    {
      "cell_type": "code",
      "metadata": {
        "id": "Mjs7Dj_tDifo",
        "colab_type": "code",
        "outputId": "468754c2-d716-4803-c864-b13a26b8386c",
        "colab": {
          "base_uri": "https://localhost:8080/",
          "height": 159
        }
      },
      "source": [
        "## Define the Xavier initialization\n",
        "xav_init =  tf.contrib.layers.xavier_initializer()\n",
        "## Define the L2 regularizer\n",
        "l2_regularizer = tf.contrib.layers.l2_regularizer(l2_reg)"
      ],
      "execution_count": 10,
      "outputs": [
        {
          "output_type": "stream",
          "text": [
            "WARNING:tensorflow:\n",
            "The TensorFlow contrib module will not be included in TensorFlow 2.0.\n",
            "For more information, please see:\n",
            "  * https://github.com/tensorflow/community/blob/master/rfcs/20180907-contrib-sunset.md\n",
            "  * https://github.com/tensorflow/addons\n",
            "  * https://github.com/tensorflow/io (for I/O related ops)\n",
            "If you depend on functionality not listed there, please file an issue.\n",
            "\n"
          ],
          "name": "stdout"
        }
      ]
    },
    {
      "cell_type": "code",
      "metadata": {
        "id": "vTed8cIIDifr",
        "colab_type": "code",
        "colab": {}
      },
      "source": [
        "## Create the dense layer\n",
        "dense_layer = partial(tf.layers.dense,\n",
        "                         activation=tf.nn.elu,\n",
        "                         kernel_initializer=xav_init,\n",
        "                         kernel_regularizer=l2_regularizer)"
      ],
      "execution_count": 0,
      "outputs": []
    },
    {
      "cell_type": "code",
      "metadata": {
        "id": "aPUAGCXsDifu",
        "colab_type": "code",
        "outputId": "0d1d09e8-8935-4f32-e217-fcce1716726a",
        "colab": {
          "base_uri": "https://localhost:8080/",
          "height": 143
        }
      },
      "source": [
        "## Make the mat mul\n",
        "hidden_1 = dense_layer(features, n_hidden_1)\n",
        "hidden_2 = dense_layer(hidden_1, n_hidden_2)\n",
        "hidden_3 = dense_layer(hidden_2, n_hidden_3)\n",
        "outputs = dense_layer(hidden_3, n_outputs, activation=None)"
      ],
      "execution_count": 12,
      "outputs": [
        {
          "output_type": "stream",
          "text": [
            "WARNING:tensorflow:From <ipython-input-12-6f5852ed101b>:1: dense (from tensorflow.python.layers.core) is deprecated and will be removed in a future version.\n",
            "Instructions for updating:\n",
            "Use keras.layers.Dense instead.\n",
            "WARNING:tensorflow:From /usr/local/lib/python3.6/dist-packages/tensorflow_core/python/layers/core.py:187: Layer.apply (from tensorflow.python.keras.engine.base_layer) is deprecated and will be removed in a future version.\n",
            "Instructions for updating:\n",
            "Please use `layer.__call__` method instead.\n"
          ],
          "name": "stdout"
        }
      ]
    },
    {
      "cell_type": "code",
      "metadata": {
        "id": "mzDuyNr_Difx",
        "colab_type": "code",
        "colab": {}
      },
      "source": [
        "loss = tf.reduce_mean(tf.square(outputs - features))"
      ],
      "execution_count": 0,
      "outputs": []
    },
    {
      "cell_type": "code",
      "metadata": {
        "id": "9T9LnbG6E3Yi",
        "colab_type": "code",
        "colab": {}
      },
      "source": [
        "## Optimize\n",
        "loss = tf.reduce_mean(tf.square(outputs - features))\n",
        "optimizer = tf.train.AdamOptimizer(learning_rate)\n",
        "train  = optimizer.minimize(loss)"
      ],
      "execution_count": 0,
      "outputs": []
    },
    {
      "cell_type": "code",
      "metadata": {
        "id": "szIEJg8NDif1",
        "colab_type": "code",
        "outputId": "c2fb5fed-007e-4637-81d7-50637622c0b5",
        "colab": {
          "base_uri": "https://localhost:8080/",
          "height": 35
        }
      },
      "source": [
        "BATCH_SIZE = 150\n",
        "### Number of batches :  length dataset / batch size\n",
        "n_batches = horse_x.shape[0] // BATCH_SIZE\n",
        "print(n_batches)"
      ],
      "execution_count": 15,
      "outputs": [
        {
          "output_type": "stream",
          "text": [
            "33\n"
          ],
          "name": "stdout"
        }
      ]
    },
    {
      "cell_type": "code",
      "metadata": {
        "id": "L17JU_SXDif4",
        "colab_type": "code",
        "outputId": "e466fb83-e13f-4f78-dd6d-32d5b00425af",
        "colab": {
          "base_uri": "https://localhost:8080/",
          "height": 247
        }
      },
      "source": [
        "## Set params\n",
        "n_epochs = 100\n",
        "\n",
        "## Call Saver to save the model and re-use it later during evaluation\n",
        "saver = tf.train.Saver()\n",
        "\n",
        "with tf.Session() as sess:\n",
        "    sess.run(tf.global_variables_initializer())\n",
        "    # initialise iterator with train data\n",
        "    sess.run(iter.initializer, feed_dict={x: horse_x,\n",
        "                                          batch_size: BATCH_SIZE})\n",
        "    print('Training...')\n",
        "    print(sess.run(features).shape) \n",
        "    for epoch in range(n_epochs):       \n",
        "        for iteration in range(n_batches):\n",
        "            sess.run(train)\n",
        "        if epoch % 10 == 0:\n",
        "            loss_train = loss.eval()   # not shown\n",
        "            print(\"\\r{}\".format(epoch), \"Train MSE:\", loss_train) \n",
        "        #saver.save(sess, \"./my_model_all_layers.ckpt\") \n",
        "    save_path = saver.save(sess, \"./model.ckpt\")    \n",
        "    print(\"Model saved in path: %s\" % save_path) "
      ],
      "execution_count": 16,
      "outputs": [
        {
          "output_type": "stream",
          "text": [
            "Training...\n",
            "(150, 1024)\n",
            "0 Train MSE: 2863.6428\n",
            "10 Train MSE: 1792.6427\n",
            "20 Train MSE: 1514.7784\n",
            "30 Train MSE: 1406.7626\n",
            "40 Train MSE: 1394.1823\n",
            "50 Train MSE: 1482.4424\n",
            "60 Train MSE: 1619.7136\n",
            "70 Train MSE: 1463.7917\n",
            "80 Train MSE: 1430.4425\n",
            "90 Train MSE: 1482.9819\n",
            "Model saved in path: ./model.ckpt\n"
          ],
          "name": "stdout"
        }
      ]
    },
    {
      "cell_type": "code",
      "metadata": {
        "id": "7N8yGFMVDif6",
        "colab_type": "code",
        "colab": {}
      },
      "source": [
        "test_data = unpickle('gdrive/My Drive/Colab Notebooks/cifar-10-batches-py/test_batch')\n",
        "test_x = grayscale(test_data['data'])\n",
        "#test_labels = np.array(test_data['labels'])"
      ],
      "execution_count": 0,
      "outputs": []
    },
    {
      "cell_type": "code",
      "metadata": {
        "id": "gRTCOjGPDif-",
        "colab_type": "code",
        "outputId": "ec175c22-8689-4135-a6b5-b9a152c6dfec",
        "colab": {
          "base_uri": "https://localhost:8080/",
          "height": 248
        }
      },
      "source": [
        "plot_image(test_x[13], shape=[32, 32], cmap = \"Greys_r\")"
      ],
      "execution_count": 18,
      "outputs": [
        {
          "output_type": "display_data",
          "data": {
            "image/png": "[encoded data removed]",
            "text/plain": [
              "<Figure size 432x288 with 1 Axes>"
            ]
          },
          "metadata": {
            "tags": []
          }
        }
      ]
    },
    {
      "cell_type": "code",
      "metadata": {
        "id": "bJBN5z6cDigC",
        "colab_type": "code",
        "colab": {}
      },
      "source": [
        "def reconstruct_image(df, image_number = 1):\n",
        "    ## Part 1: Reshape the image to the correct dimension i.e 1, 1024\n",
        "    x_test = df[image_number]\n",
        "    x_test_1 = x_test.reshape((1, 32*32))\n",
        "    \n",
        "    ## Part 2: Feed the model with the unseen image, encode/decode the image\n",
        "    with tf.Session() as sess:     \n",
        "        sess.run(tf.global_variables_initializer()) \n",
        "        sess.run(iter.initializer, feed_dict={x: x_test_1,\n",
        "                                      batch_size: 1})\n",
        "    ## Part 3:  Print the real and reconstructed image\n",
        "      # Restore variables from disk.\n",
        "        saver.restore(sess, \"./model.ckpt\")  \n",
        "        print(\"Model restored.\")\n",
        "      # Reconstruct image\n",
        "        outputs_val = outputs.eval()\n",
        "        print(outputs_val.shape)\n",
        "        fig = plt.figure()\n",
        "      # Plot real\n",
        "        ax1 = fig.add_subplot(121)\n",
        "        plot_image(x_test_1, shape=[32, 32], cmap = \"Greys_r\")\n",
        "      # Plot estimated\n",
        "        ax2 = fig.add_subplot(122)\n",
        "        plot_image(outputs_val, shape=[32, 32], cmap = \"Greys_r\")\n",
        "        plt.tight_layout()\n",
        "        fig = plt.gcf()"
      ],
      "execution_count": 0,
      "outputs": []
    },
    {
      "cell_type": "code",
      "metadata": {
        "id": "YmB5KuRuDigF",
        "colab_type": "code",
        "outputId": "d2bc66c5-4862-4488-f5b1-f935e26231a5",
        "colab": {
          "base_uri": "https://localhost:8080/",
          "height": 284
        }
      },
      "source": [
        "reconstruct_image(df =test_x, image_number = 13)"
      ],
      "execution_count": 20,
      "outputs": [
        {
          "output_type": "stream",
          "text": [
            "INFO:tensorflow:Restoring parameters from ./model.ckpt\n",
            "Model restored.\n",
            "(1, 1024)\n"
          ],
          "name": "stdout"
        },
        {
          "output_type": "display_data",
          "data": {
            "image/png": "[encoded data removed]",
            "text/plain": [
              "<Figure size 432x288 with 2 Axes>"
            ]
          },
          "metadata": {
            "tags": []
          }
        }
      ]
    },
    {
      "cell_type": "code",
      "metadata": {
        "id": "tGB22KwqDigH",
        "colab_type": "code",
        "outputId": "b061e715-3778-47f5-8d57-487a847846f0",
        "colab": {
          "base_uri": "https://localhost:8080/",
          "height": 284
        }
      },
      "source": [
        "reconstruct_image(df =test_x, image_number = 100)\t"
      ],
      "execution_count": 21,
      "outputs": [
        {
          "output_type": "stream",
          "text": [
            "INFO:tensorflow:Restoring parameters from ./model.ckpt\n",
            "Model restored.\n",
            "(1, 1024)\n"
          ],
          "name": "stdout"
        },
        {
          "output_type": "display_data",
          "data": {
            "image/png": "[encoded data removed]",
            "text/plain": [
              "<Figure size 432x288 with 2 Axes>"
            ]
          },
          "metadata": {
            "tags": []
          }
        }
      ]
    },
    {
      "cell_type": "code",
      "metadata": {
        "id": "iYgHamhqDigJ",
        "colab_type": "code",
        "colab": {}
      },
      "source": [
        ""
      ],
      "execution_count": 0,
      "outputs": []
    }
  ]
}